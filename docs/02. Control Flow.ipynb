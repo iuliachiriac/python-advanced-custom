{
 "cells": [
  {
   "cell_type": "markdown",
   "id": "4d02ad78-04a3-4504-aefb-e71ceddbdc54",
   "metadata": {},
   "source": [
    "## 1. Assignment expressions (`:=`)\n",
    "\n",
    "Assignment expressions allow assigning values to variables as part of an expression. Also known as “the walrus operator” due to its resemblance to the eyes and tusks of a walrus, the `:=` operator was introduced in Python 3.8. It provides a way to both evaluate and assign a value in a single, concise statement, enhancing readability and efficiency in certain scenarios.\n",
    "\n",
    "#### Syntax\n",
    "\n",
    "```python\n",
    "variable := expression\n",
    "```\n",
    "\n",
    "#### Key Features\n",
    "\n",
    "1. **Inline Assignment:**\n",
    "   - The walrus operator enables the assignment of a value to a variable within an expression, such as in a condition of an `if` statement, a loop, or a comprehension.\n",
    "\n",
    "2. **Improved Readability:**\n",
    "   - By combining assignment and condition checking, the walrus operator can make code more readable and reduce redundancy.\n",
    "\n",
    "3. **Performance:**\n",
    "   - It can improve performance by avoiding repeated evaluations of the same expression.\n",
    "\n",
    "#### Examples\n",
    "\n",
    "##### Using the Walrus Operator in `while` Loops\n",
    "\n",
    "- Before the walrus operator:"
   ]
  },
  {
   "cell_type": "code",
   "execution_count": 1,
   "id": "5e52e4fb-7ab5-44e0-9773-65b994063e23",
   "metadata": {},
   "outputs": [
    {
     "name": "stdin",
     "output_type": "stream",
     "text": [
      "Enter something:  test\n"
     ]
    },
    {
     "name": "stdout",
     "output_type": "stream",
     "text": [
      "You entered: test\n"
     ]
    },
    {
     "name": "stdin",
     "output_type": "stream",
     "text": [
      "Enter something:  quit\n"
     ]
    }
   ],
   "source": [
    "line = input(\"Enter something: \")\n",
    "while line != \"quit\":\n",
    "    print(f\"You entered: {line}\")\n",
    "    line = input(\"Enter something: \")"
   ]
  },
  {
   "cell_type": "markdown",
   "id": "abbae63f-87aa-471b-ba4f-77003bd8a4e7",
   "metadata": {},
   "source": [
    "- With the walrus operator:"
   ]
  },
  {
   "cell_type": "code",
   "execution_count": 2,
   "id": "53d45bc5-6b38-4bcc-8d24-9cf8bc66b69e",
   "metadata": {},
   "outputs": [
    {
     "name": "stdin",
     "output_type": "stream",
     "text": [
      "Enter something:  hello\n"
     ]
    },
    {
     "name": "stdout",
     "output_type": "stream",
     "text": [
      "You entered: hello\n"
     ]
    },
    {
     "name": "stdin",
     "output_type": "stream",
     "text": [
      "Enter something:  quit\n"
     ]
    }
   ],
   "source": [
    "while (line := input(\"Enter something: \")) != \"quit\":\n",
    "    print(f\"You entered: {line}\")"
   ]
  },
  {
   "cell_type": "markdown",
   "id": "1004173c-582d-4e54-a964-0845eb0d8f60",
   "metadata": {},
   "source": [
    "##### Using the Walrus Operator in `if` Statements\n",
    "\n",
    "- Before the walrus operator:"
   ]
  },
  {
   "cell_type": "code",
   "execution_count": 3,
   "id": "fd8f4841-8a32-44b8-bd97-639e450bbbb8",
   "metadata": {},
   "outputs": [
    {
     "name": "stdout",
     "output_type": "stream",
     "text": [
      "List is too long (6 elements)\n"
     ]
    }
   ],
   "source": [
    "some_list = [7, 8, 2, 4, 7, 1]\n",
    "value = len(some_list)\n",
    "if value > 5:\n",
    "    print(f\"List is too long ({value} elements)\")"
   ]
  },
  {
   "cell_type": "markdown",
   "id": "1a3f137c-e9f6-4e20-ad1b-7e7d3f0d88a2",
   "metadata": {},
   "source": [
    "- With the walrus operator:"
   ]
  },
  {
   "cell_type": "code",
   "execution_count": 4,
   "id": "0b4301ca-1081-4883-98aa-8d9095e37b74",
   "metadata": {},
   "outputs": [
    {
     "name": "stdout",
     "output_type": "stream",
     "text": [
      "List is too long (6 elements)\n"
     ]
    }
   ],
   "source": [
    "some_list = [7, 8, 2, 4, 7, 1]\n",
    "if (value := len(some_list)) > 5:\n",
    "    print(f\"List is too long ({value} elements)\")"
   ]
  },
  {
   "cell_type": "markdown",
   "id": "e08a21b9-f809-41b2-983a-ebfdcae17754",
   "metadata": {},
   "source": [
    "Find more examples in the [PEP](https://peps.python.org/pep-0572/#examples) documenting assignment expressions.\n",
    "\n",
    "#### Best Practices\n",
    "\n",
    "- **Readability First:** While the walrus operator can make code more concise, it's important to ensure that the code remains readable.\n",
    "- **Use Judiciously:** Avoid overusing the walrus operator, especially in complex expressions where it might reduce clarity.\n",
    "- **Python 3.8+:** Remember that the walrus operator is available only in Python 3.8 and later.\n",
    "\n",
    "### Exercises 1\n",
    "\n",
    "[!] For exercises 1 and 3, you can write two implementations: with and without walrus operator, and compare the two implementations.\n",
    "\n",
    "1. Write a program that saves user inputs in a list. The program should stop asking the user to enter a word when the user doesn't enter anything (presses Enter).\n",
    "1. Rewrite the following code using walrus operator:\n",
    "    ```python\n",
    "    budget = 100\n",
    "    total = 0\n",
    "    \n",
    "    while True:\n",
    "        expense = float(input(\"Enter an expense (or -1 to quit): \"))\n",
    "        if expense == -1:\n",
    "            break\n",
    "            \n",
    "        total = total + expense\n",
    "        if total > budget:\n",
    "            print(f\"Budget exceeded! Total: ${total:.2f}\")\n",
    "            break\n",
    "    \n",
    "        print(f\"Current total: ${total:.2f}, Remaining budget: ${budget - total:.2f}\")\n",
    "    ```\n",
    "1. Imagine you have users coming from three different sources, in different formats:\n",
    "    ```python\n",
    "    {\"name\": \"Jane Addams\"}\n",
    "    {\"full_name\": \"Jane Addams\"}\n",
    "    {\"first_name\": \"Jane\", \"last_name\": \"Addams\"}\n",
    "    ```\n",
    "    Write a function that can extract a user's first name.\n",
    "\n",
    "## 2. `match` Statements\n",
    "\n",
    "Introduced in Python 3.10, the `match` statement brings pattern matching capabilities to Python, allowing for more expressive and readable code when dealing with complex data structures. This feature is particularly useful for handling multiple conditions and branching logic in a clean and concise manner. Only the first pattern that matches gets executed and it can also extract components (sequence elements or object attributes) from the value into variables.\n",
    "\n",
    "#### Syntax\n",
    "\n",
    "```python\n",
    "match subject:\n",
    "    case pattern1:\n",
    "        # action for pattern1\n",
    "    case pattern2:\n",
    "        # action for pattern2\n",
    "    ...\n",
    "    case _:\n",
    "        # default action if no patterns match\n",
    "```\n",
    "\n",
    "- **`match` Statement:** The keyword `match` is followed by the subject expression to be matched.\n",
    "- **`case` Clauses:** Each `case` clause specifies a pattern and the corresponding action if the pattern matches.\n",
    "- **Wildcard (`_`):** The wildcard `_` acts as a catch-all pattern, matching any value that hasn't matched any previous patterns.\n",
    "\n",
    "#### Examples\n",
    "\n",
    "##### Matching Simple Values\n",
    "\n",
    "Consider a function that returns a message based on HTTP status codes. The `match` statement simplifies the branching logic:"
   ]
  },
  {
   "cell_type": "code",
   "execution_count": 5,
   "id": "986453fa-1300-4b35-ac2f-36c128c946d3",
   "metadata": {},
   "outputs": [],
   "source": [
    "def http_status(code):\n",
    "    match code:\n",
    "        case 200:\n",
    "            return \"OK\"\n",
    "        case 404:\n",
    "            return \"Not Found\"\n",
    "        case 401 | 403 | 405:  # several values can be combined in a single pattern\n",
    "            return \"Not Allowed\"\n",
    "        case 500:\n",
    "            return \"Internal Server Error\"\n",
    "        case _:\n",
    "            return \"Unknown Status\""
   ]
  },
  {
   "cell_type": "code",
   "execution_count": 6,
   "id": "5b93c0ad-b2c0-4a98-a06c-bc4fb55f7cc6",
   "metadata": {},
   "outputs": [
    {
     "data": {
      "text/plain": [
       "'OK'"
      ]
     },
     "execution_count": 6,
     "metadata": {},
     "output_type": "execute_result"
    }
   ],
   "source": [
    "http_status(200)"
   ]
  },
  {
   "cell_type": "code",
   "execution_count": 7,
   "id": "dca23b6a-86bf-4836-90aa-bdb235412679",
   "metadata": {},
   "outputs": [
    {
     "data": {
      "text/plain": [
       "'Unknown Status'"
      ]
     },
     "execution_count": 7,
     "metadata": {},
     "output_type": "execute_result"
    }
   ],
   "source": [
    "http_status(201)"
   ]
  },
  {
   "cell_type": "code",
   "execution_count": 8,
   "id": "549a1147-a0db-4e19-aec4-c53a9ef3c5ae",
   "metadata": {},
   "outputs": [
    {
     "data": {
      "text/plain": [
       "'Not Allowed'"
      ]
     },
     "execution_count": 8,
     "metadata": {},
     "output_type": "execute_result"
    }
   ],
   "source": [
    "http_status(403)"
   ]
  },
  {
   "cell_type": "markdown",
   "id": "b95de0f9-5e02-44dc-be98-405c88990a00",
   "metadata": {},
   "source": [
    "In this example, the function `http_status` uses a `match` statement to return messages based on the HTTP status code provided. The `_` case acts as a default, catching any status codes not explicitly handled.\n",
    "\n",
    "##### Binding variables\n",
    "\n",
    "In the example above, we matched against numeric literals - actual values being compared to our variable. But we can also match against sequences, and also we can extract parts of the matched expression into variables:"
   ]
  },
  {
   "cell_type": "code",
   "execution_count": 9,
   "id": "92fa248a-a060-446a-acd7-84c7bf785e43",
   "metadata": {},
   "outputs": [
    {
     "name": "stdout",
     "output_type": "stream",
     "text": [
      "Origin\n",
      "Point on x axis (X=15)\n",
      "Point on y axis (Y=6)\n",
      "X=4, Y=5\n",
      "Not a point\n",
      "Not a point\n"
     ]
    }
   ],
   "source": [
    "def process_tuple(point):\n",
    "    match point:\n",
    "        case (0, 0):\n",
    "            print(\"Origin\")\n",
    "        case (0, y):\n",
    "            print(f\"Point on y axis (Y={y})\")\n",
    "        case (x, 0):\n",
    "            print(f\"Point on x axis (X={x})\")\n",
    "        case (x, y):\n",
    "            print(f\"X={x}, Y={y}\")\n",
    "        case _:\n",
    "            print(\"Not a point\")\n",
    "\n",
    "process_tuple((0, 0))\n",
    "process_tuple((15, 0))\n",
    "process_tuple((0, 6))\n",
    "process_tuple((4, 5))\n",
    "process_tuple((0, 2, 3))\n",
    "process_tuple(100)"
   ]
  },
  {
   "cell_type": "markdown",
   "id": "4f1e90fb-a0c3-494d-b8ff-54cc37025734",
   "metadata": {},
   "source": [
    "##### Matching Dictionaries\n",
    "\n",
    "You may need to handle dictionaries with specific keys:"
   ]
  },
  {
   "cell_type": "code",
   "execution_count": 10,
   "id": "2bf45749-0d41-4d85-87e8-1fe4493b035a",
   "metadata": {},
   "outputs": [
    {
     "name": "stdout",
     "output_type": "stream",
     "text": [
      "Dictionary with key1=1, key2=2\n",
      "Dictionary with key1=1 and other keys\n",
      "Other dictionary\n"
     ]
    }
   ],
   "source": [
    "def process_dict(d):\n",
    "    match d:\n",
    "        case {\"key1\": value1, \"key2\": value2}:\n",
    "            print(f\"Dictionary with key1={value1}, key2={value2}\")\n",
    "        case {\"key1\": value1}:\n",
    "            print(f\"Dictionary with key1={value1} and other keys\")\n",
    "        case _:\n",
    "            print(\"Other dictionary\")\n",
    "\n",
    "process_dict({\"key1\": 1, \"key2\": 2, \"key3\": 3}) \n",
    "process_dict({\"key1\": 1, \"key3\": 3})\n",
    "process_dict({\"key3\": 3, \"key4\": 4})"
   ]
  },
  {
   "cell_type": "markdown",
   "id": "8d000bb2-8d6c-4b55-88e1-4efd58b2fcbe",
   "metadata": {},
   "source": [
    "The function `process_dict` matches dictionaries based on the presence of specific keys and handles them accordingly.\n",
    "\n",
    "##### Matching Class Instances\n",
    "\n",
    "If you are using classes to structure your data you can use the class name followed by an argument list resembling a constructor, but with the ability to capture attributes into variables:"
   ]
  },
  {
   "cell_type": "code",
   "execution_count": 11,
   "id": "f354fa3e-7ba7-4bed-958f-d51b258ad414",
   "metadata": {},
   "outputs": [],
   "source": [
    "class Point:\n",
    "    def __init__(self, x, y):\n",
    "        self.x = x\n",
    "        self.y = y\n",
    "\n",
    "def process_point(point):\n",
    "    match point:\n",
    "        case Point(x=0, y=0):\n",
    "            print(\"Origin\")\n",
    "        case Point(x=0):\n",
    "            print(f\"Y={point.y}\")\n",
    "        case Point(x=x, y=0):\n",
    "            print(f\"X={x}\")\n",
    "        case Point():\n",
    "            print(\"Somewhere else\")\n",
    "        case _:\n",
    "            print(\"Not a point\")"
   ]
  },
  {
   "cell_type": "code",
   "execution_count": 12,
   "id": "cae1e0b7-fd60-453a-975e-f9bfced3d3bb",
   "metadata": {},
   "outputs": [
    {
     "name": "stdout",
     "output_type": "stream",
     "text": [
      "Somewhere else\n"
     ]
    }
   ],
   "source": [
    "point = Point(1, 2)\n",
    "process_point(point)"
   ]
  },
  {
   "cell_type": "code",
   "execution_count": 13,
   "id": "2ab8748a-2065-4f70-a646-5ee30c3a79c3",
   "metadata": {},
   "outputs": [
    {
     "name": "stdout",
     "output_type": "stream",
     "text": [
      "Y=2\n"
     ]
    }
   ],
   "source": [
    "point = Point(0, 2)\n",
    "process_point(point)"
   ]
  },
  {
   "cell_type": "code",
   "execution_count": 14,
   "id": "801e9041-a821-4990-9103-3fae6686cf7e",
   "metadata": {},
   "outputs": [
    {
     "name": "stdout",
     "output_type": "stream",
     "text": [
      "Not a point\n"
     ]
    }
   ],
   "source": [
    "not_a_point = (1, 2)\n",
    "process_point(not_a_point)"
   ]
  },
  {
   "cell_type": "markdown",
   "id": "b6dab463-03bf-426f-a004-1816ed59328d",
   "metadata": {},
   "source": [
    "In this example, the `process_point` function matches an instance of the `Point` class and extracts its attributes.\n",
    "\n",
    "##### Using Guards\n",
    "\n",
    "We can add an if clause to a pattern, known as a “guard”. If the guard is false, match goes on to try the next case block. Note that value capture happens before the guard is evaluated:"
   ]
  },
  {
   "cell_type": "code",
   "execution_count": 15,
   "id": "a7c1873b-510e-4834-bfc0-2200cd449345",
   "metadata": {},
   "outputs": [],
   "source": [
    "def is_diagonal(point):\n",
    "    match point:\n",
    "        case (x, y) if x == y:\n",
    "            print(f\"Y=X at {x}\")\n",
    "            return True\n",
    "        case _:\n",
    "            print(f\"Not on the diagonal\")\n",
    "            return False"
   ]
  },
  {
   "cell_type": "code",
   "execution_count": 16,
   "id": "30dd3c33-fb26-42e4-994a-ec6cc5b0cfe8",
   "metadata": {},
   "outputs": [
    {
     "name": "stdout",
     "output_type": "stream",
     "text": [
      "Y=X at 2\n"
     ]
    },
    {
     "data": {
      "text/plain": [
       "True"
      ]
     },
     "execution_count": 16,
     "metadata": {},
     "output_type": "execute_result"
    }
   ],
   "source": [
    "is_diagonal((2, 2))"
   ]
  },
  {
   "cell_type": "markdown",
   "id": "8aea2922-9e69-48e8-bb4d-a9a502d47b33",
   "metadata": {},
   "source": [
    "#### Advantages of Match Expressions\n",
    "\n",
    "- **Readability:** Provides a clear and concise way to handle complex conditional logic.\n",
    "- **Expressiveness:** Enables pattern matching for different data structures, including sequences and mappings.\n",
    "- **Maintainability:** Improves code maintainability by reducing nested `if-elif-else` structures.\n",
    "\n",
    "### Exercises 2\n",
    "\n",
    "1. Write a function `describe_day` that takes an integer representing a day of the week (1 for Monday, 2 for Tuesday, etc.) and returns a description of the day. Use the `match` statement to handle the following cases:\n",
    "    - If the day is 1, return \"Start of the work week\".\n",
    "    - If the day is 2, 3, or 4, return \"Middle of the work week\".\n",
    "    - If the day is 5, return \"End of the work week\".\n",
    "    - If the day is 6 or 7, return \"Weekend\".\n",
    "    - For any other value, return \"Invalid day\".\n",
    "\n",
    "1. Write a function that receives a dictionary and, using a match expression, returns a tuple `(name, age)`, where `name` will be either the value under key `name` or the values under `first_name` and `last_name` concatenated with a space between them, and `age` will be the value under key `age`. For any other dictionary, it will return a tuple of `(None, None)`. Examples of inputs and outputs:\n",
    "\n",
    "     ```python\n",
    "    {\"name\": \"Jane Addams\", \"age\": 23} -> (\"Jane Addams\", 23)\n",
    "    {\"first_name\": \"Jane\", \"last_name\": \"Addams\", \"age\": 54} -> (\"Jane Addams\", 54)\n",
    "    {\"hello\": 5} -> (None, None)\n",
    "    ```\n",
    "\n",
    "1. Create a function `categorize_date` that takes a date object and categorizes it based on the month and day. Use the `match` statement to handle the following cases:\n",
    "    - If the date is January 1st, return \"New Year's Day\".\n",
    "    - If the date is December 25th, return \"Christmas Day\".\n",
    "    - If the date is your birthday, return \"My Birthday\".\n",
    "    - If the month is December, but not December 25th, return \"December\".\n",
    "    - If the month is a summer month (June, July, August), return \"Summer\".\n",
    "    - For any other date, return \"Regular day\"."
   ]
  }
 ],
 "metadata": {
  "kernelspec": {
   "display_name": "Python 3 (ipykernel)",
   "language": "python",
   "name": "python3"
  },
  "language_info": {
   "codemirror_mode": {
    "name": "ipython",
    "version": 3
   },
   "file_extension": ".py",
   "mimetype": "text/x-python",
   "name": "python",
   "nbconvert_exporter": "python",
   "pygments_lexer": "ipython3",
   "version": "3.13.0"
  }
 },
 "nbformat": 4,
 "nbformat_minor": 5
}
