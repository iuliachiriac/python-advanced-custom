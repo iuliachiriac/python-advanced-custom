{
 "cells": [
  {
   "cell_type": "markdown",
   "metadata": {},
   "source": [
    "## 1. File manipulation using `open` built-in function\n",
    "\n",
    "`open()` returns a file object, and is most commonly used with two arguments: `open(filename, mode)`.\n",
    "\n",
    "The first argument is a string containing the filename. The second argument is another string containing a few characters describing the way in which the file will be used. `mode` can be `'r'` when the file will only be read, `'w'` for only writing (an existing file with the same name will be erased), and `'a'` opens the file for appending; any data written to the file is automatically added to the end. `'r+'` opens the file for both reading and writing. The `mode` argument is optional; `'r'` will be assumed if it’s omitted.\n",
    "\n",
    "Normally, files are opened in *text mode*, that means, you read and write strings from and to the file, which are encoded in a specific encoding. If `encoding` is not specified, the default is platform dependent (`locale.getpreferredencoding(False)` is called to get the current locale encoding). `'b'` appended to the mode opens the file in *binary mode*: now the data is read and written in the form of bytes objects. This mode should be used for all files that don’t contain text.\n",
    "\n",
    "| Character | Meaning                                                         |\n",
    "|-----------|-----------------------------------------------------------------|\n",
    "| `r`       | open for reading (default)                                      |\n",
    "| `w`       | open for writing, truncating the file first                     |\n",
    "| `x`       | open for exclusive creation, failing if the file already exists |\n",
    "| `a`       | open for writing, appending to the end of the file if it exists |\n",
    "| `b`       | binary mode                                                     |\n",
    "| `t`       | text mode (default)                                             |\n",
    "| `+`       | open for updating (reading and writing)                         |\n",
    "\n",
    "### Context managers (`with` statement)\n",
    "\n",
    "It is good practice to use the `with` keyword when dealing with file objects. The advantage is that the file is properly closed after its suite finishes, even if an exception is raised at some point. Using `with` is also much shorter than writing equivalent `try-finally` blocks:\n",
    "\n",
    "```python\n",
    "with open('workfile') as f:\n",
    "    read_data = f.read()\n",
    "```\n",
    "\n",
    "The equivalent `try-finally` block of the `with` block above would be:\n",
    "\n",
    "```python\n",
    "f = open('workfile')\n",
    "try:\n",
    "    read_data = f.read()\n",
    "finally:\n",
    "    f.close()\n",
    "```\n",
    "\n",
    "While comparing it to the first example we can see that a lot of boilerplate code is eliminated just by using `with`. The main advantage of using a with statement is that it makes sure our file is closed without paying attention to how the nested block exits.\n",
    "\n",
    "The `with` statement is used to wrap the execution of a block with methods defined by a context manager. A context manager is an object that defines the runtime context to be established when executing a `with` statement. The context manager handles the entry into, and the exit from, the desired runtime context for the execution of the block of code. \n",
    "\n",
    "Typical uses of context managers include saving and restoring various kinds of global state, locking and unlocking resources, closing opened files, etc.\n",
    "\n",
    "### Methods of File Objects\n",
    "\n",
    "To read a file’s contents, call `f.read(size)`, which reads some quantity of data and returns it as a string (in text mode) or bytes object (in binary mode). `size` is an optional numeric argument. When `size` is omitted or negative, the entire contents of the file will be read and returned; it’s your problem if the file is twice as large as your machine’s memory. Otherwise, at most `size` characters (in text mode) or `size` bytes (in binary mode) are read and returned. If the end of the file has been reached, `f.read()` will return an empty string.\n",
    "\n"
   ]
  },
  {
   "cell_type": "code",
   "execution_count": 1,
   "metadata": {},
   "outputs": [
    {
     "data": {
      "text/plain": [
       "'Beautiful is better '"
      ]
     },
     "execution_count": 1,
     "metadata": {},
     "output_type": "execute_result"
    }
   ],
   "source": [
    "f = open('file_example.txt', 'r+')\n",
    "f.read(20)"
   ]
  },
  {
   "cell_type": "markdown",
   "metadata": {},
   "source": [
    "`f.readline()` reads a single line from the file:"
   ]
  },
  {
   "cell_type": "code",
   "execution_count": 2,
   "metadata": {},
   "outputs": [
    {
     "name": "stdout",
     "output_type": "stream",
     "text": [
      "than ugly.\n",
      "Explicit is better than implicit.\n"
     ]
    }
   ],
   "source": [
    "print(f.readline(), end='')\n",
    "print(f.readline(), end='')"
   ]
  },
  {
   "cell_type": "markdown",
   "metadata": {},
   "source": [
    "For reading lines from a file, you can loop over the file object. This is memory efficient, fast, and leads to simple code:"
   ]
  },
  {
   "cell_type": "code",
   "execution_count": 3,
   "metadata": {},
   "outputs": [
    {
     "name": "stdout",
     "output_type": "stream",
     "text": [
      "Simple is better than complex.\n",
      "Complex is better than complicated.\n",
      "Flat is better than nested.\n",
      "Sparse is better than dense.\n",
      "Readability counts.\n",
      "Readability counts.\n",
      "Readability counts.\n",
      "Readability counts.\n",
      "Readability counts.\n",
      "Readability counts.\n",
      "Readability counts.\n",
      "Readability counts.\n"
     ]
    }
   ],
   "source": [
    "for line in f:\n",
    "    print(line, end='')"
   ]
  },
  {
   "cell_type": "markdown",
   "metadata": {},
   "source": [
    "If you want to read all the lines of a file in a list you can also use `list(f)` or `f.readlines()`.\n",
    "\n",
    "`f.write(string)` writes the contents of string to the file, returning the number of characters written."
   ]
  },
  {
   "cell_type": "code",
   "execution_count": 4,
   "metadata": {},
   "outputs": [
    {
     "data": {
      "text/plain": [
       "20"
      ]
     },
     "execution_count": 4,
     "metadata": {},
     "output_type": "execute_result"
    }
   ],
   "source": [
    "f.write('Readability counts.\\n')"
   ]
  },
  {
   "cell_type": "markdown",
   "metadata": {},
   "source": [
    "`f.tell()` returns an integer giving the file object’s current position in the file represented as number of bytes from the beginning of the file when in binary mode and an opaque number when in text mode."
   ]
  },
  {
   "cell_type": "code",
   "execution_count": 5,
   "metadata": {},
   "outputs": [
    {
     "data": {
      "text/plain": [
       "369"
      ]
     },
     "execution_count": 5,
     "metadata": {},
     "output_type": "execute_result"
    }
   ],
   "source": [
    "f.tell()"
   ]
  },
  {
   "cell_type": "markdown",
   "metadata": {},
   "source": [
    "To change the file object’s position, use `f.seek(offset, whence)`. The position is computed from adding `offset` to a reference point; the reference point is selected by the `whence` argument. A `whence` value of 0 measures from the beginning of the file, 1 uses the current file position, and 2 uses the end of the file as the reference point. whence can be omitted and defaults to 0, using the beginning of the file as the reference point."
   ]
  },
  {
   "cell_type": "code",
   "execution_count": 6,
   "metadata": {},
   "outputs": [
    {
     "data": {
      "text/plain": [
       "'Beautiful '"
      ]
     },
     "execution_count": 6,
     "metadata": {},
     "output_type": "execute_result"
    }
   ],
   "source": [
    "f.seek(0)\n",
    "f.read(10)"
   ]
  },
  {
   "cell_type": "markdown",
   "metadata": {},
   "source": [
    "If you’re not using the `with` keyword, then you should call `f.close()` to close the file and immediately free up any system resources used by it. If you don’t explicitly close a file, Python’s garbage collector will eventually destroy the object and close the open file for you, but the file may stay open for a while."
   ]
  },
  {
   "cell_type": "code",
   "execution_count": 7,
   "metadata": {},
   "outputs": [],
   "source": [
    "f.close()"
   ]
  },
  {
   "cell_type": "markdown",
   "metadata": {},
   "source": [
    "## Exercises 1\n",
    "\n",
    "1. Write a function `grep` that receives `text` and `file` as parameters and returns a list with all the lines in the file containing `text`. \n",
    "1. Write another function `grepinto` that receives `text`, `infile` and `outfile` as parameters and writes to `outfile` the lines in `infile` that contain `text`. Open both files within one `with` statement. \n",
    "    \n",
    "    [!] `file`, `infile` and `outfile` are all file names - not file handlers.\n",
    "\n",
    "\n",
    "## 2. Working with the file system (`os`, `os.path`, `glob`)\n",
    "\n",
    "### `os`\n",
    "\n",
    "The `os` module contains functions to get information on local directories, files, processes, and environment variables.\n",
    "\n",
    "`os.getcwd()` - returns the current working directory"
   ]
  },
  {
   "cell_type": "code",
   "execution_count": 8,
   "metadata": {},
   "outputs": [
    {
     "name": "stdout",
     "output_type": "stream",
     "text": [
      "/Users/iulia/PycharmProjects/python-advanced-custom/docs\n"
     ]
    }
   ],
   "source": [
    "import os\n",
    "current_path = os.getcwd()\n",
    "print(current_path)"
   ]
  },
  {
   "cell_type": "markdown",
   "metadata": {},
   "source": [
    "`os.listdir(path)` - returns a list of all the entries in the directory given by `path`"
   ]
  },
  {
   "cell_type": "code",
   "execution_count": 9,
   "metadata": {},
   "outputs": [
    {
     "data": {
      "text/plain": [
       "['11. Concurrent execution.ipynb',\n",
       " 'employees.xml',\n",
       " 'out.txt',\n",
       " '15. Android API used with Python.ipynb',\n",
       " '03. More on functions and iterables.ipynb',\n",
       " '12. Logging.ipynb',\n",
       " 'images',\n",
       " '05. Decorators.ipynb',\n",
       " 'process_files.py',\n",
       " 'books.xml',\n",
       " 'Financial Sample.xlsx',\n",
       " 'output.json',\n",
       " '13. Other useful modules.ipynb',\n",
       " '16. Building Dashboards in Python .ipynb',\n",
       " 'users.json',\n",
       " 'file_example.txt',\n",
       " '10. Testing your code.ipynb',\n",
       " 'output.csv',\n",
       " 'data.csv',\n",
       " 'data.json',\n",
       " '07. Context Managers.ipynb',\n",
       " 'books.csv',\n",
       " '00. Table of Contents.ipynb',\n",
       " 'output.xml',\n",
       " '14. GUI automation.ipynb',\n",
       " '09. Working with databases.ipynb',\n",
       " 'out2.txt',\n",
       " 'output.xlsx',\n",
       " 'example.txt',\n",
       " '.ipynb_checkpoints',\n",
       " 'modified.xlsx',\n",
       " 'employees_modified.xml',\n",
       " '06. Object-Oriented Programming.ipynb',\n",
       " '04. Advanced Data Structures.ipynb',\n",
       " 'employees_updated.xml',\n",
       " 'output.txt',\n",
       " '02. Control Flow.ipynb',\n",
       " 'data_out.json',\n",
       " '08. Working with different data formats.ipynb',\n",
       " '01. PyCharm Overview.ipynb']"
      ]
     },
     "execution_count": 9,
     "metadata": {},
     "output_type": "execute_result"
    }
   ],
   "source": [
    "os.listdir(current_path)"
   ]
  },
  {
   "cell_type": "markdown",
   "metadata": {},
   "source": [
    "`os.mkdir(path)` - creates a directory\n",
    "\n",
    "`os.makedirs(path)` - creates directory recursively, by adding eventual missing directories "
   ]
  },
  {
   "cell_type": "code",
   "execution_count": 10,
   "metadata": {},
   "outputs": [],
   "source": [
    "os.mkdir('testdir')\n",
    "assert 'testdir' in os.listdir(current_path)"
   ]
  },
  {
   "cell_type": "markdown",
   "metadata": {},
   "source": [
    "`os.chdir()` - changes the current working directory"
   ]
  },
  {
   "cell_type": "code",
   "execution_count": 11,
   "metadata": {},
   "outputs": [
    {
     "name": "stdout",
     "output_type": "stream",
     "text": [
      "Items in testdir: []\n"
     ]
    }
   ],
   "source": [
    "os.chdir('testdir')\n",
    "print('Items in testdir:', os.listdir())\n",
    "os.chdir(current_path)"
   ]
  },
  {
   "cell_type": "markdown",
   "metadata": {},
   "source": [
    "`os.rename(source, dest)` - renames the file or directory "
   ]
  },
  {
   "cell_type": "code",
   "execution_count": 12,
   "metadata": {},
   "outputs": [],
   "source": [
    "os.rename('testdir', 'new_testdir')\n",
    "assert 'testdir' not in os.listdir(current_path)\n",
    "assert 'new_testdir' in os.listdir(current_path)"
   ]
  },
  {
   "cell_type": "markdown",
   "metadata": {},
   "source": [
    "`os.remove(path)` - removes a file\n",
    "\n",
    "`os.rmdir(path)` - removes the directory path\n",
    "\n",
    "`os.removedirs(path)` - Removes directories recursively"
   ]
  },
  {
   "cell_type": "code",
   "execution_count": 13,
   "metadata": {},
   "outputs": [],
   "source": [
    "os.rmdir('new_testdir')\n",
    "assert 'new_testdir' not in os.listdir(current_path)"
   ]
  },
  {
   "cell_type": "markdown",
   "metadata": {},
   "source": [
    "`os.walk(path)` - Directory tree generator. For each directory in the directory tree rooted at top, yields a 3-tuple `dirpath, dirnames, filenames`:\n",
    "    \n",
    "* `dirpath` is a string, the path to the directory.\n",
    "* `dirnames` is a list of the names of the subdirectories in `dirpath` (excluding '.' and '..').\n",
    "* `filenames` is a list of the names of the non-directory files in `dirpath`."
   ]
  },
  {
   "cell_type": "code",
   "execution_count": 14,
   "metadata": {},
   "outputs": [
    {
     "name": "stdout",
     "output_type": "stream",
     "text": [
      ". ['images', '.ipynb_checkpoints'] ['11. Concurrent execution.ipynb', 'employees.xml', 'out.txt', '15. Android API used with Python.ipynb', '03. More on functions and iterables.ipynb', '12. Logging.ipynb', '05. Decorators.ipynb', 'process_files.py', 'books.xml', 'Financial Sample.xlsx', 'output.json', '13. Other useful modules.ipynb', '16. Building Dashboards in Python .ipynb', 'users.json', 'file_example.txt', '10. Testing your code.ipynb', 'output.csv', 'data.csv', 'data.json', '07. Context Managers.ipynb', 'books.csv', '00. Table of Contents.ipynb', 'output.xml', '14. GUI automation.ipynb', '09. Working with databases.ipynb', 'out2.txt', 'output.xlsx', 'example.txt', 'modified.xlsx', 'employees_modified.xml', '06. Object-Oriented Programming.ipynb', '04. Advanced Data Structures.ipynb', 'employees_updated.xml', 'output.txt', '02. Control Flow.ipynb', 'data_out.json', '08. Working with different data formats.ipynb', '01. PyCharm Overview.ipynb']\n",
      "./images [] ['multithreading.png', 'pycharm_new_project.png', 'pycharm_installation_mac.png', 'pycharm_code_inspections.png', 'pycharm_welcome_dialog.png', 'pycharm_user_interface.png', 'ceva.txt', 'pycharm_installation_windows.png']\n",
      "./.ipynb_checkpoints [] ['06. Object-Oriented Programming-checkpoint.ipynb', '00. Table of Contents-checkpoint.ipynb', '03. More on functions and iterables-checkpoint.ipynb', '02. Control Flow-checkpoint.ipynb', '08. Working with different data formats-checkpoint.ipynb', '04. Advanced Data Structures-checkpoint.ipynb']\n"
     ]
    }
   ],
   "source": [
    "for dirpath, dirnames, filenames in os.walk('.'):\n",
    "    print(dirpath, dirnames, filenames)"
   ]
  },
  {
   "cell_type": "markdown",
   "metadata": {},
   "source": [
    "### `os.path`\n",
    "\n",
    "`os.path` contains functions for manipulating filenames and directory names.\n",
    "\n",
    "`os.path.exists(path)` - test whether a path exists"
   ]
  },
  {
   "cell_type": "code",
   "execution_count": 15,
   "metadata": {},
   "outputs": [
    {
     "data": {
      "text/plain": [
       "True"
      ]
     },
     "execution_count": 15,
     "metadata": {},
     "output_type": "execute_result"
    }
   ],
   "source": [
    "os.path.exists(current_path)"
   ]
  },
  {
   "cell_type": "markdown",
   "metadata": {},
   "source": [
    "`os.path.isfile(path)` - test whether a path is a regular file"
   ]
  },
  {
   "cell_type": "code",
   "execution_count": 16,
   "metadata": {},
   "outputs": [
    {
     "data": {
      "text/plain": [
       "False"
      ]
     },
     "execution_count": 16,
     "metadata": {},
     "output_type": "execute_result"
    }
   ],
   "source": [
    "os.path.isfile(current_path)"
   ]
  },
  {
   "cell_type": "markdown",
   "metadata": {},
   "source": [
    "`os.path.isdir(path)` - return true if the pathname refers to an existing directory"
   ]
  },
  {
   "cell_type": "code",
   "execution_count": 17,
   "metadata": {},
   "outputs": [
    {
     "data": {
      "text/plain": [
       "True"
      ]
     },
     "execution_count": 17,
     "metadata": {},
     "output_type": "execute_result"
    }
   ],
   "source": [
    "os.path.isdir(current_path)"
   ]
  },
  {
   "cell_type": "markdown",
   "metadata": {},
   "source": [
    "`os.path.split(path)` - split a pathname;  returns tuple `(head, tail)` where `tail` is everything after the final slash"
   ]
  },
  {
   "cell_type": "code",
   "execution_count": 18,
   "metadata": {},
   "outputs": [
    {
     "data": {
      "text/plain": [
       "('/Users/iulia/PycharmProjects/python-advanced-custom', 'docs')"
      ]
     },
     "execution_count": 18,
     "metadata": {},
     "output_type": "execute_result"
    }
   ],
   "source": [
    "os.path.split(current_path)"
   ]
  },
  {
   "cell_type": "markdown",
   "metadata": {},
   "source": [
    "`os.path.join(path, \"new_var\")` - join two or more pathname components, inserting `os.sep` as needed."
   ]
  },
  {
   "cell_type": "code",
   "execution_count": 19,
   "metadata": {},
   "outputs": [
    {
     "data": {
      "text/plain": [
       "'/Users/iulia/PycharmProjects/python-advanced-custom/docs/testdir/innerdir'"
      ]
     },
     "execution_count": 19,
     "metadata": {},
     "output_type": "execute_result"
    }
   ],
   "source": [
    "os.path.join(current_path, 'testdir', 'innerdir')"
   ]
  },
  {
   "cell_type": "markdown",
   "metadata": {},
   "source": [
    "### `glob`\n",
    "\n",
    "The glob module is another tool in the Python standard library. It's an easy way to get the contents of a directory programmatically, and it uses the sort of wildcards that we may already be familiar with from working on the command line.\n",
    "\n",
    "`glob.glob(pathname, recursive=False)` - Return a list of paths matching a `pathname` pattern. The pattern may contain simple shell-style wildcards. If `recursive` is true, the pattern `'**'` will match any files and zero or more directories and subdirectories.\n",
    "\n",
    "`glob.iglob(pathname, recursive=False)` - Return an iterator which yields the paths matching a pathname pattern."
   ]
  },
  {
   "cell_type": "code",
   "execution_count": 20,
   "metadata": {},
   "outputs": [
    {
     "data": {
      "text/plain": [
       "[]"
      ]
     },
     "execution_count": 20,
     "metadata": {},
     "output_type": "execute_result"
    }
   ],
   "source": [
    "import glob\n",
    "glob.glob('*Types*')"
   ]
  },
  {
   "cell_type": "code",
   "execution_count": 21,
   "metadata": {},
   "outputs": [
    {
     "data": {
      "text/plain": [
       "['11. Concurrent execution.ipynb',\n",
       " '15. Android API used with Python.ipynb',\n",
       " '03. More on functions and iterables.ipynb',\n",
       " '12. Logging.ipynb',\n",
       " '05. Decorators.ipynb',\n",
       " '13. Other useful modules.ipynb',\n",
       " '16. Building Dashboards in Python .ipynb',\n",
       " '10. Testing your code.ipynb',\n",
       " '07. Context Managers.ipynb',\n",
       " '00. Table of Contents.ipynb',\n",
       " '14. GUI automation.ipynb',\n",
       " '09. Working with databases.ipynb',\n",
       " '06. Object-Oriented Programming.ipynb',\n",
       " '04. Advanced Data Structures.ipynb',\n",
       " '02. Control Flow.ipynb',\n",
       " '08. Working with different data formats.ipynb',\n",
       " '01. PyCharm Overview.ipynb']"
      ]
     },
     "execution_count": 21,
     "metadata": {},
     "output_type": "execute_result"
    }
   ],
   "source": [
    "glob.glob('*.ipynb', recursive=True)"
   ]
  },
  {
   "cell_type": "markdown",
   "metadata": {},
   "source": [
    "## Exercises 2\n",
    "\n",
    "1. Write a Python program that creates a directory `outdir` at the current location and a directory `innerdir` inside `outdir`. Create an empty file inside `innerdir`. Use `os.walk()` to print the directory tree for `outdir`. Remove the directories and the file.\n",
    "2. Write a function that returns a list (or iterator) of all the file names with an extension from a directory. Give the path and the file extension as parameters.\n",
    "   \n",
    "## 3. Working with paths in the file system (`pathlib`)\n",
    "\n",
    "The `pathlib` module provides an object-oriented approach to handling file system paths. It allows you to work with file and directory paths in a more intuitive and Pythonic way than traditional string manipulation.\n",
    "\n",
    "The main class in this module is `Path`, which represents a file or directory path:"
   ]
  },
  {
   "cell_type": "code",
   "execution_count": 22,
   "metadata": {},
   "outputs": [],
   "source": [
    "from pathlib import Path"
   ]
  },
  {
   "cell_type": "markdown",
   "metadata": {},
   "source": [
    "Using this class, we can instantiate it to create paths:"
   ]
  },
  {
   "cell_type": "code",
   "execution_count": 23,
   "metadata": {},
   "outputs": [],
   "source": [
    "current_dir = Path()\n",
    "root_path = Path(\"/\")\n",
    "relative_path = Path(\"images/multithreading.png\")"
   ]
  },
  {
   "cell_type": "markdown",
   "metadata": {},
   "source": [
    "`Path` objects attributes:"
   ]
  },
  {
   "cell_type": "code",
   "execution_count": 24,
   "metadata": {},
   "outputs": [
    {
     "data": {
      "text/plain": [
       "PosixPath('images')"
      ]
     },
     "execution_count": 24,
     "metadata": {},
     "output_type": "execute_result"
    }
   ],
   "source": [
    "relative_path.parent  # parent directory"
   ]
  },
  {
   "cell_type": "code",
   "execution_count": 25,
   "metadata": {},
   "outputs": [
    {
     "data": {
      "text/plain": [
       "'multithreading'"
      ]
     },
     "execution_count": 25,
     "metadata": {},
     "output_type": "execute_result"
    }
   ],
   "source": [
    "relative_path.stem  # final path component, without its suffix"
   ]
  },
  {
   "cell_type": "code",
   "execution_count": 26,
   "metadata": {},
   "outputs": [
    {
     "data": {
      "text/plain": [
       "'.png'"
      ]
     },
     "execution_count": 26,
     "metadata": {},
     "output_type": "execute_result"
    }
   ],
   "source": [
    "relative_path.suffix  # file extension"
   ]
  },
  {
   "cell_type": "markdown",
   "metadata": {},
   "source": [
    "`Path` objects can be used to build new paths:"
   ]
  },
  {
   "cell_type": "code",
   "execution_count": 27,
   "metadata": {},
   "outputs": [
    {
     "data": {
      "text/plain": [
       "PosixPath('/usr/bin/python3')"
      ]
     },
     "execution_count": 27,
     "metadata": {},
     "output_type": "execute_result"
    }
   ],
   "source": [
    "python_path = root_path / \"usr\" / \"bin\" / \"python3\"\n",
    "python_path"
   ]
  },
  {
   "cell_type": "markdown",
   "metadata": {},
   "source": [
    "Methods of `Path` objects to check various properties:"
   ]
  },
  {
   "cell_type": "code",
   "execution_count": 28,
   "metadata": {},
   "outputs": [
    {
     "data": {
      "text/plain": [
       "True"
      ]
     },
     "execution_count": 28,
     "metadata": {},
     "output_type": "execute_result"
    }
   ],
   "source": [
    "python_path.exists()"
   ]
  },
  {
   "cell_type": "code",
   "execution_count": 29,
   "metadata": {},
   "outputs": [
    {
     "data": {
      "text/plain": [
       "True"
      ]
     },
     "execution_count": 29,
     "metadata": {},
     "output_type": "execute_result"
    }
   ],
   "source": [
    "python_path.is_file()"
   ]
  },
  {
   "cell_type": "code",
   "execution_count": 30,
   "metadata": {},
   "outputs": [
    {
     "data": {
      "text/plain": [
       "False"
      ]
     },
     "execution_count": 30,
     "metadata": {},
     "output_type": "execute_result"
    }
   ],
   "source": [
    "python_path.is_dir()"
   ]
  },
  {
   "cell_type": "markdown",
   "metadata": {},
   "source": [
    "The `Path` class also implements functions in `os` module used for directory manipulation, as methods:"
   ]
  },
  {
   "cell_type": "code",
   "execution_count": 31,
   "metadata": {},
   "outputs": [
    {
     "name": "stdout",
     "output_type": "stream",
     "text": [
      "images\n",
      "new_dir\n",
      ".ipynb_checkpoints\n"
     ]
    }
   ],
   "source": [
    "new_dir = current_dir / \"new_dir\"\n",
    "new_dir.mkdir(exist_ok=True)\n",
    "\n",
    "for directory in current_dir.iterdir():\n",
    "    if directory.is_dir():\n",
    "        print(directory)"
   ]
  },
  {
   "cell_type": "code",
   "execution_count": 32,
   "metadata": {},
   "outputs": [
    {
     "name": "stdout",
     "output_type": "stream",
     "text": [
      "out.txt\n",
      "file_example.txt\n",
      "out2.txt\n",
      "example.txt\n",
      "output.txt\n",
      "images/ceva.txt\n"
     ]
    }
   ],
   "source": [
    "for txt_file in current_dir.glob(\"**/*.txt\"):\n",
    "    print(txt_file)"
   ]
  },
  {
   "cell_type": "code",
   "execution_count": 33,
   "metadata": {},
   "outputs": [],
   "source": [
    "new_dir.rmdir()"
   ]
  },
  {
   "cell_type": "code",
   "execution_count": 34,
   "metadata": {},
   "outputs": [
    {
     "name": "stdout",
     "output_type": "stream",
     "text": [
      ". ['images', '.ipynb_checkpoints'] 38\n",
      "images [] 8\n",
      ".ipynb_checkpoints [] 6\n"
     ]
    }
   ],
   "source": [
    "for dirpath, dirnames, filenames in current_dir.walk():\n",
    "    print(dirpath, dirnames, len(filenames))"
   ]
  },
  {
   "cell_type": "markdown",
   "metadata": {},
   "source": [
    "## Exercises 3\n",
    "\n",
    "1. Solve the same exercises above (Exercises 2), but using `pathlib` module.\n",
    "\n",
    "## 4. Working with JSON format\n",
    "\n",
    "### What is JSON?\n",
    "\n",
    "JSON (JavaScript Object Notation) is a lightweight data format used for exchanging data between systems. It is easy for humans to read and write and easy for machines to parse and generate. JSON is based on key-value pairs and supports basic data types such as strings, numbers, arrays, and objects.\n",
    "\n",
    "Example:  \n",
    "```json\n",
    "{\n",
    "  \"name\": \"Alice\",\n",
    "  \"age\": 30,\n",
    "  \"isEmployed\": true,\n",
    "  \"skills\": [\"Python\", \"SQL\", \"JavaScript\"],\n",
    "  \"address\": {\n",
    "    \"city\": \"New York\",\n",
    "    \"zipcode\": \"10001\"\n",
    "  }\n",
    "}\n",
    "```\n",
    "\n",
    "### `json` module\n",
    "\n",
    "The `json` module in Python provides methods to **encode** (convert Python objects to JSON) and **decode** (convert JSON to Python objects).\n",
    "\n",
    "\n",
    "- `json.loads()` - parses a JSON string and converts it into a Python object."
   ]
  },
  {
   "cell_type": "code",
   "execution_count": 35,
   "metadata": {},
   "outputs": [],
   "source": [
    "import json\n",
    "\n",
    "json_string = '{\"name\": \"Alice\", \"age\": 30}'\n",
    "data = json.loads(json_string)"
   ]
  },
  {
   "cell_type": "code",
   "execution_count": 36,
   "metadata": {},
   "outputs": [
    {
     "data": {
      "text/plain": [
       "{'name': 'Alice', 'age': 30}"
      ]
     },
     "execution_count": 36,
     "metadata": {},
     "output_type": "execute_result"
    }
   ],
   "source": [
    "data"
   ]
  },
  {
   "cell_type": "code",
   "execution_count": 37,
   "metadata": {},
   "outputs": [
    {
     "data": {
      "text/plain": [
       "dict"
      ]
     },
     "execution_count": 37,
     "metadata": {},
     "output_type": "execute_result"
    }
   ],
   "source": [
    "type(data)"
   ]
  },
  {
   "cell_type": "markdown",
   "metadata": {},
   "source": [
    "- `json.dumps()` - converts a Python object into a JSON string."
   ]
  },
  {
   "cell_type": "code",
   "execution_count": 38,
   "metadata": {},
   "outputs": [],
   "source": [
    "json_string = json.dumps(data)"
   ]
  },
  {
   "cell_type": "code",
   "execution_count": 39,
   "metadata": {},
   "outputs": [
    {
     "data": {
      "text/plain": [
       "'{\"name\": \"Alice\", \"age\": 30}'"
      ]
     },
     "execution_count": 39,
     "metadata": {},
     "output_type": "execute_result"
    }
   ],
   "source": [
    "json_string"
   ]
  },
  {
   "cell_type": "markdown",
   "metadata": {},
   "source": [
    "- `json.load()` - reads JSON data from a file and converts it into a Python object."
   ]
  },
  {
   "cell_type": "code",
   "execution_count": 40,
   "metadata": {},
   "outputs": [],
   "source": [
    "with open(\"data.json\", \"r\") as f:\n",
    "    data = json.load(f)"
   ]
  },
  {
   "cell_type": "code",
   "execution_count": 41,
   "metadata": {},
   "outputs": [
    {
     "data": {
      "text/plain": [
       "{'name': 'Mia', 'hobbies': ['painting', 'jogging']}"
      ]
     },
     "execution_count": 41,
     "metadata": {},
     "output_type": "execute_result"
    }
   ],
   "source": [
    "data"
   ]
  },
  {
   "cell_type": "code",
   "execution_count": 42,
   "metadata": {},
   "outputs": [
    {
     "data": {
      "text/plain": [
       "{'name': 'Mia', 'hobbies': ['painting', 'jogging', 'cooking'], 'age': 20}"
      ]
     },
     "execution_count": 42,
     "metadata": {},
     "output_type": "execute_result"
    }
   ],
   "source": [
    "data[\"age\"] = 20\n",
    "data[\"hobbies\"].append(\"cooking\")\n",
    "data"
   ]
  },
  {
   "cell_type": "markdown",
   "metadata": {},
   "source": [
    "- `json.dump()` - writes a Python object as JSON data to a file."
   ]
  },
  {
   "cell_type": "code",
   "execution_count": 43,
   "metadata": {},
   "outputs": [],
   "source": [
    "with open(\"output.json\", \"w\") as f:\n",
    "    json.dump(data, f)"
   ]
  },
  {
   "cell_type": "markdown",
   "metadata": {},
   "source": [
    "- Formatting with `indent` and `sort_keys`: both `dump` and `dumps` methods also receive `indent` and `sort_keys` optional parameters to add indentation or sort keys alphabetically."
   ]
  },
  {
   "cell_type": "code",
   "execution_count": 44,
   "metadata": {},
   "outputs": [
    {
     "name": "stdout",
     "output_type": "stream",
     "text": [
      "{\n",
      "    \"age\": 20,\n",
      "    \"hobbies\": [\n",
      "        \"painting\",\n",
      "        \"jogging\",\n",
      "        \"cooking\"\n",
      "    ],\n",
      "    \"name\": \"Mia\"\n",
      "}\n"
     ]
    }
   ],
   "source": [
    "formatted_json = json.dumps(data, indent=4, sort_keys=True)\n",
    "print(formatted_json)"
   ]
  },
  {
   "cell_type": "markdown",
   "metadata": {},
   "source": [
    "## Exercises 4\n",
    "1. Using [`users.json`](users.json) file:\n",
    "   - open it and decode the Python object inside it\n",
    "   - filter users with `\"email\"` key and encode the resulting object in a JSON string; print the string to the console\n",
    "   - filter users with ages between 20 and 40 and encode the resulting object in a JSON file, using `indent` and `sort_keys` parameters.\n",
    "\n",
    "## 5. Working with CSV format\n",
    "\n",
    "### What is CSV?\n",
    " \n",
    "CSV (Comma-Separated Values) is a simple file format used to store tabular data, such as a spreadsheet or database. Each line in a CSV file represents a data record, and each record consists of fields separated by a delimiter (commonly a comma).\n",
    "\n",
    "Example:\n",
    "```csv\n",
    "Name,Age,City\n",
    "Alice,30,New York\n",
    "Bob,25,Los Angeles\n",
    "Charlie,35,Chicago\n",
    "```\n",
    "\n",
    "### `csv` module\n",
    "\n",
    "The `csv` module in Python provides functionality to read, write, and manipulate CSV files easily. It supports different delimiters, quoting styles, and file encoding.\n",
    "\n",
    "* `csv.reader()` - reads a CSV file and returns an iterable object for processing each row as a list."
   ]
  },
  {
   "cell_type": "code",
   "execution_count": 45,
   "metadata": {},
   "outputs": [
    {
     "name": "stdout",
     "output_type": "stream",
     "text": [
      "['Name', 'Age', 'City']\n",
      "['Alice', '30', 'New York']\n",
      "['Bob', '25', 'Los Angeles']\n",
      "['Charlie', '35', 'Chicago']\n"
     ]
    }
   ],
   "source": [
    "import csv\n",
    "\n",
    "with open(\"data.csv\", \"r\") as file:\n",
    "    reader = csv.reader(file)\n",
    "    for row in reader:\n",
    "        print(row)"
   ]
  },
  {
   "cell_type": "markdown",
   "metadata": {},
   "source": [
    "- `csv.writer()` - writes data to a CSV file row by row."
   ]
  },
  {
   "cell_type": "code",
   "execution_count": 67,
   "metadata": {},
   "outputs": [
    {
     "name": "stdout",
     "output_type": "stream",
     "text": [
      "['Name', 'Age', 'City'] written to CSV file.\n",
      "['Alice', 30, 'New York'] written to CSV file.\n",
      "['Bob', 25, 'Los Angeles'] written to CSV file.\n",
      "['Charlie', 35, 'Chicago'] written to CSV file.\n"
     ]
    }
   ],
   "source": [
    "data = [\n",
    "    [\"Name\", \"Age\", \"City\"],\n",
    "    [\"Alice\", 30, \"New York\"],\n",
    "    [\"Bob\", 25, \"Los Angeles\"],\n",
    "    [\"Charlie\", 35, \"Chicago\"]\n",
    "]\n",
    "\n",
    "with open(\"output.csv\", \"w\", newline=\"\") as file:\n",
    "    writer = csv.writer(file)\n",
    "    # writer.writerows(data)\n",
    "    for line in data:\n",
    "        writer.writerow(line)\n",
    "        print(f\"{line} written to CSV file.\")"
   ]
  },
  {
   "cell_type": "markdown",
   "metadata": {},
   "source": [
    "- `csv.DictReader()` - reads a CSV file and converts each row into a dictionary, with column headers as keys."
   ]
  },
  {
   "cell_type": "code",
   "execution_count": 47,
   "metadata": {},
   "outputs": [
    {
     "name": "stdout",
     "output_type": "stream",
     "text": [
      "{'Name': 'Alice', 'Age': '30', 'City': 'New York'}\n",
      "{'Name': 'Bob', 'Age': '25', 'City': 'Los Angeles'}\n",
      "{'Name': 'Charlie', 'Age': '35', 'City': 'Chicago'}\n"
     ]
    }
   ],
   "source": [
    "with open(\"data.csv\", \"r\") as file:\n",
    "    reader = csv.DictReader(file)\n",
    "    for row in reader:\n",
    "        print(row)"
   ]
  },
  {
   "cell_type": "markdown",
   "metadata": {},
   "source": [
    "- `csv.DictWriter()` - writes dictionaries to a CSV file, using specified `fieldnames` as headers."
   ]
  },
  {
   "cell_type": "code",
   "execution_count": 68,
   "metadata": {},
   "outputs": [],
   "source": [
    "data = [\n",
    "    {\"Name\": \"Alice\", \"Age\": 30, \"City\": \"New York\"},\n",
    "    {\"Name\": \"Bob\", \"Age\": 25, \"City\": \"Los Angeles\"},\n",
    "    {\"Name\": \"Charlie\", \"Age\": 35, \"City\": \"Chicago\"}\n",
    "]\n",
    "\n",
    "with open(\"output.csv\", \"w\", newline=\"\") as file:\n",
    "    fieldnames = [\"Name\", \"Age\", \"City\"]\n",
    "    writer = csv.DictWriter(file, fieldnames=fieldnames)\n",
    "    writer.writeheader()\n",
    "    writer.writerows(data)"
   ]
  },
  {
   "cell_type": "markdown",
   "metadata": {},
   "source": [
    "## Exercises 5\n",
    "1. Using [`books.csv`](books.csv), do the following:\n",
    "   - read the CSV file\n",
    "   - create two other CSV files: `mathematics_books.csv` and `computer_science_books.csv`, containing only books in each genre (_Genre_ column should be equal to _mathematics_ or _computer_science_, respectively), with all columns in _books.csv_ except _Genre_\n",
    "\n",
    "## 6. Working with Excel files (`openpyxl` module)\n",
    "\n",
    "[`openpyxl`](https://openpyxl.readthedocs.io/en/stable/) is a 3rd party Python package used for reading, writing, and manipulating Excel files in `.xlsx` and `.xlsm` formats. It allows you to automate tasks like creating workbooks, modifying cell data, applying styles, and creating charts—all without relying on Microsoft Excel software.\n",
    "\n",
    "In order to work with it, you should install it using `pip`:\n",
    "\n",
    "```bash\n",
    "pip install openpyxl\n",
    "```\n",
    "\n",
    "The main class in `openpyxl` in `Workbook`. A workbook is the container for all other parts of the document. Workbooks contain multiple worksheets, which are modeled in `Worksheet` class.\n",
    "\n",
    "#### Creating a New Workbook"
   ]
  },
  {
   "cell_type": "code",
   "execution_count": 49,
   "metadata": {},
   "outputs": [],
   "source": [
    "from openpyxl import Workbook\n",
    "\n",
    "# Create a workbook and add data\n",
    "wb = Workbook()\n",
    "ws = wb.active  # Get the default worksheet\n",
    "ws.title = \"MySheet\"\n",
    "ws.append([\"Name\", \"Age\", \"City\"])  # Add a header row\n",
    "ws.append([\"Alice\", 30, \"New York\"])  # Add data\n",
    "wb.save(\"output.xlsx\")  # Save the file"
   ]
  },
  {
   "cell_type": "markdown",
   "metadata": {},
   "source": [
    "#### Reading an Existing Excel File"
   ]
  },
  {
   "cell_type": "code",
   "execution_count": 69,
   "metadata": {},
   "outputs": [
    {
     "name": "stdout",
     "output_type": "stream",
     "text": [
      "('Name', 'Age', 'City')\n",
      "('Alice', 30, 'New York')\n"
     ]
    }
   ],
   "source": [
    "from openpyxl import load_workbook\n",
    "\n",
    "wb = load_workbook(\"output.xlsx\")  # Load the workbook\n",
    "ws = wb[\"MySheet\"]\n",
    "\n",
    "for row in ws.iter_rows(values_only=True):\n",
    "    print(row)"
   ]
  },
  {
   "cell_type": "markdown",
   "metadata": {},
   "source": [
    "#### Modifying Data in a Workbook"
   ]
  },
  {
   "cell_type": "code",
   "execution_count": 51,
   "metadata": {},
   "outputs": [],
   "source": [
    "ws[\"A2\"] = \"Bob\"  # Update a cell value\n",
    "ws.append([\"Charlie\", 35, \"Chicago\"])  # Add a new row\n",
    "\n",
    "wb.save(\"modified.xlsx\")"
   ]
  },
  {
   "cell_type": "markdown",
   "metadata": {},
   "source": [
    "## Exercises 6\n",
    "\n",
    "1. Using `Financial Sample.xlsx`, do the following:\n",
    "   - Read the file\n",
    "   - Add a new sheet _Q4 2014_\n",
    "   - Iterate on rows and write to the new sheet those rows that have `Profit` greater than or equal to `100.000$` and `Date` between 1.10.2014 and 31.12.2014\n",
    "\n",
    "## 7. Working with XML format\n",
    "\n",
    "### What is XML?\n",
    "\n",
    "XML is a markup language used for storing and transporting data. It uses tags to define elements and attributes to add metadata.\n",
    "\n",
    "**Example XML Document**:\n",
    "```xml\n",
    "<employees>\n",
    "    <employee id=\"1\">\n",
    "        <name>Alice</name>\n",
    "        <department>HR</department>\n",
    "        <salary>60000</salary>\n",
    "    </employee>\n",
    "    <employee id=\"2\">\n",
    "        <name>Bob</name>\n",
    "        <department>Engineering</department>\n",
    "        <salary>75000</salary>\n",
    "    </employee>\n",
    "</employees>\n",
    "```\n",
    "\n",
    "### `xml.etree.ElementTree` module\n",
    "\n",
    "`xml.etree.ElementTree` is a Python module used for parsing, creating, and manipulating XML data. XML (eXtensible Markup Language) is a widely-used format for data exchange between applications.\n",
    "\n",
    "#### Parsing XML\n",
    "- **Purpose**: Load an XML file or string into Python for processing."
   ]
  },
  {
   "cell_type": "code",
   "execution_count": 52,
   "metadata": {},
   "outputs": [
    {
     "name": "stdout",
     "output_type": "stream",
     "text": [
      "employees\n",
      "employee {'id': '1'}\n",
      "employee {'id': '2'}\n"
     ]
    }
   ],
   "source": [
    "import xml.etree.ElementTree as ET\n",
    "\n",
    "# Parse XML from a file\n",
    "tree = ET.parse(\"employees.xml\")\n",
    "root = tree.getroot()\n",
    "\n",
    "# Print the root tag\n",
    "print(root.tag)  # Output: employees\n",
    "\n",
    "# Iterate over child elements\n",
    "for employee in root:\n",
    "    print(employee.tag, employee.attrib)"
   ]
  },
  {
   "cell_type": "markdown",
   "metadata": {},
   "source": [
    "#### Accessing and Iterating Over Elements\n",
    "- **Purpose**: Navigate through XML elements and attributes."
   ]
  },
  {
   "cell_type": "code",
   "execution_count": 53,
   "metadata": {},
   "outputs": [
    {
     "name": "stdout",
     "output_type": "stream",
     "text": [
      "Name: Alice, Department: HR\n",
      "Name: Bob, Department: Engineering\n"
     ]
    }
   ],
   "source": [
    "for employee in root.findall(\"employee\"):\n",
    "    name = employee.find(\"name\").text\n",
    "    department = employee.find(\"department\").text\n",
    "    print(f\"Name: {name}, Department: {department}\")"
   ]
  },
  {
   "cell_type": "markdown",
   "metadata": {},
   "source": [
    "#### Creating an XML Document\n",
    "- **Purpose**: Generate an XML structure programmatically."
   ]
  },
  {
   "cell_type": "code",
   "execution_count": 54,
   "metadata": {},
   "outputs": [],
   "source": [
    "# Create root element\n",
    "root = ET.Element(\"employees\")\n",
    "\n",
    "# Add a child element\n",
    "employee = ET.SubElement(root, \"employee\", id=\"1\")\n",
    "ET.SubElement(employee, \"name\").text = \"Alice\"\n",
    "ET.SubElement(employee, \"department\").text = \"HR\"\n",
    "ET.SubElement(employee, \"salary\").text = \"60000\"\n",
    "\n",
    "# Write to a file\n",
    "tree = ET.ElementTree(root)\n",
    "tree.write(\"output.xml\", encoding=\"utf-8\", xml_declaration=True)"
   ]
  },
  {
   "cell_type": "markdown",
   "metadata": {},
   "source": [
    "#### Modifying an XML Document\n",
    "- **Purpose**: Update an existing XML structure."
   ]
  },
  {
   "cell_type": "code",
   "execution_count": 55,
   "metadata": {},
   "outputs": [],
   "source": [
    "# Update an employee's salary\n",
    "for employee in root.findall(\"employee\"):\n",
    "    if employee.get(\"id\") == \"1\":\n",
    "        employee.find(\"salary\").text = \"65000\"\n",
    "\n",
    "# Save changes back to the file\n",
    "tree.write(\"employees_updated.xml\")"
   ]
  },
  {
   "cell_type": "markdown",
   "metadata": {},
   "source": [
    "#### Deleting an Element\n",
    "- **Purpose**: Remove specific elements from the XML structure."
   ]
  },
  {
   "cell_type": "code",
   "execution_count": 56,
   "metadata": {},
   "outputs": [],
   "source": [
    "# Remove an employee with id=\"2\"\n",
    "for employee in root.findall(\"employee\"):\n",
    "    if employee.get(\"id\") == \"2\":\n",
    "        root.remove(employee)\n",
    "\n",
    "# Save the modified XML\n",
    "tree.write(\"employees_modified.xml\")"
   ]
  },
  {
   "cell_type": "markdown",
   "metadata": {},
   "source": [
    "## Exercises 7\n",
    "\n",
    "1. Using `books.xml`, do the following:\n",
    "   - read the XML file\n",
    "   - append records in the XML file to `books.csv`: leave nonexistent fields empty, change `genre`:\n",
    "       - to be all lowercase\n",
    "       - to have spaces ` ` replaced with underscores `_`\n",
    "   - create a new XML file where genres become tags, and books are grouped by genre:\n",
    "     ```xml\n",
    "     <catalog>\n",
    "       <computer>\n",
    "         <book id=\"bk101\">\n",
    "           <author>Gambardella, Matthew</author>\n",
    "           <title>XML Developer's Guide</title>\n",
    "           [...]\n",
    "         </book>\n",
    "         <book id=\"bk110\">\n",
    "           <author>O'Brien, Tim</author>\n",
    "           <title>Microsoft .NET: The Programming Bible</title>\n",
    "           [...]\n",
    "         </book>\n",
    "        </computer>\n",
    "      </catalog>\n",
    "      ```\n",
    "     \n",
    "     - include all tags under `book`, except `genre`\n",
    "     - change date format `2000-12-01` -> `1 December 2000`\n",
    "\n",
    "## 8. Working with HTML/XML (`BeautifulSoup`)\n",
    "\n",
    "`BeautifulSoup` is a Python 3rd party library used for parsing HTML and XML documents. It creates a tree structure from raw markup, enabling easy navigation, search, and modification of the document's elements. Find the official documentation [here](https://www.crummy.com/software/BeautifulSoup/bs4/doc/).\n",
    "\n",
    "**Why Use It?**\n",
    "- Simplifies the process of web scraping.\n",
    "- Compatible with different parsers like `html.parser`, `lxml`, and `html5lib`.\n",
    "- Makes HTML and XML documents easy to traverse and manipulate.\n",
    "\n",
    "### Installation\n",
    "\n",
    "Install `BeautifulSoup` via `pip` along with a parser (optional):\n",
    "```bash\n",
    "pip install beautifulsoup4\n",
    "pip install lxml  # Optional: Faster parser\n",
    "```\n",
    "\n",
    "`lxml` is considered the fastest parser and will be automatically used, if installed. See more details [here](https://www.crummy.com/software/BeautifulSoup/bs4/doc/#specifying-the-parser-to-use).\n",
    "\n",
    "* **Parsing HTML** - Load HTML content into a `BeautifulSoup` object."
   ]
  },
  {
   "cell_type": "code",
   "execution_count": 57,
   "metadata": {},
   "outputs": [
    {
     "name": "stdout",
     "output_type": "stream",
     "text": [
      "<html>\n",
      " <body>\n",
      "  <h1>\n",
      "   Hello!\n",
      "  </h1>\n",
      " </body>\n",
      "</html>\n",
      "\n"
     ]
    }
   ],
   "source": [
    "from bs4 import BeautifulSoup\n",
    "\n",
    "html = \"<html><body><h1>Hello!</h1></body></html>\"\n",
    "soup = BeautifulSoup(html)\n",
    "\n",
    "print(soup.prettify())"
   ]
  },
  {
   "cell_type": "markdown",
   "metadata": {},
   "source": [
    "* **Navigating the Parse Tree** - Traverse and access specific elements in the document."
   ]
  },
  {
   "cell_type": "code",
   "execution_count": 58,
   "metadata": {},
   "outputs": [
    {
     "name": "stdout",
     "output_type": "stream",
     "text": [
      "Hello!\n"
     ]
    }
   ],
   "source": [
    "# Access the first occurrence of a tag\n",
    "print(soup.h1.text)"
   ]
  },
  {
   "cell_type": "code",
   "execution_count": 59,
   "metadata": {},
   "outputs": [
    {
     "name": "stdout",
     "output_type": "stream",
     "text": [
      "body\n"
     ]
    }
   ],
   "source": [
    "# Access parent and children\n",
    "print(soup.body.h1.parent.name)"
   ]
  },
  {
   "cell_type": "code",
   "execution_count": 60,
   "metadata": {},
   "outputs": [
    {
     "name": "stdout",
     "output_type": "stream",
     "text": [
      "[<h1>Hello!</h1>]\n"
     ]
    }
   ],
   "source": [
    "# Find all elements of a tag\n",
    "print(soup.find_all(\"h1\"))"
   ]
  },
  {
   "cell_type": "markdown",
   "metadata": {},
   "source": [
    "* **Searching for Elements** - Use methods like `find()` and `find_all()` to locate elements by tag, class, or attributes."
   ]
  },
  {
   "cell_type": "code",
   "execution_count": 61,
   "metadata": {},
   "outputs": [
    {
     "name": "stdout",
     "output_type": "stream",
     "text": [
      "Introduction paragraph.\n"
     ]
    }
   ],
   "source": [
    "html = \"\"\"\n",
    "<html>\n",
    "    <body>\n",
    "        <p class=\"intro\">Introduction paragraph.</p>\n",
    "        <p class=\"content\">Main content.</p>\n",
    "    </body>\n",
    "</html>\n",
    "\"\"\"\n",
    "soup = BeautifulSoup(html, \"html.parser\")\n",
    "\n",
    "# Find by class\n",
    "intro = soup.find(\"p\", class_=\"intro\")\n",
    "print(intro.text)"
   ]
  },
  {
   "cell_type": "code",
   "execution_count": 62,
   "metadata": {},
   "outputs": [
    {
     "name": "stdout",
     "output_type": "stream",
     "text": [
      "Introduction paragraph.\n",
      "Main content.\n"
     ]
    }
   ],
   "source": [
    "# Find all paragraphs\n",
    "all_paragraphs = soup.find_all(\"p\")\n",
    "for p in all_paragraphs:\n",
    "    print(p.text)"
   ]
  },
  {
   "cell_type": "markdown",
   "metadata": {},
   "source": [
    "* **Extracting Text and Attributes** - Extract text content or attribute values."
   ]
  },
  {
   "cell_type": "code",
   "execution_count": 63,
   "metadata": {},
   "outputs": [
    {
     "name": "stdout",
     "output_type": "stream",
     "text": [
      "Introduction paragraph.\n"
     ]
    }
   ],
   "source": [
    "print(soup.p.text)"
   ]
  },
  {
   "cell_type": "code",
   "execution_count": 64,
   "metadata": {},
   "outputs": [
    {
     "name": "stdout",
     "output_type": "stream",
     "text": [
      "['intro']\n"
     ]
    }
   ],
   "source": [
    "print(soup.p[\"class\"])"
   ]
  },
  {
   "cell_type": "markdown",
   "metadata": {},
   "source": [
    "* **Modifying HTML** - Add, remove, or modify elements and attributes."
   ]
  },
  {
   "cell_type": "code",
   "execution_count": 65,
   "metadata": {},
   "outputs": [
    {
     "name": "stdout",
     "output_type": "stream",
     "text": [
      "<html>\n",
      " <body>\n",
      "  <p class=\"content\">\n",
      "   Main content.\n",
      "  </p>\n",
      "  <h2>\n",
      "   A new heading\n",
      "  </h2>\n",
      " </body>\n",
      "</html>\n",
      "\n"
     ]
    }
   ],
   "source": [
    "# Add a new tag\n",
    "new_tag = soup.new_tag(\"h2\")\n",
    "new_tag.string = \"A new heading\"\n",
    "soup.body.append(new_tag)\n",
    "\n",
    "# Modify an existing tag\n",
    "soup.p[\"class\"] = \"updated-class\"\n",
    "\n",
    "# Remove an element\n",
    "soup.p.decompose()\n",
    "\n",
    "print(soup.prettify())"
   ]
  },
  {
   "cell_type": "markdown",
   "metadata": {},
   "source": [
    "## Exercises 8\n",
    "\n",
    "1. Go to https://docs.python.org/3/library/index.html and save the page to your computer (option to use [`requests`](https://requests.readthedocs.io/en/latest/) to get the page content programatically)\n",
    "2. Open the HTML file with `BeautifulSoup`.\n",
    "3. Extract all links (`<a>` tags) and save their `href`, `title` attributes and their text in a CSV file.\n",
    "E.g. the following html:\n",
    "\n",
    "    ```html\n",
    "    <a href=\"https://docs.python.org/3/library/intro.html\" title=\"Introduction\" accesskey=\"N\">next</a>\n",
    "    ```\n",
    "    \n",
    "    will become a row in the csv file:\n",
    "   \n",
    "    ```csv\n",
    "    url,title,text\n",
    "    https://docs.python.org/3/library/intro.html,Introduction,next\n",
    "    ```"
   ]
  }
 ],
 "metadata": {
  "kernelspec": {
   "display_name": "Python 3 (ipykernel)",
   "language": "python",
   "name": "python3"
  },
  "language_info": {
   "codemirror_mode": {
    "name": "ipython",
    "version": 3
   },
   "file_extension": ".py",
   "mimetype": "text/x-python",
   "name": "python",
   "nbconvert_exporter": "python",
   "pygments_lexer": "ipython3",
   "version": "3.13.0"
  }
 },
 "nbformat": 4,
 "nbformat_minor": 4
}
