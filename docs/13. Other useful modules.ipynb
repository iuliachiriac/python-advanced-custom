{
 "cells": [
  {
   "cell_type": "markdown",
   "id": "8d37fef4-4df8-4e18-a486-b384f113ea88",
   "metadata": {},
   "source": [
    "# 1. The `subprocess` module\n",
    "\n",
    "The `subprocess` module in Python is used to spawn new processes, connect to their input/output/error pipes, and obtain their return codes. It allows you to start new applications or programs from your Python script. \n",
    "\n",
    "### Basic Usage\n",
    "\n",
    "1. **Import the subprocess module:**"
   ]
  },
  {
   "cell_type": "code",
   "execution_count": 2,
   "id": "7d1cd0c9-aa07-4b4d-b47a-a8efb9d0269a",
   "metadata": {},
   "outputs": [],
   "source": [
    "import subprocess"
   ]
  },
  {
   "cell_type": "markdown",
   "id": "3631b04d-3c01-4028-bf47-43b17ef52f1a",
   "metadata": {},
   "source": [
    "2. **Running a Simple Command:**\n",
    "   Use `subprocess.run()` to run a command and wait for it to complete.\n",
    "   ```python\n",
    "   \n",
    "   ```"
   ]
  },
  {
   "cell_type": "code",
   "execution_count": 17,
   "id": "a70762b8-3825-424a-95ec-bdf485f22883",
   "metadata": {},
   "outputs": [
    {
     "name": "stdout",
     "output_type": "stream",
     "text": [
      "total 1032\n",
      "-rwx------@  1 iulia  staff  519106 Dec  6 15:40 \u001b[31mPresentation.key\u001b[m\u001b[m\n",
      "-rw-r--r--@  1 iulia  staff    1914 Dec  6 15:48 README.md\n",
      "drwxr-xr-x@ 35 iulia  staff    1120 Dec 19 07:36 \u001b[34mdocs\u001b[m\u001b[m\n",
      "drwxr-xr-x@ 21 iulia  staff     672 Dec 13 15:19 \u001b[34mexamples\u001b[m\u001b[m\n",
      "-rw-r--r--@  1 iulia  staff     126 Dec 10 12:20 requirements.txt\n",
      "drwxr-xr-x@ 59 iulia  staff    1888 Dec 10 12:54 \u001b[34msolutions\u001b[m\u001b[m\n",
      "\n"
     ]
    }
   ],
   "source": [
    "result = subprocess.run(['ls', '-l', '..'], capture_output=True, text=True)\n",
    "print(result.stdout)"
   ]
  },
  {
   "cell_type": "markdown",
   "id": "7d210d3f-4ac5-40c1-b45c-23ac38d06a64",
   "metadata": {},
   "source": [
    "   - `['ls', '-l']`: The command to run. Here, it lists directory contents in long format.\n",
    "   - `capture_output=True`: Captures the standard output and error.\n",
    "   - `text=True`: Returns output as string rather than bytes.\n",
    "\n",
    "### Running a Command with Different Options\n",
    "\n",
    "3. **Check if Command is Successful:**"
   ]
  },
  {
   "cell_type": "code",
   "execution_count": 18,
   "id": "e1da8920-c1da-49ff-898f-40cf8e30ebfa",
   "metadata": {},
   "outputs": [
    {
     "name": "stdout",
     "output_type": "stream",
     "text": [
      "Command succeeded: total 1032\n",
      "-rwx------@  1 iulia  staff  519106 Dec  6 15:40 \u001b[31mPresentation.key\u001b[m\u001b[m\n",
      "-rw-r--r--@  1 iulia  staff    1914 Dec  6 15:48 README.md\n",
      "drwxr-xr-x@ 35 iulia  staff    1120 Dec 19 07:36 \u001b[34mdocs\u001b[m\u001b[m\n",
      "drwxr-xr-x@ 21 iulia  staff     672 Dec 13 15:19 \u001b[34mexamples\u001b[m\u001b[m\n",
      "-rw-r--r--@  1 iulia  staff     126 Dec 10 12:20 requirements.txt\n",
      "drwxr-xr-x@ 59 iulia  staff    1888 Dec 10 12:54 \u001b[34msolutions\u001b[m\u001b[m\n",
      "\n"
     ]
    }
   ],
   "source": [
    "result = subprocess.run(['ls', '-l', '..'], capture_output=True, text=True)\n",
    "if result.returncode == 0:\n",
    "    print('Command succeeded:', result.stdout)\n",
    "else:\n",
    "    print('Command failed:', result.stderr)"
   ]
  },
  {
   "cell_type": "markdown",
   "id": "a4269cfc-7de9-4ab9-8f04-669e1261aa00",
   "metadata": {},
   "source": [
    "4. **Suppressing Output:**"
   ]
  },
  {
   "cell_type": "code",
   "execution_count": 5,
   "id": "6490b01b-0218-4c7f-aa8a-34e825f8c97a",
   "metadata": {},
   "outputs": [
    {
     "data": {
      "text/plain": [
       "CompletedProcess(args=['ls', '-l'], returncode=0)"
      ]
     },
     "execution_count": 5,
     "metadata": {},
     "output_type": "execute_result"
    }
   ],
   "source": [
    "subprocess.run(['ls', '-l'], stdout=subprocess.DEVNULL, stderr=subprocess.DEVNULL)"
   ]
  },
  {
   "cell_type": "markdown",
   "id": "a6d15c6c-24d5-46cd-b6d1-5bdc582c9da5",
   "metadata": {},
   "source": [
    "   - `stdout=subprocess.DEVNULL` and `stderr=subprocess.DEVNULL` suppress the output.\n",
    "\n",
    "5. **Running Command without Waiting for Completion:**"
   ]
  },
  {
   "cell_type": "code",
   "execution_count": 6,
   "id": "d61fb3af-2e4e-4154-9528-137691f0fe21",
   "metadata": {},
   "outputs": [
    {
     "name": "stdout",
     "output_type": "stream",
     "text": [
      "Command started, will sleep for 5 seconds\n"
     ]
    }
   ],
   "source": [
    "process = subprocess.Popen(['sleep', '5'])\n",
    "print('Command started, will sleep for 5 seconds')"
   ]
  },
  {
   "cell_type": "markdown",
   "id": "cf58697b-90a3-4b74-805c-680340ca7d19",
   "metadata": {},
   "source": [
    "   - `subprocess.Popen` starts the process without waiting for it to complete.\n",
    "\n",
    "### Advanced Usage\n",
    "\n",
    "6. **Capturing Output:**"
   ]
  },
  {
   "cell_type": "code",
   "execution_count": 19,
   "id": "985ba8b8-b23d-4e97-9716-dcaab8374fe4",
   "metadata": {},
   "outputs": [
    {
     "name": "stdout",
     "output_type": "stream",
     "text": [
      "stdout: total 1032\n",
      "-rwx------@  1 iulia  staff  519106 Dec  6 15:40 \u001b[31mPresentation.key\u001b[m\u001b[m\n",
      "-rw-r--r--@  1 iulia  staff    1914 Dec  6 15:48 README.md\n",
      "drwxr-xr-x@ 35 iulia  staff    1120 Dec 19 07:36 \u001b[34mdocs\u001b[m\u001b[m\n",
      "drwxr-xr-x@ 21 iulia  staff     672 Dec 13 15:19 \u001b[34mexamples\u001b[m\u001b[m\n",
      "-rw-r--r--@  1 iulia  staff     126 Dec 10 12:20 requirements.txt\n",
      "drwxr-xr-x@ 59 iulia  staff    1888 Dec 10 12:54 \u001b[34msolutions\u001b[m\u001b[m\n",
      "\n",
      "stderr: \n"
     ]
    }
   ],
   "source": [
    "result = subprocess.run(['ls', '-l', '..'], capture_output=True, text=True)\n",
    "print('stdout:', result.stdout)\n",
    "print('stderr:', result.stderr)"
   ]
  },
  {
   "cell_type": "markdown",
   "id": "26f232e5-bac3-4723-86ff-f238f72155a1",
   "metadata": {},
   "source": [
    "7. **Redirecting Output to a File:**"
   ]
  },
  {
   "cell_type": "code",
   "execution_count": 8,
   "id": "7fe48cd1-e58d-4dbf-b1a0-15e03ca9f928",
   "metadata": {},
   "outputs": [],
   "source": [
    "with open('output.txt', 'w') as f:\n",
    "    subprocess.run(['ls', '-l'], stdout=f)"
   ]
  },
  {
   "cell_type": "markdown",
   "id": "a24d314d-c7c5-4db9-b235-203a1d7b7263",
   "metadata": {},
   "source": [
    "8. **Piping Commands:**"
   ]
  },
  {
   "cell_type": "code",
   "execution_count": 25,
   "id": "23cb0af2-cc1b-4a24-bd99-7a599aad0e75",
   "metadata": {},
   "outputs": [
    {
     "name": "stdout",
     "output_type": "stream",
     "text": [
      "-rw-r--r--@ 1 iulia  staff    3822 Dec  5 08:42 00. Table of Contents.ipynb\n",
      "-rw-r--r--@ 1 iulia  staff   12321 Dec  2 09:44 01. PyCharm Overview.ipynb\n",
      "-rw-r--r--@ 1 iulia  staff   20603 Dec  3 09:00 02. Control Flow.ipynb\n",
      "-rw-r--r--@ 1 iulia  staff   61103 Dec  3 14:28 03. More on functions and iterables.ipynb\n",
      "-rw-r--r--@ 1 iulia  staff   37114 Dec  1 20:37 04. Advanced Data Structures.ipynb\n",
      "-rw-r--r--@ 1 iulia  staff   15299 Nov 29 15:14 05. Decorators.ipynb\n",
      "-rw-r--r--@ 1 iulia  staff   43760 Dec  9 16:36 06. Object-Oriented Programming.ipynb\n",
      "-rw-r--r--@ 1 iulia  staff   10867 Dec  9 16:38 07. Context Managers.ipynb\n",
      "-rw-r--r--@ 1 iulia  staff   52214 Dec  9 17:14 08. Working with different data formats.ipynb\n",
      "-rw-r--r--@ 1 iulia  staff    8930 Dec  6 09:59 09. Working with databases.ipynb\n",
      "-rw-r--r--@ 1 iulia  staff   58449 Dec  6 13:50 10. Testing your code.ipynb\n",
      "-rw-r--r--@ 1 iulia  staff   26360 Dec  6 16:14 11. Concurrent execution.ipynb\n",
      "-rw-r--r--@ 1 iulia  staff   16978 Nov 29 15:14 12. Logging.ipynb\n",
      "-rw-r--r--@ 1 iulia  staff   13590 Dec 19 07:48 13. Other useful modules.ipynb\n",
      "-rw-r--r--@ 1 iulia  staff   17598 Dec 18 15:26 14. GUI automation.ipynb\n",
      "-rw-r--r--@ 1 iulia  staff    6283 Dec 18 18:30 15. Android API used with Python.ipynb\n",
      "-rw-r--r--@ 1 iulia  staff  524152 Dec 19 00:28 16. Building Dashboards in Python .ipynb\n",
      "-rw-r--r--@ 1 iulia  staff     337 Dec  1 21:15 16. Building Dashboards in Python.ipynb\n",
      "-rw-r--r--@ 1 iulia  staff     902 Dec 10 12:46 process_files.py\n",
      "\n"
     ]
    }
   ],
   "source": [
    "p1 = subprocess.Popen(['ls', '-l'], stdout=subprocess.PIPE)\n",
    "p2 = subprocess.Popen(['grep', 'py'], stdin=p1.stdout, stdout=subprocess.PIPE, text=True)\n",
    "p1.stdout.close()  # Allow p1 to receive a SIGPIPE if p2 exits.\n",
    "output = p2.communicate()[0]\n",
    "print(output)"
   ]
  },
  {
   "cell_type": "markdown",
   "id": "e094b28a-367f-45ca-ab7a-80073c6e3f91",
   "metadata": {},
   "source": [
    "   - This pipes the output of `ls -l` to `grep py`.\n",
    "\n",
    "9. **Handling Timeouts:**"
   ]
  },
  {
   "cell_type": "code",
   "execution_count": 10,
   "id": "95593954-f44f-4c66-95d9-e8c08057076d",
   "metadata": {},
   "outputs": [
    {
     "name": "stdout",
     "output_type": "stream",
     "text": [
      "Command timed out\n"
     ]
    }
   ],
   "source": [
    "try:\n",
    "    result = subprocess.run(['sleep', '10'], timeout=1)\n",
    "except subprocess.TimeoutExpired:\n",
    "    print('Command timed out')"
   ]
  },
  {
   "cell_type": "markdown",
   "id": "4f5042f7-7048-4bb7-83bd-ef8a389386ee",
   "metadata": {},
   "source": [
    "10. **Error Handling:**"
   ]
  },
  {
   "cell_type": "code",
   "execution_count": 11,
   "id": "59b251ee-aa21-40e3-a217-b1980aa7f3d3",
   "metadata": {},
   "outputs": [
    {
     "name": "stdout",
     "output_type": "stream",
     "text": [
      "Command failed with return code 1\n"
     ]
    }
   ],
   "source": [
    "try:\n",
    "    result = subprocess.run(['false'], check=True)\n",
    "except subprocess.CalledProcessError as e:\n",
    "    print('Command failed with return code', e.returncode)"
   ]
  },
  {
   "cell_type": "markdown",
   "id": "7c910298-18c5-4ae4-bfe9-a36188fe02c8",
   "metadata": {},
   "source": [
    "- `check=True` raises an exception if the command exits with a non-zero status."
   ]
  },
  {
   "cell_type": "markdown",
   "id": "ecab7e42-5903-4029-bcf5-945ad6faecd1",
   "metadata": {},
   "source": [
    "## Exercises 1\n",
    "\n",
    "1. Run `dir` on a path on your computer and print the output.\n",
    "2. Think about other processes you could start from your Python scripts and try running them.\n",
    "   \n",
    "## 2. The `sys` module\n",
    "\n",
    "The `sys` module provides functions and variables that are used to interact with the Python runtime environment. It allows access to system-specific parameters and functions.\n",
    "\n",
    "### Important Features of `sys`\n",
    "\n",
    "* **Accessing Command-Line Arguments: `sys.argv`** - A list of command-line arguments passed to a Python script."
   ]
  },
  {
   "cell_type": "code",
   "execution_count": 12,
   "id": "584aff48-7bf0-48e9-826d-c2a40181b347",
   "metadata": {},
   "outputs": [
    {
     "name": "stdout",
     "output_type": "stream",
     "text": [
      "Script Name: /Users/iulia/PycharmProjects/python-advanced-custom/.venv/lib/python3.13/site-packages/ipykernel_launcher.py\n",
      "Arguments: ['-f', '/Users/iulia/Library/Jupyter/runtime/kernel-fc3861c8-9484-4b17-a994-96b308956b78.json']\n"
     ]
    }
   ],
   "source": [
    "import sys\n",
    "\n",
    "# Print the script name and arguments\n",
    "print(f\"Script Name: {sys.argv[0]}\")\n",
    "if len(sys.argv) > 1:\n",
    "    print(f\"Arguments: {sys.argv[1:]}\")"
   ]
  },
  {
   "cell_type": "markdown",
   "id": "06e2eef1-2cec-4542-87fb-66c1d764174c",
   "metadata": {},
   "source": [
    "**Run**:\n",
    "```bash\n",
    "python script.py arg1 arg2\n",
    "```\n",
    "**Output**:\n",
    "```\n",
    "Script Name: script.py\n",
    "Arguments: ['arg1', 'arg2']\n",
    "```\n",
    "\n",
    "* **Exiting the Program: `sys.exit()`** - Terminate the program with an optional exit status."
   ]
  },
  {
   "cell_type": "code",
   "execution_count": 13,
   "id": "3cef82fa-d5a9-4504-9209-39b7d20c5fe5",
   "metadata": {},
   "outputs": [
    {
     "name": "stdout",
     "output_type": "stream",
     "text": [
      "Program running...\n"
     ]
    }
   ],
   "source": [
    "if len(sys.argv) < 2:\n",
    "    print(\"Missing arguments!\")\n",
    "    sys.exit(1)\n",
    "print(\"Program running...\")"
   ]
  },
  {
   "cell_type": "markdown",
   "id": "20159d25-62e9-4438-824d-89bb35d9ea80",
   "metadata": {},
   "source": [
    "* **Getting Python Version: `sys.version`** - Returns the version of the Python interpreter."
   ]
  },
  {
   "cell_type": "code",
   "execution_count": 14,
   "id": "7c7fdbd8-b03f-4d61-9f32-905c44777074",
   "metadata": {},
   "outputs": [
    {
     "name": "stdout",
     "output_type": "stream",
     "text": [
      "Python Version: 3.13.0 (v3.13.0:60403a5409f, Oct  7 2024, 00:37:40) [Clang 15.0.0 (clang-1500.3.9.4)]\n"
     ]
    }
   ],
   "source": [
    "print(f\"Python Version: {sys.version}\")"
   ]
  },
  {
   "cell_type": "markdown",
   "id": "fb348a76-a9cd-475e-907a-dde70dcf762c",
   "metadata": {},
   "source": [
    "* **Checking the Platform: `sys.platform`** - Indicates the operating system."
   ]
  },
  {
   "cell_type": "code",
   "execution_count": 15,
   "id": "b08fe487-a822-49ed-a544-e67b4e397203",
   "metadata": {},
   "outputs": [
    {
     "name": "stdout",
     "output_type": "stream",
     "text": [
      "Running on: darwin\n"
     ]
    }
   ],
   "source": [
    "print(f\"Running on: {sys.platform}\")"
   ]
  },
  {
   "cell_type": "markdown",
   "id": "c419ef56-b9d8-4148-bd77-2ac0e3a08886",
   "metadata": {},
   "source": [
    "* **Path Management: `sys.path`**\n",
    "    - A list of directories where Python looks for modules.\n",
    "    - You can modify `sys.path` to include custom directories for module imports."
   ]
  },
  {
   "cell_type": "code",
   "execution_count": 16,
   "id": "12494fd6-7020-428d-ba45-af5e9ecc8a94",
   "metadata": {},
   "outputs": [
    {
     "name": "stdout",
     "output_type": "stream",
     "text": [
      "Module Search Paths:\n",
      "/Library/Frameworks/Python.framework/Versions/3.13/lib/python313.zip\n",
      "/Library/Frameworks/Python.framework/Versions/3.13/lib/python3.13\n",
      "/Library/Frameworks/Python.framework/Versions/3.13/lib/python3.13/lib-dynload\n",
      "\n",
      "/Users/iulia/PycharmProjects/python-advanced-custom/.venv/lib/python3.13/site-packages\n"
     ]
    }
   ],
   "source": [
    "print(\"Module Search Paths:\")\n",
    "for path in sys.path:\n",
    "    print(path)"
   ]
  }
 ],
 "metadata": {
  "kernelspec": {
   "display_name": "Python 3 (ipykernel)",
   "language": "python",
   "name": "python3"
  },
  "language_info": {
   "codemirror_mode": {
    "name": "ipython",
    "version": 3
   },
   "file_extension": ".py",
   "mimetype": "text/x-python",
   "name": "python",
   "nbconvert_exporter": "python",
   "pygments_lexer": "ipython3",
   "version": "3.13.0"
  }
 },
 "nbformat": 4,
 "nbformat_minor": 5
}
