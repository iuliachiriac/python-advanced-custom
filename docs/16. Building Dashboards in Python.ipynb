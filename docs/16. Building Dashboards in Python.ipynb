{
 "cells": [
  {
   "cell_type": "markdown",
   "id": "1ebdab4a-d126-4607-81ad-842cd05b1ebe",
   "metadata": {},
   "source": [
    "## Pandas \n",
    "\n",
    "Pandas is a powerful Python library for data manipulation and analysis. It is a 3rd party package and should be installed:\n",
    "\n",
    "```\n",
    "pip install pandas\n",
    "```\n",
    "\n",
    "Central to Pandas is the **DataFrame**, a two-dimensional, labeled data structure similar to a spreadsheet or SQL table.\n",
    "\n",
    "#### 1. **Loading Data into a DataFrame**\n",
    "You can create a DataFrame from a variety of data sources, such as CSV files, Excel files, or Python dictionaries."
   ]
  },
  {
   "cell_type": "code",
   "execution_count": 1,
   "id": "98ea61ac-910d-4938-94de-31c0f00f88be",
   "metadata": {},
   "outputs": [],
   "source": [
    "import pandas as pd\n",
    "\n",
    "# Load data from a CSV file\n",
    "books_df = pd.read_csv('books.csv')"
   ]
  },
  {
   "cell_type": "code",
   "execution_count": 3,
   "id": "27093805-ba46-4697-a89e-a3765cb7db40",
   "metadata": {},
   "outputs": [],
   "source": [
    "# Load data from an Excel file\n",
    "financial_df = pd.read_excel('Financial Sample.xlsx')"
   ]
  },
  {
   "cell_type": "code",
   "execution_count": 4,
   "id": "79e0bde6-1c09-47f7-b3b3-d7e55a8e0539",
   "metadata": {},
   "outputs": [],
   "source": [
    "# Create a DataFrame from a dictionary\n",
    "data = {'Name': ['Alice', 'Bob', 'Charlie'], 'Age': [25, 30, 35]}\n",
    "people_df = pd.DataFrame(data)"
   ]
  },
  {
   "cell_type": "markdown",
   "id": "524864b2-e2b7-47b2-bbd9-9b260cc99fb6",
   "metadata": {},
   "source": [
    "#### 2. **Exploring the DataFrame**\n",
    "Exploration is key to understanding the structure and contents of your data."
   ]
  },
  {
   "cell_type": "code",
   "execution_count": 5,
   "id": "b67893d9-3fd3-4d07-b4b7-bf46bbac9c1e",
   "metadata": {},
   "outputs": [
    {
     "data": {
      "text/html": [
       "<div>\n",
       "<style scoped>\n",
       "    .dataframe tbody tr th:only-of-type {\n",
       "        vertical-align: middle;\n",
       "    }\n",
       "\n",
       "    .dataframe tbody tr th {\n",
       "        vertical-align: top;\n",
       "    }\n",
       "\n",
       "    .dataframe thead th {\n",
       "        text-align: right;\n",
       "    }\n",
       "</style>\n",
       "<table border=\"1\" class=\"dataframe\">\n",
       "  <thead>\n",
       "    <tr style=\"text-align: right;\">\n",
       "      <th></th>\n",
       "      <th>Title</th>\n",
       "      <th>Author</th>\n",
       "      <th>Genre</th>\n",
       "      <th>Pages</th>\n",
       "      <th>Publisher</th>\n",
       "    </tr>\n",
       "  </thead>\n",
       "  <tbody>\n",
       "    <tr>\n",
       "      <th>0</th>\n",
       "      <td>Fundamentals of Wavelets</td>\n",
       "      <td>Goswami, Jaideva</td>\n",
       "      <td>signal_processing</td>\n",
       "      <td>228</td>\n",
       "      <td>Wiley</td>\n",
       "    </tr>\n",
       "    <tr>\n",
       "      <th>1</th>\n",
       "      <td>Data Smart</td>\n",
       "      <td>Foreman, John</td>\n",
       "      <td>data_science</td>\n",
       "      <td>235</td>\n",
       "      <td>Wiley</td>\n",
       "    </tr>\n",
       "    <tr>\n",
       "      <th>2</th>\n",
       "      <td>God Created the Integers</td>\n",
       "      <td>Hawking, Stephen</td>\n",
       "      <td>mathematics</td>\n",
       "      <td>197</td>\n",
       "      <td>Penguin</td>\n",
       "    </tr>\n",
       "    <tr>\n",
       "      <th>3</th>\n",
       "      <td>Superfreakonomics</td>\n",
       "      <td>Dubner, Stephen</td>\n",
       "      <td>economics</td>\n",
       "      <td>179</td>\n",
       "      <td>HarperCollins</td>\n",
       "    </tr>\n",
       "    <tr>\n",
       "      <th>4</th>\n",
       "      <td>Orientalism</td>\n",
       "      <td>Said, Edward</td>\n",
       "      <td>history</td>\n",
       "      <td>197</td>\n",
       "      <td>Penguin</td>\n",
       "    </tr>\n",
       "  </tbody>\n",
       "</table>\n",
       "</div>"
      ],
      "text/plain": [
       "                      Title            Author              Genre  Pages  \\\n",
       "0  Fundamentals of Wavelets  Goswami, Jaideva  signal_processing    228   \n",
       "1                Data Smart     Foreman, John       data_science    235   \n",
       "2  God Created the Integers  Hawking, Stephen        mathematics    197   \n",
       "3         Superfreakonomics   Dubner, Stephen          economics    179   \n",
       "4               Orientalism      Said, Edward            history    197   \n",
       "\n",
       "       Publisher  \n",
       "0          Wiley  \n",
       "1          Wiley  \n",
       "2        Penguin  \n",
       "3  HarperCollins  \n",
       "4        Penguin  "
      ]
     },
     "execution_count": 5,
     "metadata": {},
     "output_type": "execute_result"
    }
   ],
   "source": [
    "books_df.head()  # Display the first few rows"
   ]
  },
  {
   "cell_type": "code",
   "execution_count": 8,
   "id": "335238a4-73ff-45cf-9f57-e28fec06148f",
   "metadata": {},
   "outputs": [
    {
     "data": {
      "text/html": [
       "<div>\n",
       "<style scoped>\n",
       "    .dataframe tbody tr th:only-of-type {\n",
       "        vertical-align: middle;\n",
       "    }\n",
       "\n",
       "    .dataframe tbody tr th {\n",
       "        vertical-align: top;\n",
       "    }\n",
       "\n",
       "    .dataframe thead th {\n",
       "        text-align: right;\n",
       "    }\n",
       "</style>\n",
       "<table border=\"1\" class=\"dataframe\">\n",
       "  <thead>\n",
       "    <tr style=\"text-align: right;\">\n",
       "      <th></th>\n",
       "      <th>Title</th>\n",
       "      <th>Author</th>\n",
       "      <th>Genre</th>\n",
       "      <th>Pages</th>\n",
       "      <th>Publisher</th>\n",
       "    </tr>\n",
       "  </thead>\n",
       "  <tbody>\n",
       "    <tr>\n",
       "      <th>209</th>\n",
       "      <td>Idiot, The</td>\n",
       "      <td>Dostoevsky, Fyodor</td>\n",
       "      <td>fiction</td>\n",
       "      <td>197</td>\n",
       "      <td>NaN</td>\n",
       "    </tr>\n",
       "    <tr>\n",
       "      <th>210</th>\n",
       "      <td>Christmas Carol, A</td>\n",
       "      <td>Dickens, Charles</td>\n",
       "      <td>fiction</td>\n",
       "      <td>196</td>\n",
       "      <td>NaN</td>\n",
       "    </tr>\n",
       "  </tbody>\n",
       "</table>\n",
       "</div>"
      ],
      "text/plain": [
       "                  Title              Author    Genre  Pages Publisher\n",
       "209          Idiot, The  Dostoevsky, Fyodor  fiction    197       NaN\n",
       "210  Christmas Carol, A    Dickens, Charles  fiction    196       NaN"
      ]
     },
     "execution_count": 8,
     "metadata": {},
     "output_type": "execute_result"
    }
   ],
   "source": [
    "books_df.tail(2)  # Display the last few rows"
   ]
  },
  {
   "cell_type": "code",
   "execution_count": 11,
   "id": "0e834d94-0835-4e2e-96be-ebc29d7b98c9",
   "metadata": {},
   "outputs": [
    {
     "data": {
      "text/html": [
       "<div>\n",
       "<style scoped>\n",
       "    .dataframe tbody tr th:only-of-type {\n",
       "        vertical-align: middle;\n",
       "    }\n",
       "\n",
       "    .dataframe tbody tr th {\n",
       "        vertical-align: top;\n",
       "    }\n",
       "\n",
       "    .dataframe thead th {\n",
       "        text-align: right;\n",
       "    }\n",
       "</style>\n",
       "<table border=\"1\" class=\"dataframe\">\n",
       "  <thead>\n",
       "    <tr style=\"text-align: right;\">\n",
       "      <th></th>\n",
       "      <th>Pages</th>\n",
       "    </tr>\n",
       "  </thead>\n",
       "  <tbody>\n",
       "    <tr>\n",
       "      <th>count</th>\n",
       "      <td>211.000000</td>\n",
       "    </tr>\n",
       "    <tr>\n",
       "      <th>mean</th>\n",
       "      <td>206.056872</td>\n",
       "    </tr>\n",
       "    <tr>\n",
       "      <th>std</th>\n",
       "      <td>26.828141</td>\n",
       "    </tr>\n",
       "    <tr>\n",
       "      <th>min</th>\n",
       "      <td>160.000000</td>\n",
       "    </tr>\n",
       "    <tr>\n",
       "      <th>25%</th>\n",
       "      <td>180.000000</td>\n",
       "    </tr>\n",
       "    <tr>\n",
       "      <th>50%</th>\n",
       "      <td>199.000000</td>\n",
       "    </tr>\n",
       "    <tr>\n",
       "      <th>75%</th>\n",
       "      <td>229.500000</td>\n",
       "    </tr>\n",
       "    <tr>\n",
       "      <th>max</th>\n",
       "      <td>283.000000</td>\n",
       "    </tr>\n",
       "  </tbody>\n",
       "</table>\n",
       "</div>"
      ],
      "text/plain": [
       "            Pages\n",
       "count  211.000000\n",
       "mean   206.056872\n",
       "std     26.828141\n",
       "min    160.000000\n",
       "25%    180.000000\n",
       "50%    199.000000\n",
       "75%    229.500000\n",
       "max    283.000000"
      ]
     },
     "execution_count": 11,
     "metadata": {},
     "output_type": "execute_result"
    }
   ],
   "source": [
    "books_df.describe()  # Get basic statistics for numeric columns"
   ]
  },
  {
   "cell_type": "code",
   "execution_count": 12,
   "id": "a7006577-70f1-483a-a4fc-9031cc63bf13",
   "metadata": {},
   "outputs": [
    {
     "data": {
      "text/plain": [
       "(211, 5)"
      ]
     },
     "execution_count": 12,
     "metadata": {},
     "output_type": "execute_result"
    }
   ],
   "source": [
    "books_df.shape  # Get the shape (rows, columns) of the DataFrame"
   ]
  },
  {
   "cell_type": "code",
   "execution_count": 13,
   "id": "6ce482b6-b5bc-41b4-b06e-c8730e19248b",
   "metadata": {},
   "outputs": [
    {
     "data": {
      "text/plain": [
       "Index(['Title', 'Author', 'Genre', 'Pages', 'Publisher'], dtype='object')"
      ]
     },
     "execution_count": 13,
     "metadata": {},
     "output_type": "execute_result"
    }
   ],
   "source": [
    "books_df.columns  # List the column names"
   ]
  },
  {
   "cell_type": "markdown",
   "id": "92169659-d983-473e-a7cc-efc4cb5d9301",
   "metadata": {},
   "source": [
    "#### 3. **Slicing and Indexing**\n",
    "Access specific rows, columns, or subsets of the DataFrame."
   ]
  },
  {
   "cell_type": "code",
   "execution_count": 15,
   "id": "306912b3-0873-4588-87dd-076099ea7cf5",
   "metadata": {},
   "outputs": [
    {
     "data": {
      "text/plain": [
       "0          Fundamentals of Wavelets\n",
       "1                        Data Smart\n",
       "2          God Created the Integers\n",
       "3                 Superfreakonomics\n",
       "4                       Orientalism\n",
       "                   ...             \n",
       "206        Structure and Randomness\n",
       "207    Image Processing with MATLAB\n",
       "208                     Animal Farm\n",
       "209                      Idiot, The\n",
       "210              Christmas Carol, A\n",
       "Name: Title, Length: 211, dtype: object"
      ]
     },
     "execution_count": 15,
     "metadata": {},
     "output_type": "execute_result"
    }
   ],
   "source": [
    "books_df[\"Title\"]  # Select a single column"
   ]
  },
  {
   "cell_type": "code",
   "execution_count": 16,
   "id": "7d6bb3ad-e2e5-44f1-bbf5-3829ebfaf03f",
   "metadata": {},
   "outputs": [
    {
     "data": {
      "text/html": [
       "<div>\n",
       "<style scoped>\n",
       "    .dataframe tbody tr th:only-of-type {\n",
       "        vertical-align: middle;\n",
       "    }\n",
       "\n",
       "    .dataframe tbody tr th {\n",
       "        vertical-align: top;\n",
       "    }\n",
       "\n",
       "    .dataframe thead th {\n",
       "        text-align: right;\n",
       "    }\n",
       "</style>\n",
       "<table border=\"1\" class=\"dataframe\">\n",
       "  <thead>\n",
       "    <tr style=\"text-align: right;\">\n",
       "      <th></th>\n",
       "      <th>Title</th>\n",
       "      <th>Genre</th>\n",
       "    </tr>\n",
       "  </thead>\n",
       "  <tbody>\n",
       "    <tr>\n",
       "      <th>0</th>\n",
       "      <td>Fundamentals of Wavelets</td>\n",
       "      <td>signal_processing</td>\n",
       "    </tr>\n",
       "    <tr>\n",
       "      <th>1</th>\n",
       "      <td>Data Smart</td>\n",
       "      <td>data_science</td>\n",
       "    </tr>\n",
       "    <tr>\n",
       "      <th>2</th>\n",
       "      <td>God Created the Integers</td>\n",
       "      <td>mathematics</td>\n",
       "    </tr>\n",
       "    <tr>\n",
       "      <th>3</th>\n",
       "      <td>Superfreakonomics</td>\n",
       "      <td>economics</td>\n",
       "    </tr>\n",
       "    <tr>\n",
       "      <th>4</th>\n",
       "      <td>Orientalism</td>\n",
       "      <td>history</td>\n",
       "    </tr>\n",
       "    <tr>\n",
       "      <th>...</th>\n",
       "      <td>...</td>\n",
       "      <td>...</td>\n",
       "    </tr>\n",
       "    <tr>\n",
       "      <th>206</th>\n",
       "      <td>Structure and Randomness</td>\n",
       "      <td>mathematics</td>\n",
       "    </tr>\n",
       "    <tr>\n",
       "      <th>207</th>\n",
       "      <td>Image Processing with MATLAB</td>\n",
       "      <td>signal_processing</td>\n",
       "    </tr>\n",
       "    <tr>\n",
       "      <th>208</th>\n",
       "      <td>Animal Farm</td>\n",
       "      <td>fiction</td>\n",
       "    </tr>\n",
       "    <tr>\n",
       "      <th>209</th>\n",
       "      <td>Idiot, The</td>\n",
       "      <td>fiction</td>\n",
       "    </tr>\n",
       "    <tr>\n",
       "      <th>210</th>\n",
       "      <td>Christmas Carol, A</td>\n",
       "      <td>fiction</td>\n",
       "    </tr>\n",
       "  </tbody>\n",
       "</table>\n",
       "<p>211 rows × 2 columns</p>\n",
       "</div>"
      ],
      "text/plain": [
       "                            Title              Genre\n",
       "0        Fundamentals of Wavelets  signal_processing\n",
       "1                      Data Smart       data_science\n",
       "2        God Created the Integers        mathematics\n",
       "3               Superfreakonomics          economics\n",
       "4                     Orientalism            history\n",
       "..                            ...                ...\n",
       "206      Structure and Randomness        mathematics\n",
       "207  Image Processing with MATLAB  signal_processing\n",
       "208                   Animal Farm            fiction\n",
       "209                    Idiot, The            fiction\n",
       "210            Christmas Carol, A            fiction\n",
       "\n",
       "[211 rows x 2 columns]"
      ]
     },
     "execution_count": 16,
     "metadata": {},
     "output_type": "execute_result"
    }
   ],
   "source": [
    "books_df[[\"Title\", \"Genre\"]]  # Select multiple columns"
   ]
  },
  {
   "cell_type": "code",
   "execution_count": 21,
   "id": "3a7f6300-b0b8-464b-a2af-841a17fed861",
   "metadata": {},
   "outputs": [
    {
     "data": {
      "text/plain": [
       "Title        Fundamentals of Wavelets\n",
       "Author               Goswami, Jaideva\n",
       "Genre               signal_processing\n",
       "Pages                             228\n",
       "Publisher                       Wiley\n",
       "Name: 0, dtype: object"
      ]
     },
     "execution_count": 21,
     "metadata": {},
     "output_type": "execute_result"
    }
   ],
   "source": [
    "books_df.iloc[0]  # Select rows by index"
   ]
  },
  {
   "cell_type": "code",
   "execution_count": 23,
   "id": "37428152-03d6-4a2d-8040-45be5d15b955",
   "metadata": {},
   "outputs": [
    {
     "data": {
      "text/plain": [
       "'Fundamentals of Wavelets'"
      ]
     },
     "execution_count": 23,
     "metadata": {},
     "output_type": "execute_result"
    }
   ],
   "source": [
    "books_df.loc[0, \"Title\"]  # Select rows and columns by labels"
   ]
  },
  {
   "cell_type": "markdown",
   "id": "9ad1b0e0-2964-4822-9b7b-a26b64856358",
   "metadata": {},
   "source": [
    "#### 4. **Filtering Data**\n",
    "Use conditions to filter rows based on column values."
   ]
  },
  {
   "cell_type": "code",
   "execution_count": 27,
   "id": "77a0db41-7a3e-47f9-89e6-b9021f37e164",
   "metadata": {},
   "outputs": [
    {
     "data": {
      "text/html": [
       "<div>\n",
       "<style scoped>\n",
       "    .dataframe tbody tr th:only-of-type {\n",
       "        vertical-align: middle;\n",
       "    }\n",
       "\n",
       "    .dataframe tbody tr th {\n",
       "        vertical-align: top;\n",
       "    }\n",
       "\n",
       "    .dataframe thead th {\n",
       "        text-align: right;\n",
       "    }\n",
       "</style>\n",
       "<table border=\"1\" class=\"dataframe\">\n",
       "  <thead>\n",
       "    <tr style=\"text-align: right;\">\n",
       "      <th></th>\n",
       "      <th>Title</th>\n",
       "      <th>Author</th>\n",
       "      <th>Genre</th>\n",
       "      <th>Pages</th>\n",
       "      <th>Publisher</th>\n",
       "    </tr>\n",
       "  </thead>\n",
       "  <tbody>\n",
       "    <tr>\n",
       "      <th>0</th>\n",
       "      <td>Fundamentals of Wavelets</td>\n",
       "      <td>Goswami, Jaideva</td>\n",
       "      <td>signal_processing</td>\n",
       "      <td>228</td>\n",
       "      <td>Wiley</td>\n",
       "    </tr>\n",
       "    <tr>\n",
       "      <th>1</th>\n",
       "      <td>Data Smart</td>\n",
       "      <td>Foreman, John</td>\n",
       "      <td>data_science</td>\n",
       "      <td>235</td>\n",
       "      <td>Wiley</td>\n",
       "    </tr>\n",
       "    <tr>\n",
       "      <th>5</th>\n",
       "      <td>Nature of Statistical Learning Theory, The</td>\n",
       "      <td>Vapnik, Vladimir</td>\n",
       "      <td>data_science</td>\n",
       "      <td>230</td>\n",
       "      <td>Springer</td>\n",
       "    </tr>\n",
       "    <tr>\n",
       "      <th>6</th>\n",
       "      <td>Integration of the Indian States</td>\n",
       "      <td>Menon, V P</td>\n",
       "      <td>history</td>\n",
       "      <td>217</td>\n",
       "      <td>Orient Blackswan</td>\n",
       "    </tr>\n",
       "    <tr>\n",
       "      <th>8</th>\n",
       "      <td>Image Processing &amp; Mathematical Morphology</td>\n",
       "      <td>Shih, Frank</td>\n",
       "      <td>signal_processing</td>\n",
       "      <td>241</td>\n",
       "      <td>CRC</td>\n",
       "    </tr>\n",
       "    <tr>\n",
       "      <th>...</th>\n",
       "      <td>...</td>\n",
       "      <td>...</td>\n",
       "      <td>...</td>\n",
       "      <td>...</td>\n",
       "      <td>...</td>\n",
       "    </tr>\n",
       "    <tr>\n",
       "      <th>189</th>\n",
       "      <td>Dongri to Dubai</td>\n",
       "      <td>Zaidi, Hussain</td>\n",
       "      <td>nonfiction</td>\n",
       "      <td>216</td>\n",
       "      <td>NaN</td>\n",
       "    </tr>\n",
       "    <tr>\n",
       "      <th>193</th>\n",
       "      <td>More Tears to Cry</td>\n",
       "      <td>Sassoon, Jean</td>\n",
       "      <td>fiction</td>\n",
       "      <td>235</td>\n",
       "      <td>NaN</td>\n",
       "    </tr>\n",
       "    <tr>\n",
       "      <th>204</th>\n",
       "      <td>Batman Handbook</td>\n",
       "      <td>NaN</td>\n",
       "      <td>comic</td>\n",
       "      <td>270</td>\n",
       "      <td>NaN</td>\n",
       "    </tr>\n",
       "    <tr>\n",
       "      <th>206</th>\n",
       "      <td>Structure and Randomness</td>\n",
       "      <td>Tao, Terence</td>\n",
       "      <td>mathematics</td>\n",
       "      <td>252</td>\n",
       "      <td>NaN</td>\n",
       "    </tr>\n",
       "    <tr>\n",
       "      <th>207</th>\n",
       "      <td>Image Processing with MATLAB</td>\n",
       "      <td>Eddins, Steve</td>\n",
       "      <td>signal_processing</td>\n",
       "      <td>241</td>\n",
       "      <td>NaN</td>\n",
       "    </tr>\n",
       "  </tbody>\n",
       "</table>\n",
       "<p>104 rows × 5 columns</p>\n",
       "</div>"
      ],
      "text/plain": [
       "                                          Title            Author  \\\n",
       "0                      Fundamentals of Wavelets  Goswami, Jaideva   \n",
       "1                                    Data Smart     Foreman, John   \n",
       "5    Nature of Statistical Learning Theory, The  Vapnik, Vladimir   \n",
       "6              Integration of the Indian States        Menon, V P   \n",
       "8    Image Processing & Mathematical Morphology       Shih, Frank   \n",
       "..                                          ...               ...   \n",
       "189                             Dongri to Dubai    Zaidi, Hussain   \n",
       "193                           More Tears to Cry     Sassoon, Jean   \n",
       "204                             Batman Handbook               NaN   \n",
       "206                    Structure and Randomness      Tao, Terence   \n",
       "207                Image Processing with MATLAB     Eddins, Steve   \n",
       "\n",
       "                 Genre  Pages         Publisher  \n",
       "0    signal_processing    228             Wiley  \n",
       "1         data_science    235             Wiley  \n",
       "5         data_science    230          Springer  \n",
       "6              history    217  Orient Blackswan  \n",
       "8    signal_processing    241               CRC  \n",
       "..                 ...    ...               ...  \n",
       "189         nonfiction    216               NaN  \n",
       "193            fiction    235               NaN  \n",
       "204              comic    270               NaN  \n",
       "206        mathematics    252               NaN  \n",
       "207  signal_processing    241               NaN  \n",
       "\n",
       "[104 rows x 5 columns]"
      ]
     },
     "execution_count": 27,
     "metadata": {},
     "output_type": "execute_result"
    }
   ],
   "source": [
    "books_df[books_df[\"Pages\"] > 200]"
   ]
  },
  {
   "cell_type": "code",
   "execution_count": 30,
   "id": "d1faea01-74c2-458c-a4e1-b3214e2ddd5a",
   "metadata": {},
   "outputs": [
    {
     "data": {
      "text/html": [
       "<div>\n",
       "<style scoped>\n",
       "    .dataframe tbody tr th:only-of-type {\n",
       "        vertical-align: middle;\n",
       "    }\n",
       "\n",
       "    .dataframe tbody tr th {\n",
       "        vertical-align: top;\n",
       "    }\n",
       "\n",
       "    .dataframe thead th {\n",
       "        text-align: right;\n",
       "    }\n",
       "</style>\n",
       "<table border=\"1\" class=\"dataframe\">\n",
       "  <thead>\n",
       "    <tr style=\"text-align: right;\">\n",
       "      <th></th>\n",
       "      <th>Title</th>\n",
       "      <th>Author</th>\n",
       "      <th>Genre</th>\n",
       "      <th>Pages</th>\n",
       "      <th>Publisher</th>\n",
       "    </tr>\n",
       "  </thead>\n",
       "  <tbody>\n",
       "    <tr>\n",
       "      <th>1</th>\n",
       "      <td>Data Smart</td>\n",
       "      <td>Foreman, John</td>\n",
       "      <td>data_science</td>\n",
       "      <td>235</td>\n",
       "      <td>Wiley</td>\n",
       "    </tr>\n",
       "    <tr>\n",
       "      <th>16</th>\n",
       "      <td>Statistical Decision Theory'</td>\n",
       "      <td>Pratt, John</td>\n",
       "      <td>data_science</td>\n",
       "      <td>236</td>\n",
       "      <td>MIT Press</td>\n",
       "    </tr>\n",
       "    <tr>\n",
       "      <th>17</th>\n",
       "      <td>Data Mining Handbook</td>\n",
       "      <td>Nisbet, Robert</td>\n",
       "      <td>data_science</td>\n",
       "      <td>242</td>\n",
       "      <td>Apress</td>\n",
       "    </tr>\n",
       "    <tr>\n",
       "      <th>22</th>\n",
       "      <td>Machine Learning for Hackers</td>\n",
       "      <td>Conway, Drew</td>\n",
       "      <td>data_science</td>\n",
       "      <td>233</td>\n",
       "      <td>O'Reilly</td>\n",
       "    </tr>\n",
       "    <tr>\n",
       "      <th>23</th>\n",
       "      <td>Signal and the Noise, The</td>\n",
       "      <td>Silver, Nate</td>\n",
       "      <td>data_science</td>\n",
       "      <td>233</td>\n",
       "      <td>Penguin</td>\n",
       "    </tr>\n",
       "    <tr>\n",
       "      <th>24</th>\n",
       "      <td>Python for Data Analysis</td>\n",
       "      <td>McKinney, Wes</td>\n",
       "      <td>data_science</td>\n",
       "      <td>233</td>\n",
       "      <td>O'Reilly</td>\n",
       "    </tr>\n",
       "    <tr>\n",
       "      <th>55</th>\n",
       "      <td>Soft Computing &amp; Intelligent Systems</td>\n",
       "      <td>Gupta, Madan</td>\n",
       "      <td>data_science</td>\n",
       "      <td>242</td>\n",
       "      <td>Elsevier</td>\n",
       "    </tr>\n",
       "    <tr>\n",
       "      <th>58</th>\n",
       "      <td>Learning OpenCV</td>\n",
       "      <td>Bradsky, Gary</td>\n",
       "      <td>data_science</td>\n",
       "      <td>232</td>\n",
       "      <td>O'Reilly</td>\n",
       "    </tr>\n",
       "    <tr>\n",
       "      <th>60</th>\n",
       "      <td>Computer Vision, A Modern Approach</td>\n",
       "      <td>Forsyth, David</td>\n",
       "      <td>data_science</td>\n",
       "      <td>255</td>\n",
       "      <td>Pearson</td>\n",
       "    </tr>\n",
       "    <tr>\n",
       "      <th>134</th>\n",
       "      <td>Pattern Classification</td>\n",
       "      <td>Duda, Hart</td>\n",
       "      <td>data_science</td>\n",
       "      <td>241</td>\n",
       "      <td>NaN</td>\n",
       "    </tr>\n",
       "    <tr>\n",
       "      <th>157</th>\n",
       "      <td>Neural Networks</td>\n",
       "      <td>Haykin, Simon</td>\n",
       "      <td>data_science</td>\n",
       "      <td>240</td>\n",
       "      <td>NaN</td>\n",
       "    </tr>\n",
       "  </tbody>\n",
       "</table>\n",
       "</div>"
      ],
      "text/plain": [
       "                                    Title          Author         Genre  \\\n",
       "1                              Data Smart   Foreman, John  data_science   \n",
       "16           Statistical Decision Theory'     Pratt, John  data_science   \n",
       "17                   Data Mining Handbook  Nisbet, Robert  data_science   \n",
       "22           Machine Learning for Hackers    Conway, Drew  data_science   \n",
       "23              Signal and the Noise, The    Silver, Nate  data_science   \n",
       "24               Python for Data Analysis   McKinney, Wes  data_science   \n",
       "55   Soft Computing & Intelligent Systems    Gupta, Madan  data_science   \n",
       "58                        Learning OpenCV   Bradsky, Gary  data_science   \n",
       "60     Computer Vision, A Modern Approach  Forsyth, David  data_science   \n",
       "134                Pattern Classification      Duda, Hart  data_science   \n",
       "157                       Neural Networks   Haykin, Simon  data_science   \n",
       "\n",
       "     Pages  Publisher  \n",
       "1      235      Wiley  \n",
       "16     236  MIT Press  \n",
       "17     242     Apress  \n",
       "22     233   O'Reilly  \n",
       "23     233    Penguin  \n",
       "24     233   O'Reilly  \n",
       "55     242   Elsevier  \n",
       "58     232   O'Reilly  \n",
       "60     255    Pearson  \n",
       "134    241        NaN  \n",
       "157    240        NaN  "
      ]
     },
     "execution_count": 30,
     "metadata": {},
     "output_type": "execute_result"
    }
   ],
   "source": [
    "books_df[(books_df[\"Pages\"] > 230) & (books_df[\"Genre\"] == \"data_science\")]"
   ]
  },
  {
   "cell_type": "code",
   "execution_count": 36,
   "id": "6e057bc2-bd40-4555-b1c4-c80a29fbcc9e",
   "metadata": {},
   "outputs": [
    {
     "data": {
      "text/html": [
       "<div>\n",
       "<style scoped>\n",
       "    .dataframe tbody tr th:only-of-type {\n",
       "        vertical-align: middle;\n",
       "    }\n",
       "\n",
       "    .dataframe tbody tr th {\n",
       "        vertical-align: top;\n",
       "    }\n",
       "\n",
       "    .dataframe thead th {\n",
       "        text-align: right;\n",
       "    }\n",
       "</style>\n",
       "<table border=\"1\" class=\"dataframe\">\n",
       "  <thead>\n",
       "    <tr style=\"text-align: right;\">\n",
       "      <th></th>\n",
       "      <th>Title</th>\n",
       "      <th>Author</th>\n",
       "      <th>Genre</th>\n",
       "      <th>Pages</th>\n",
       "      <th>Publisher</th>\n",
       "    </tr>\n",
       "  </thead>\n",
       "  <tbody>\n",
       "    <tr>\n",
       "      <th>13</th>\n",
       "      <td>Structure &amp; Interpretation of Computer Programs</td>\n",
       "      <td>Sussman, Gerald</td>\n",
       "      <td>computer_science</td>\n",
       "      <td>240</td>\n",
       "      <td>MIT Press</td>\n",
       "    </tr>\n",
       "    <tr>\n",
       "      <th>55</th>\n",
       "      <td>Soft Computing &amp; Intelligent Systems</td>\n",
       "      <td>Gupta, Madan</td>\n",
       "      <td>data_science</td>\n",
       "      <td>242</td>\n",
       "      <td>Elsevier</td>\n",
       "    </tr>\n",
       "    <tr>\n",
       "      <th>60</th>\n",
       "      <td>Computer Vision, A Modern Approach</td>\n",
       "      <td>Forsyth, David</td>\n",
       "      <td>data_science</td>\n",
       "      <td>255</td>\n",
       "      <td>Pearson</td>\n",
       "    </tr>\n",
       "  </tbody>\n",
       "</table>\n",
       "</div>"
      ],
      "text/plain": [
       "                                              Title           Author  \\\n",
       "13  Structure & Interpretation of Computer Programs  Sussman, Gerald   \n",
       "55             Soft Computing & Intelligent Systems     Gupta, Madan   \n",
       "60               Computer Vision, A Modern Approach   Forsyth, David   \n",
       "\n",
       "               Genre  Pages  Publisher  \n",
       "13  computer_science    240  MIT Press  \n",
       "55      data_science    242   Elsevier  \n",
       "60      data_science    255    Pearson  "
      ]
     },
     "execution_count": 36,
     "metadata": {},
     "output_type": "execute_result"
    }
   ],
   "source": [
    "books_df[books_df[\"Title\"].str.contains(\"Comput\")]"
   ]
  },
  {
   "cell_type": "markdown",
   "id": "d813c4c3-5d2e-4823-a402-ae83aa6261f3",
   "metadata": {},
   "source": [
    "#### 5. **Summarizing Data**\n",
    "Quickly aggregate or summarize data for insights."
   ]
  },
  {
   "cell_type": "code",
   "execution_count": 37,
   "id": "e2092c4e-b4aa-4e5d-878e-6f1b9348e7d5",
   "metadata": {},
   "outputs": [
    {
     "data": {
      "text/plain": [
       "np.float64(206.0568720379147)"
      ]
     },
     "execution_count": 37,
     "metadata": {},
     "output_type": "execute_result"
    }
   ],
   "source": [
    "books_df[\"Pages\"].mean()  # Get the mean of a numeric column"
   ]
  },
  {
   "cell_type": "code",
   "execution_count": 40,
   "id": "f839aeac-1b2b-4b86-aaea-671946b822e1",
   "metadata": {},
   "outputs": [
    {
     "data": {
      "text/plain": [
       "array(['signal_processing', 'data_science', 'mathematics', 'economics',\n",
       "       'history', 'science', 'psychology', 'fiction', 'computer_science',\n",
       "       'nonfiction', 'philosophy', 'comic'], dtype=object)"
      ]
     },
     "execution_count": 40,
     "metadata": {},
     "output_type": "execute_result"
    }
   ],
   "source": [
    "books_df[\"Genre\"].unique()  # Get distinct values in a column"
   ]
  },
  {
   "cell_type": "code",
   "execution_count": 46,
   "id": "9125a18f-03c6-47e1-8f51-111e7bebf82c",
   "metadata": {},
   "outputs": [
    {
     "data": {
      "text/plain": [
       "Genre\n",
       "fiction              64\n",
       "nonfiction           30\n",
       "history              26\n",
       "data_science         17\n",
       "philosophy           17\n",
       "science              14\n",
       "comic                13\n",
       "computer_science     11\n",
       "economics            10\n",
       "mathematics           5\n",
       "signal_processing     3\n",
       "psychology            1\n",
       "Name: count, dtype: int64"
      ]
     },
     "execution_count": 46,
     "metadata": {},
     "output_type": "execute_result"
    }
   ],
   "source": [
    "books_df[\"Genre\"].value_counts()  # Get count for each distinct value in a column"
   ]
  },
  {
   "cell_type": "markdown",
   "id": "98135def-1ec8-45ec-9ac3-e62ee76f64c6",
   "metadata": {},
   "source": [
    "## Exercises 1\n",
    "\n",
    "1. Explore working with a pandas DataFrame using `Financial sample.xlsx`.\n",
    "\n",
    "### Plotly and Plotly Express\n",
    "\n",
    "**Plotly** is a powerful Python library for creating interactive, web-based visualizations. It supports a wide range of chart types, including line charts, scatter plots, bar charts, heatmaps, and 3D visualizations. Plotly is particularly well-suited for data exploration and presentation because of its interactive features like zooming, panning, and tooltips.\n",
    "\n",
    "**Plotly Express** is a high-level interface for Plotly, designed to simplify the process of creating beautiful visualizations with minimal code. It is built on top of Plotly and Pandas, allowing you to quickly generate charts by using a single function call while automatically handling styling, axis labels, and legends. For more advanced customizations, you can integrate Plotly Express plots with the broader Plotly library. \n",
    "\n",
    "#### Installation\n",
    "```\n",
    "pip install plotly\n",
    "```\n",
    "\n",
    "### Visualizations examples\n",
    "#### Bar chart\n",
    "Visualize the number of pages for each book:"
   ]
  },
  {
   "cell_type": "code",
   "execution_count": 52,
   "id": "b6ab078c-7208-4c06-9b2e-5e43ec8b76bf",
   "metadata": {},
   "outputs": [
    {
     "data": {
      "application/vnd.plotly.v1+json": {
       "config": {
        "plotlyServerURL": "https://plot.ly"
       },
       "data": [
        {
         "alignmentgroup": "True",
         "hovertemplate": "Genre=signal_processing<br>Title=%{x}<br>Pages=%{y}<extra></extra>",
         "legendgroup": "signal_processing",
         "marker": {
          "color": "#636efa",
          "pattern": {
           "shape": ""
          }
         },
         "name": "signal_processing",
         "offsetgroup": "signal_processing",
         "orientation": "v",
         "showlegend": true,
         "textposition": "auto",
         "type": "bar",
         "x": [
          "Fundamentals of Wavelets",
          "Image Processing & Mathematical Morphology",
          "Image Processing with MATLAB"
         ],
         "xaxis": "x",
         "y": [
          228,
          241,
          241
         ],
         "yaxis": "y"
        },
        {
         "alignmentgroup": "True",
         "hovertemplate": "Genre=data_science<br>Title=%{x}<br>Pages=%{y}<extra></extra>",
         "legendgroup": "data_science",
         "marker": {
          "color": "#EF553B",
          "pattern": {
           "shape": ""
          }
         },
         "name": "data_science",
         "offsetgroup": "data_science",
         "orientation": "v",
         "showlegend": true,
         "textposition": "auto",
         "type": "bar",
         "x": [
          "Data Smart",
          "Nature of Statistical Learning Theory, The",
          "Data Scientists at Work",
          "Statistical Decision Theory'",
          "Data Mining Handbook",
          "Machine Learning for Hackers",
          "Signal and the Noise, The",
          "Python for Data Analysis",
          "Soft Computing & Intelligent Systems",
          "Learning OpenCV",
          "Computer Vision, A Modern Approach",
          "Pattern Classification",
          "Elements of Information Theory",
          "Neural Networks",
          "Statistical Learning Theory",
          "Think Complexity",
          "Data Analysis with Open Source Tools"
         ],
         "xaxis": "x",
         "y": [
          235,
          230,
          230,
          236,
          242,
          233,
          233,
          233,
          242,
          232,
          255,
          241,
          229,
          240,
          228,
          230,
          230
         ],
         "yaxis": "y"
        },
        {
         "alignmentgroup": "True",
         "hovertemplate": "Genre=mathematics<br>Title=%{x}<br>Pages=%{y}<extra></extra>",
         "legendgroup": "mathematics",
         "marker": {
          "color": "#00cc96",
          "pattern": {
           "shape": ""
          }
         },
         "name": "mathematics",
         "offsetgroup": "mathematics",
         "orientation": "v",
         "showlegend": true,
         "textposition": "auto",
         "type": "bar",
         "x": [
          "God Created the Integers",
          "Birth of a Theorem",
          "Analysis, Vol I",
          "Men of Mathematics",
          "Structure and Randomness"
         ],
         "xaxis": "x",
         "y": [
          197,
          234,
          248,
          217,
          252
         ],
         "yaxis": "y"
        },
        {
         "alignmentgroup": "True",
         "hovertemplate": "Genre=economics<br>Title=%{x}<br>Pages=%{y}<extra></extra>",
         "legendgroup": "economics",
         "marker": {
          "color": "#ab63fa",
          "pattern": {
           "shape": ""
          }
         },
         "name": "economics",
         "offsetgroup": "economics",
         "orientation": "v",
         "showlegend": true,
         "textposition": "auto",
         "type": "bar",
         "x": [
          "Superfreakonomics",
          "Wealth of Nations, The",
          "Freakonomics",
          "Textbook of Economic Theory",
          "Econometric Analysis",
          "Social Choice & Welfare, Vol 39 No. 1",
          "New Markets & Other Essays",
          "Age of Discontuinity, The",
          "Rationality & Freedom",
          "Journal of Economics, vol 106 No 3"
         ],
         "xaxis": "x",
         "y": [
          179,
          175,
          197,
          242,
          242,
          235,
          176,
          178,
          213,
          235
         ],
         "yaxis": "y"
        },
        {
         "alignmentgroup": "True",
         "hovertemplate": "Genre=history<br>Title=%{x}<br>Pages=%{y}<extra></extra>",
         "legendgroup": "history",
         "marker": {
          "color": "#FFA15A",
          "pattern": {
           "shape": ""
          }
         },
         "name": "history",
         "offsetgroup": "history",
         "orientation": "v",
         "showlegend": true,
         "textposition": "auto",
         "type": "bar",
         "x": [
          "Orientalism",
          "Integration of the Indian States",
          "Age of Wrath, The",
          "All the President's Men",
          "Scoop!",
          "Last Mughal, The",
          "India from Midnight to Milennium",
          "World's Greatest Trials, The",
          "O Jerusalem!",
          "Freedom at Midnight",
          "Beyond the Three Seas",
          "Great War for Civilization, The",
          "Clash of Civilizations and Remaking of the World Order",
          "Discovery of India, The",
          "Veil: Secret Wars of the CIA",
          "Short History of the World, A",
          "From Beirut to Jerusalem",
          "Age of the Warrior, The",
          "Empire of the Mughal - The Tainted Throne",
          "Empire of the Mughal - Brothers at War",
          "Empire of the Mughal - Ruler of the World",
          "Empire of the Mughal - The Serpent's Tooth",
          "Empire of the Mughal - Raiders from the North",
          "Mossad",
          "History of England, Foundation",
          "City of Djinns"
         ],
         "xaxis": "x",
         "y": [
          197,
          217,
          238,
          177,
          216,
          199,
          198,
          210,
          217,
          167,
          197,
          197,
          228,
          230,
          171,
          197,
          202,
          197,
          180,
          180,
          180,
          180,
          180,
          236,
          197,
          198
         ],
         "yaxis": "y"
        },
        {
         "alignmentgroup": "True",
         "hovertemplate": "Genre=science<br>Title=%{x}<br>Pages=%{y}<extra></extra>",
         "legendgroup": "science",
         "marker": {
          "color": "#19d3f3",
          "pattern": {
           "shape": ""
          }
         },
         "name": "science",
         "offsetgroup": "science",
         "orientation": "v",
         "showlegend": true,
         "textposition": "auto",
         "type": "bar",
         "x": [
          "Drunkard's Walk, The",
          "Physics & Philosophy",
          "Tao of Physics, The",
          "Surely You're Joking Mr Feynman",
          "Hidden Connections, The",
          "Theory of Everything, The",
          "Electric Universe",
          "Artist and the Mathematician, The",
          "Simpsons & Their Mathematical Secrets",
          "Code Book, The",
          "Numbers Behind Numb3rs, The",
          "Information, The",
          "Broca's Brain",
          "Oxford book of Modern Science Writing"
         ],
         "xaxis": "x",
         "y": [
          197,
          197,
          179,
          198,
          197,
          217,
          201,
          186,
          233,
          197,
          202,
          233,
          174,
          240
         ],
         "yaxis": "y"
        },
        {
         "alignmentgroup": "True",
         "hovertemplate": "Genre=psychology<br>Title=%{x}<br>Pages=%{y}<extra></extra>",
         "legendgroup": "psychology",
         "marker": {
          "color": "#FF6692",
          "pattern": {
           "shape": ""
          }
         },
         "name": "psychology",
         "offsetgroup": "psychology",
         "orientation": "v",
         "showlegend": true,
         "textposition": "auto",
         "type": "bar",
         "x": [
          "How to Think Like Sherlock Holmes"
         ],
         "xaxis": "x",
         "y": [
          240
         ],
         "yaxis": "y"
        },
        {
         "alignmentgroup": "True",
         "hovertemplate": "Genre=fiction<br>Title=%{x}<br>Pages=%{y}<extra></extra>",
         "legendgroup": "fiction",
         "marker": {
          "color": "#B6E880",
          "pattern": {
           "shape": ""
          }
         },
         "name": "fiction",
         "offsetgroup": "fiction",
         "orientation": "v",
         "showlegend": true,
         "textposition": "auto",
         "type": "bar",
         "x": [
          "Slaughterhouse Five",
          "Trial, The",
          "New Machiavelli, The",
          "Outsider, The",
          "Complete Sherlock Holmes, The - Vol I",
          "Complete Sherlock Holmes, The - Vol II",
          "Pillars of the Earth, The",
          "Farewell to Arms, A",
          "Veteran, The",
          "False Impressions",
          "Jurassic Park",
          "Tales of Mystery and Imagination",
          "Asami Asami",
          "Journal of a Novel",
          "Moon is Down, The",
          "Brethren, The",
          "In a Free State",
          "Catch 22",
          "Amulet of Samarkand, The",
          "Crime and Punishment",
          "Angels & Demons",
          "Sea of Poppies",
          "Raisin in the Sun, A",
          "Prisoner of Birth, A",
          "Maqta-e-Ghalib",
          "Great Indian Novel, The",
          "City of Joy, The",
          "Winter of Our Discontent, The",
          "Case of the Lame Canary, The",
          "Hunchback of Notre Dame, The",
          "Burning Bright",
          "Doctor in the Nude",
          "World's Greatest Short Stories, The",
          "Maugham's Collected Short Stories, Vol 3",
          "Phantom of Manhattan, The",
          "Ashenden of The British Agent",
          "We the Living",
          "Selected Short Stories",
          "To Sir With Love",
          "Half A Life",
          "Deceiver, The",
          "Rosy is My Relative",
          "Moon and Sixpence, The",
          "Trembling of a Leaf, The",
          "Doctor on the Brain",
          "Grapes of Wrath, The",
          "20000 Leagues Under the Sea",
          "Batatyachi Chal",
          "Hafasavnuk",
          "Urlasurla",
          "Devil's Advocate, The",
          "More Tears to Cry",
          "Ropemaker, The",
          "Angels & Demons",
          "Judge, The",
          "Attorney, The",
          "Eyeless in Gaza",
          "Tales of Beedle the Bard",
          "Girl with the Dragon Tattoo",
          "Girl who kicked the Hornet's Nest",
          "Girl who played with Fire",
          "Animal Farm",
          "Idiot, The",
          "Christmas Carol, A"
         ],
         "xaxis": "x",
         "y": [
          198,
          198,
          180,
          198,
          176,
          176,
          176,
          179,
          177,
          177,
          174,
          172,
          205,
          196,
          196,
          174,
          196,
          178,
          179,
          180,
          178,
          197,
          175,
          176,
          221,
          198,
          177,
          196,
          179,
          175,
          175,
          179,
          217,
          171,
          180,
          160,
          178,
          215,
          197,
          196,
          178,
          176,
          180,
          205,
          204,
          196,
          190,
          200,
          211,
          211,
          178,
          235,
          196,
          170,
          170,
          170,
          180,
          184,
          179,
          179,
          179,
          180,
          197,
          196
         ],
         "yaxis": "y"
        },
        {
         "alignmentgroup": "True",
         "hovertemplate": "Genre=computer_science<br>Title=%{x}<br>Pages=%{y}<extra></extra>",
         "legendgroup": "computer_science",
         "marker": {
          "color": "#FF97FF",
          "pattern": {
           "shape": ""
          }
         },
         "name": "computer_science",
         "offsetgroup": "computer_science",
         "orientation": "v",
         "showlegend": true,
         "textposition": "auto",
         "type": "bar",
         "x": [
          "Structure & Interpretation of Computer Programs",
          "Making Software",
          "Introduction to Algorithms",
          "Data Structures Using C & C++",
          "Principles of Communication Systems",
          "Let Us C",
          "Power Electronics - Rashid",
          "Power Electronics - Mohan",
          "Pointers in C",
          "Cathedral and the Bazaar, The",
          "Design with OpAmps"
         ],
         "xaxis": "x",
         "y": [
          240,
          232,
          234,
          235,
          240,
          213,
          235,
          237,
          213,
          217,
          240
         ],
         "yaxis": "y"
        },
        {
         "alignmentgroup": "True",
         "hovertemplate": "Genre=nonfiction<br>Title=%{x}<br>Pages=%{y}<extra></extra>",
         "legendgroup": "nonfiction",
         "marker": {
          "color": "#FECB52",
          "pattern": {
           "shape": ""
          }
         },
         "name": "nonfiction",
         "offsetgroup": "nonfiction",
         "orientation": "v",
         "showlegend": true,
         "textposition": "auto",
         "type": "bar",
         "x": [
          "Beautiful and the Damned, The",
          "Mein Kampf",
          "Last Lecture, The",
          "Russian Journal, A",
          "Once There Was a War",
          "Complete Mastermind, The",
          "Dylan on Dylan",
          "Argumentative Indian, The",
          "Idea of Justice, The",
          "Ahe Manohar Tari",
          "Radiowaril Bhashane & Shrutika",
          "Gun Gayin Awadi",
          "Aghal Paghal",
          "Beyond Degrees",
          "Manasa",
          "Bookless in Baghdad",
          "Down and Out in Paris & London",
          "Talking Straight",
          "Uncommon Wisdom",
          "One",
          "Karl Marx Biography",
          "Apulki",
          "Char Shabda",
          "Life in Letters, A",
          "Vyakti ani Valli",
          "Jim Corbett Omnibus",
          "Courtroom Genius, The",
          "Dongri to Dubai",
          "India's Legal System",
          "Murphy's Law"
         ],
         "xaxis": "x",
         "y": [
          198,
          212,
          197,
          196,
          196,
          178,
          197,
          209,
          212,
          213,
          213,
          212,
          212,
          222,
          213,
          206,
          179,
          175,
          197,
          172,
          162,
          211,
          214,
          196,
          211,
          223,
          217,
          216,
          177,
          178
         ],
         "yaxis": "y"
        },
        {
         "alignmentgroup": "True",
         "hovertemplate": "Genre=philosophy<br>Title=%{x}<br>Pages=%{y}<extra></extra>",
         "legendgroup": "philosophy",
         "marker": {
          "color": "#636efa",
          "pattern": {
           "shape": ""
          }
         },
         "name": "philosophy",
         "offsetgroup": "philosophy",
         "orientation": "v",
         "showlegend": true,
         "textposition": "auto",
         "type": "bar",
         "x": [
          "Return of the Primitive",
          "Story of Philosophy, The",
          "On Education",
          "Free Will",
          "Identity & Violence",
          "Zen & The Art of Motorcycle Maintenance",
          "History of Western Philosophy",
          "Unpopular Essays",
          "Political Philosophers",
          "Ayn Rand Answers",
          "Philosophy: Who Needs It",
          "World's Great Thinkers, The",
          "Justice, Judiciary and Democracy",
          "Arthashastra, The",
          "We the People",
          "We the Nation",
          "Prince, The"
         ],
         "xaxis": "x",
         "y": [
          202,
          170,
          203,
          203,
          219,
          172,
          213,
          198,
          162,
          203,
          171,
          189,
          224,
          214,
          216,
          216,
          173
         ],
         "yaxis": "y"
        },
        {
         "alignmentgroup": "True",
         "hovertemplate": "Genre=comic<br>Title=%{x}<br>Pages=%{y}<extra></extra>",
         "legendgroup": "comic",
         "marker": {
          "color": "#EF553B",
          "pattern": {
           "shape": ""
          }
         },
         "name": "comic",
         "offsetgroup": "comic",
         "orientation": "v",
         "showlegend": true,
         "textposition": "auto",
         "type": "bar",
         "x": [
          "Final Crisis",
          "Killing Joke, The",
          "Flashpoint",
          "Batman Earth One",
          "Crisis on Infinite Earths",
          "Superman Earth One - 1",
          "Superman Earth One - 2",
          "Justice League: Throne of Atlantis",
          "Justice League: The Villain's Journey",
          "Death of Superman, The",
          "History of the DC Universe",
          "Batman: The Long Halloween",
          "Batman Handbook"
         ],
         "xaxis": "x",
         "y": [
          257,
          283,
          265,
          265,
          258,
          259,
          258,
          258,
          258,
          258,
          258,
          258,
          270
         ],
         "yaxis": "y"
        }
       ],
       "layout": {
        "autosize": true,
        "barmode": "relative",
        "legend": {
         "title": {
          "text": "Genre"
         },
         "tracegroupgap": 0
        },
        "template": {
         "data": {
          "bar": [
           {
            "error_x": {
             "color": "#2a3f5f"
            },
            "error_y": {
             "color": "#2a3f5f"
            },
            "marker": {
             "line": {
              "color": "#E5ECF6",
              "width": 0.5
             },
             "pattern": {
              "fillmode": "overlay",
              "size": 10,
              "solidity": 0.2
             }
            },
            "type": "bar"
           }
          ],
          "barpolar": [
           {
            "marker": {
             "line": {
              "color": "#E5ECF6",
              "width": 0.5
             },
             "pattern": {
              "fillmode": "overlay",
              "size": 10,
              "solidity": 0.2
             }
            },
            "type": "barpolar"
           }
          ],
          "carpet": [
           {
            "aaxis": {
             "endlinecolor": "#2a3f5f",
             "gridcolor": "white",
             "linecolor": "white",
             "minorgridcolor": "white",
             "startlinecolor": "#2a3f5f"
            },
            "baxis": {
             "endlinecolor": "#2a3f5f",
             "gridcolor": "white",
             "linecolor": "white",
             "minorgridcolor": "white",
             "startlinecolor": "#2a3f5f"
            },
            "type": "carpet"
           }
          ],
          "choropleth": [
           {
            "colorbar": {
             "outlinewidth": 0,
             "ticks": ""
            },
            "type": "choropleth"
           }
          ],
          "contour": [
           {
            "colorbar": {
             "outlinewidth": 0,
             "ticks": ""
            },
            "colorscale": [
             [
              0,
              "#0d0887"
             ],
             [
              0.1111111111111111,
              "#46039f"
             ],
             [
              0.2222222222222222,
              "#7201a8"
             ],
             [
              0.3333333333333333,
              "#9c179e"
             ],
             [
              0.4444444444444444,
              "#bd3786"
             ],
             [
              0.5555555555555556,
              "#d8576b"
             ],
             [
              0.6666666666666666,
              "#ed7953"
             ],
             [
              0.7777777777777778,
              "#fb9f3a"
             ],
             [
              0.8888888888888888,
              "#fdca26"
             ],
             [
              1,
              "#f0f921"
             ]
            ],
            "type": "contour"
           }
          ],
          "contourcarpet": [
           {
            "colorbar": {
             "outlinewidth": 0,
             "ticks": ""
            },
            "type": "contourcarpet"
           }
          ],
          "heatmap": [
           {
            "colorbar": {
             "outlinewidth": 0,
             "ticks": ""
            },
            "colorscale": [
             [
              0,
              "#0d0887"
             ],
             [
              0.1111111111111111,
              "#46039f"
             ],
             [
              0.2222222222222222,
              "#7201a8"
             ],
             [
              0.3333333333333333,
              "#9c179e"
             ],
             [
              0.4444444444444444,
              "#bd3786"
             ],
             [
              0.5555555555555556,
              "#d8576b"
             ],
             [
              0.6666666666666666,
              "#ed7953"
             ],
             [
              0.7777777777777778,
              "#fb9f3a"
             ],
             [
              0.8888888888888888,
              "#fdca26"
             ],
             [
              1,
              "#f0f921"
             ]
            ],
            "type": "heatmap"
           }
          ],
          "heatmapgl": [
           {
            "colorbar": {
             "outlinewidth": 0,
             "ticks": ""
            },
            "colorscale": [
             [
              0,
              "#0d0887"
             ],
             [
              0.1111111111111111,
              "#46039f"
             ],
             [
              0.2222222222222222,
              "#7201a8"
             ],
             [
              0.3333333333333333,
              "#9c179e"
             ],
             [
              0.4444444444444444,
              "#bd3786"
             ],
             [
              0.5555555555555556,
              "#d8576b"
             ],
             [
              0.6666666666666666,
              "#ed7953"
             ],
             [
              0.7777777777777778,
              "#fb9f3a"
             ],
             [
              0.8888888888888888,
              "#fdca26"
             ],
             [
              1,
              "#f0f921"
             ]
            ],
            "type": "heatmapgl"
           }
          ],
          "histogram": [
           {
            "marker": {
             "pattern": {
              "fillmode": "overlay",
              "size": 10,
              "solidity": 0.2
             }
            },
            "type": "histogram"
           }
          ],
          "histogram2d": [
           {
            "colorbar": {
             "outlinewidth": 0,
             "ticks": ""
            },
            "colorscale": [
             [
              0,
              "#0d0887"
             ],
             [
              0.1111111111111111,
              "#46039f"
             ],
             [
              0.2222222222222222,
              "#7201a8"
             ],
             [
              0.3333333333333333,
              "#9c179e"
             ],
             [
              0.4444444444444444,
              "#bd3786"
             ],
             [
              0.5555555555555556,
              "#d8576b"
             ],
             [
              0.6666666666666666,
              "#ed7953"
             ],
             [
              0.7777777777777778,
              "#fb9f3a"
             ],
             [
              0.8888888888888888,
              "#fdca26"
             ],
             [
              1,
              "#f0f921"
             ]
            ],
            "type": "histogram2d"
           }
          ],
          "histogram2dcontour": [
           {
            "colorbar": {
             "outlinewidth": 0,
             "ticks": ""
            },
            "colorscale": [
             [
              0,
              "#0d0887"
             ],
             [
              0.1111111111111111,
              "#46039f"
             ],
             [
              0.2222222222222222,
              "#7201a8"
             ],
             [
              0.3333333333333333,
              "#9c179e"
             ],
             [
              0.4444444444444444,
              "#bd3786"
             ],
             [
              0.5555555555555556,
              "#d8576b"
             ],
             [
              0.6666666666666666,
              "#ed7953"
             ],
             [
              0.7777777777777778,
              "#fb9f3a"
             ],
             [
              0.8888888888888888,
              "#fdca26"
             ],
             [
              1,
              "#f0f921"
             ]
            ],
            "type": "histogram2dcontour"
           }
          ],
          "mesh3d": [
           {
            "colorbar": {
             "outlinewidth": 0,
             "ticks": ""
            },
            "type": "mesh3d"
           }
          ],
          "parcoords": [
           {
            "line": {
             "colorbar": {
              "outlinewidth": 0,
              "ticks": ""
             }
            },
            "type": "parcoords"
           }
          ],
          "pie": [
           {
            "automargin": true,
            "type": "pie"
           }
          ],
          "scatter": [
           {
            "fillpattern": {
             "fillmode": "overlay",
             "size": 10,
             "solidity": 0.2
            },
            "type": "scatter"
           }
          ],
          "scatter3d": [
           {
            "line": {
             "colorbar": {
              "outlinewidth": 0,
              "ticks": ""
             }
            },
            "marker": {
             "colorbar": {
              "outlinewidth": 0,
              "ticks": ""
             }
            },
            "type": "scatter3d"
           }
          ],
          "scattercarpet": [
           {
            "marker": {
             "colorbar": {
              "outlinewidth": 0,
              "ticks": ""
             }
            },
            "type": "scattercarpet"
           }
          ],
          "scattergeo": [
           {
            "marker": {
             "colorbar": {
              "outlinewidth": 0,
              "ticks": ""
             }
            },
            "type": "scattergeo"
           }
          ],
          "scattergl": [
           {
            "marker": {
             "colorbar": {
              "outlinewidth": 0,
              "ticks": ""
             }
            },
            "type": "scattergl"
           }
          ],
          "scattermapbox": [
           {
            "marker": {
             "colorbar": {
              "outlinewidth": 0,
              "ticks": ""
             }
            },
            "type": "scattermapbox"
           }
          ],
          "scatterpolar": [
           {
            "marker": {
             "colorbar": {
              "outlinewidth": 0,
              "ticks": ""
             }
            },
            "type": "scatterpolar"
           }
          ],
          "scatterpolargl": [
           {
            "marker": {
             "colorbar": {
              "outlinewidth": 0,
              "ticks": ""
             }
            },
            "type": "scatterpolargl"
           }
          ],
          "scatterternary": [
           {
            "marker": {
             "colorbar": {
              "outlinewidth": 0,
              "ticks": ""
             }
            },
            "type": "scatterternary"
           }
          ],
          "surface": [
           {
            "colorbar": {
             "outlinewidth": 0,
             "ticks": ""
            },
            "colorscale": [
             [
              0,
              "#0d0887"
             ],
             [
              0.1111111111111111,
              "#46039f"
             ],
             [
              0.2222222222222222,
              "#7201a8"
             ],
             [
              0.3333333333333333,
              "#9c179e"
             ],
             [
              0.4444444444444444,
              "#bd3786"
             ],
             [
              0.5555555555555556,
              "#d8576b"
             ],
             [
              0.6666666666666666,
              "#ed7953"
             ],
             [
              0.7777777777777778,
              "#fb9f3a"
             ],
             [
              0.8888888888888888,
              "#fdca26"
             ],
             [
              1,
              "#f0f921"
             ]
            ],
            "type": "surface"
           }
          ],
          "table": [
           {
            "cells": {
             "fill": {
              "color": "#EBF0F8"
             },
             "line": {
              "color": "white"
             }
            },
            "header": {
             "fill": {
              "color": "#C8D4E3"
             },
             "line": {
              "color": "white"
             }
            },
            "type": "table"
           }
          ]
         },
         "layout": {
          "annotationdefaults": {
           "arrowcolor": "#2a3f5f",
           "arrowhead": 0,
           "arrowwidth": 1
          },
          "autotypenumbers": "strict",
          "coloraxis": {
           "colorbar": {
            "outlinewidth": 0,
            "ticks": ""
           }
          },
          "colorscale": {
           "diverging": [
            [
             0,
             "#8e0152"
            ],
            [
             0.1,
             "#c51b7d"
            ],
            [
             0.2,
             "#de77ae"
            ],
            [
             0.3,
             "#f1b6da"
            ],
            [
             0.4,
             "#fde0ef"
            ],
            [
             0.5,
             "#f7f7f7"
            ],
            [
             0.6,
             "#e6f5d0"
            ],
            [
             0.7,
             "#b8e186"
            ],
            [
             0.8,
             "#7fbc41"
            ],
            [
             0.9,
             "#4d9221"
            ],
            [
             1,
             "#276419"
            ]
           ],
           "sequential": [
            [
             0,
             "#0d0887"
            ],
            [
             0.1111111111111111,
             "#46039f"
            ],
            [
             0.2222222222222222,
             "#7201a8"
            ],
            [
             0.3333333333333333,
             "#9c179e"
            ],
            [
             0.4444444444444444,
             "#bd3786"
            ],
            [
             0.5555555555555556,
             "#d8576b"
            ],
            [
             0.6666666666666666,
             "#ed7953"
            ],
            [
             0.7777777777777778,
             "#fb9f3a"
            ],
            [
             0.8888888888888888,
             "#fdca26"
            ],
            [
             1,
             "#f0f921"
            ]
           ],
           "sequentialminus": [
            [
             0,
             "#0d0887"
            ],
            [
             0.1111111111111111,
             "#46039f"
            ],
            [
             0.2222222222222222,
             "#7201a8"
            ],
            [
             0.3333333333333333,
             "#9c179e"
            ],
            [
             0.4444444444444444,
             "#bd3786"
            ],
            [
             0.5555555555555556,
             "#d8576b"
            ],
            [
             0.6666666666666666,
             "#ed7953"
            ],
            [
             0.7777777777777778,
             "#fb9f3a"
            ],
            [
             0.8888888888888888,
             "#fdca26"
            ],
            [
             1,
             "#f0f921"
            ]
           ]
          },
          "colorway": [
           "#636efa",
           "#EF553B",
           "#00cc96",
           "#ab63fa",
           "#FFA15A",
           "#19d3f3",
           "#FF6692",
           "#B6E880",
           "#FF97FF",
           "#FECB52"
          ],
          "font": {
           "color": "#2a3f5f"
          },
          "geo": {
           "bgcolor": "white",
           "lakecolor": "white",
           "landcolor": "#E5ECF6",
           "showlakes": true,
           "showland": true,
           "subunitcolor": "white"
          },
          "hoverlabel": {
           "align": "left"
          },
          "hovermode": "closest",
          "mapbox": {
           "style": "light"
          },
          "paper_bgcolor": "white",
          "plot_bgcolor": "#E5ECF6",
          "polar": {
           "angularaxis": {
            "gridcolor": "white",
            "linecolor": "white",
            "ticks": ""
           },
           "bgcolor": "#E5ECF6",
           "radialaxis": {
            "gridcolor": "white",
            "linecolor": "white",
            "ticks": ""
           }
          },
          "scene": {
           "xaxis": {
            "backgroundcolor": "#E5ECF6",
            "gridcolor": "white",
            "gridwidth": 2,
            "linecolor": "white",
            "showbackground": true,
            "ticks": "",
            "zerolinecolor": "white"
           },
           "yaxis": {
            "backgroundcolor": "#E5ECF6",
            "gridcolor": "white",
            "gridwidth": 2,
            "linecolor": "white",
            "showbackground": true,
            "ticks": "",
            "zerolinecolor": "white"
           },
           "zaxis": {
            "backgroundcolor": "#E5ECF6",
            "gridcolor": "white",
            "gridwidth": 2,
            "linecolor": "white",
            "showbackground": true,
            "ticks": "",
            "zerolinecolor": "white"
           }
          },
          "shapedefaults": {
           "line": {
            "color": "#2a3f5f"
           }
          },
          "ternary": {
           "aaxis": {
            "gridcolor": "white",
            "linecolor": "white",
            "ticks": ""
           },
           "baxis": {
            "gridcolor": "white",
            "linecolor": "white",
            "ticks": ""
           },
           "bgcolor": "#E5ECF6",
           "caxis": {
            "gridcolor": "white",
            "linecolor": "white",
            "ticks": ""
           }
          },
          "title": {
           "x": 0.05
          },
          "xaxis": {
           "automargin": true,
           "gridcolor": "white",
           "linecolor": "white",
           "ticks": "",
           "title": {
            "standoff": 15
           },
           "zerolinecolor": "white",
           "zerolinewidth": 2
          },
          "yaxis": {
           "automargin": true,
           "gridcolor": "white",
           "linecolor": "white",
           "ticks": "",
           "title": {
            "standoff": 15
           },
           "zerolinecolor": "white",
           "zerolinewidth": 2
          }
         }
        },
        "title": {
         "text": "Pages by Book"
        },
        "xaxis": {
         "anchor": "y",
         "autorange": true,
         "domain": [
          0,
          1
         ],
         "range": [
          -0.5,
          209.5
         ],
         "title": {
          "text": "Title"
         },
         "type": "category"
        },
        "yaxis": {
         "anchor": "x",
         "autorange": true,
         "domain": [
          0,
          1
         ],
         "range": [
          0,
          366.3157894736842
         ],
         "title": {
          "text": "Pages"
         },
         "type": "linear"
        }
       }
      },
      "image/png": "[encoded data removed]",
      "text/html": [
       "<div>                            <div id=\"d3d8e521-1168-4bf0-80cb-3f43de39b7f4\" class=\"plotly-graph-div\" style=\"height:525px; width:100%;\"></div>            <script type=\"text/javascript\">                require([\"plotly\"], function(Plotly) {                    window.PLOTLYENV=window.PLOTLYENV || {};                                    if (document.getElementById(\"d3d8e521-1168-4bf0-80cb-3f43de39b7f4\")) {                    Plotly.newPlot(                        \"d3d8e521-1168-4bf0-80cb-3f43de39b7f4\",                        [{\"alignmentgroup\":\"True\",\"hovertemplate\":\"Genre=signal_processing\\u003cbr\\u003eTitle=%{x}\\u003cbr\\u003ePages=%{y}\\u003cextra\\u003e\\u003c\\u002fextra\\u003e\",\"legendgroup\":\"signal_processing\",\"marker\":{\"color\":\"#636efa\",\"pattern\":{\"shape\":\"\"}},\"name\":\"signal_processing\",\"offsetgroup\":\"signal_processing\",\"orientation\":\"v\",\"showlegend\":true,\"textposition\":\"auto\",\"x\":[\"Fundamentals of Wavelets\",\"Image Processing & Mathematical Morphology\",\"Image Processing with MATLAB\"],\"xaxis\":\"x\",\"y\":[228,241,241],\"yaxis\":\"y\",\"type\":\"bar\"},{\"alignmentgroup\":\"True\",\"hovertemplate\":\"Genre=data_science\\u003cbr\\u003eTitle=%{x}\\u003cbr\\u003ePages=%{y}\\u003cextra\\u003e\\u003c\\u002fextra\\u003e\",\"legendgroup\":\"data_science\",\"marker\":{\"color\":\"#EF553B\",\"pattern\":{\"shape\":\"\"}},\"name\":\"data_science\",\"offsetgroup\":\"data_science\",\"orientation\":\"v\",\"showlegend\":true,\"textposition\":\"auto\",\"x\":[\"Data Smart\",\"Nature of Statistical Learning Theory, The\",\"Data Scientists at Work\",\"Statistical Decision Theory'\",\"Data Mining Handbook\",\"Machine Learning for Hackers\",\"Signal and the Noise, The\",\"Python for Data Analysis\",\"Soft Computing & Intelligent Systems\",\"Learning OpenCV\",\"Computer Vision, A Modern Approach\",\"Pattern Classification\",\"Elements of Information Theory\",\"Neural Networks\",\"Statistical Learning Theory\",\"Think Complexity\",\"Data Analysis with Open Source Tools\"],\"xaxis\":\"x\",\"y\":[235,230,230,236,242,233,233,233,242,232,255,241,229,240,228,230,230],\"yaxis\":\"y\",\"type\":\"bar\"},{\"alignmentgroup\":\"True\",\"hovertemplate\":\"Genre=mathematics\\u003cbr\\u003eTitle=%{x}\\u003cbr\\u003ePages=%{y}\\u003cextra\\u003e\\u003c\\u002fextra\\u003e\",\"legendgroup\":\"mathematics\",\"marker\":{\"color\":\"#00cc96\",\"pattern\":{\"shape\":\"\"}},\"name\":\"mathematics\",\"offsetgroup\":\"mathematics\",\"orientation\":\"v\",\"showlegend\":true,\"textposition\":\"auto\",\"x\":[\"God Created the Integers\",\"Birth of a Theorem\",\"Analysis, Vol I\",\"Men of Mathematics\",\"Structure and Randomness\"],\"xaxis\":\"x\",\"y\":[197,234,248,217,252],\"yaxis\":\"y\",\"type\":\"bar\"},{\"alignmentgroup\":\"True\",\"hovertemplate\":\"Genre=economics\\u003cbr\\u003eTitle=%{x}\\u003cbr\\u003ePages=%{y}\\u003cextra\\u003e\\u003c\\u002fextra\\u003e\",\"legendgroup\":\"economics\",\"marker\":{\"color\":\"#ab63fa\",\"pattern\":{\"shape\":\"\"}},\"name\":\"economics\",\"offsetgroup\":\"economics\",\"orientation\":\"v\",\"showlegend\":true,\"textposition\":\"auto\",\"x\":[\"Superfreakonomics\",\"Wealth of Nations, The\",\"Freakonomics\",\"Textbook of Economic Theory\",\"Econometric Analysis\",\"Social Choice & Welfare, Vol 39 No. 1\",\"New Markets & Other Essays\",\"Age of Discontuinity, The\",\"Rationality & Freedom\",\"Journal of Economics, vol 106 No 3\"],\"xaxis\":\"x\",\"y\":[179,175,197,242,242,235,176,178,213,235],\"yaxis\":\"y\",\"type\":\"bar\"},{\"alignmentgroup\":\"True\",\"hovertemplate\":\"Genre=history\\u003cbr\\u003eTitle=%{x}\\u003cbr\\u003ePages=%{y}\\u003cextra\\u003e\\u003c\\u002fextra\\u003e\",\"legendgroup\":\"history\",\"marker\":{\"color\":\"#FFA15A\",\"pattern\":{\"shape\":\"\"}},\"name\":\"history\",\"offsetgroup\":\"history\",\"orientation\":\"v\",\"showlegend\":true,\"textposition\":\"auto\",\"x\":[\"Orientalism\",\"Integration of the Indian States\",\"Age of Wrath, The\",\"All the President's Men\",\"Scoop!\",\"Last Mughal, The\",\"India from Midnight to Milennium\",\"World's Greatest Trials, The\",\"O Jerusalem!\",\"Freedom at Midnight\",\"Beyond the Three Seas\",\"Great War for Civilization, The\",\"Clash of Civilizations and Remaking of the World Order\",\"Discovery of India, The\",\"Veil: Secret Wars of the CIA\",\"Short History of the World, A\",\"From Beirut to Jerusalem\",\"Age of the Warrior, The\",\"Empire of the Mughal - The Tainted Throne\",\"Empire of the Mughal - Brothers at War\",\"Empire of the Mughal - Ruler of the World\",\"Empire of the Mughal - The Serpent's Tooth\",\"Empire of the Mughal - Raiders from the North\",\"Mossad\",\"History of England, Foundation\",\"City of Djinns\"],\"xaxis\":\"x\",\"y\":[197,217,238,177,216,199,198,210,217,167,197,197,228,230,171,197,202,197,180,180,180,180,180,236,197,198],\"yaxis\":\"y\",\"type\":\"bar\"},{\"alignmentgroup\":\"True\",\"hovertemplate\":\"Genre=science\\u003cbr\\u003eTitle=%{x}\\u003cbr\\u003ePages=%{y}\\u003cextra\\u003e\\u003c\\u002fextra\\u003e\",\"legendgroup\":\"science\",\"marker\":{\"color\":\"#19d3f3\",\"pattern\":{\"shape\":\"\"}},\"name\":\"science\",\"offsetgroup\":\"science\",\"orientation\":\"v\",\"showlegend\":true,\"textposition\":\"auto\",\"x\":[\"Drunkard's Walk, The\",\"Physics & Philosophy\",\"Tao of Physics, The\",\"Surely You're Joking Mr Feynman\",\"Hidden Connections, The\",\"Theory of Everything, The\",\"Electric Universe\",\"Artist and the Mathematician, The\",\"Simpsons & Their Mathematical Secrets\",\"Code Book, The\",\"Numbers Behind Numb3rs, The\",\"Information, The\",\"Broca's Brain\",\"Oxford book of Modern Science Writing\"],\"xaxis\":\"x\",\"y\":[197,197,179,198,197,217,201,186,233,197,202,233,174,240],\"yaxis\":\"y\",\"type\":\"bar\"},{\"alignmentgroup\":\"True\",\"hovertemplate\":\"Genre=psychology\\u003cbr\\u003eTitle=%{x}\\u003cbr\\u003ePages=%{y}\\u003cextra\\u003e\\u003c\\u002fextra\\u003e\",\"legendgroup\":\"psychology\",\"marker\":{\"color\":\"#FF6692\",\"pattern\":{\"shape\":\"\"}},\"name\":\"psychology\",\"offsetgroup\":\"psychology\",\"orientation\":\"v\",\"showlegend\":true,\"textposition\":\"auto\",\"x\":[\"How to Think Like Sherlock Holmes\"],\"xaxis\":\"x\",\"y\":[240],\"yaxis\":\"y\",\"type\":\"bar\"},{\"alignmentgroup\":\"True\",\"hovertemplate\":\"Genre=fiction\\u003cbr\\u003eTitle=%{x}\\u003cbr\\u003ePages=%{y}\\u003cextra\\u003e\\u003c\\u002fextra\\u003e\",\"legendgroup\":\"fiction\",\"marker\":{\"color\":\"#B6E880\",\"pattern\":{\"shape\":\"\"}},\"name\":\"fiction\",\"offsetgroup\":\"fiction\",\"orientation\":\"v\",\"showlegend\":true,\"textposition\":\"auto\",\"x\":[\"Slaughterhouse Five\",\"Trial, The\",\"New Machiavelli, The\",\"Outsider, The\",\"Complete Sherlock Holmes, The - Vol I\",\"Complete Sherlock Holmes, The - Vol II\",\"Pillars of the Earth, The\",\"Farewell to Arms, A\",\"Veteran, The\",\"False Impressions\",\"Jurassic Park\",\"Tales of Mystery and Imagination\",\"Asami Asami\",\"Journal of a Novel\",\"Moon is Down, The\",\"Brethren, The\",\"In a Free State\",\"Catch 22\",\"Amulet of Samarkand, The\",\"Crime and Punishment\",\"Angels & Demons\",\"Sea of Poppies\",\"Raisin in the Sun, A\",\"Prisoner of Birth, A\",\"Maqta-e-Ghalib\",\"Great Indian Novel, The\",\"City of Joy, The\",\"Winter of Our Discontent, The\",\"Case of the Lame Canary, The\",\"Hunchback of Notre Dame, The\",\"Burning Bright\",\"Doctor in the Nude\",\"World's Greatest Short Stories, The\",\"Maugham's Collected Short Stories, Vol 3\",\"Phantom of Manhattan, The\",\"Ashenden of The British Agent\",\"We the Living\",\"Selected Short Stories\",\"To Sir With Love\",\"Half A Life\",\"Deceiver, The\",\"Rosy is My Relative\",\"Moon and Sixpence, The\",\"Trembling of a Leaf, The\",\"Doctor on the Brain\",\"Grapes of Wrath, The\",\"20000 Leagues Under the Sea\",\"Batatyachi Chal\",\"Hafasavnuk\",\"Urlasurla\",\"Devil's Advocate, The\",\"More Tears to Cry\",\"Ropemaker, The\",\"Angels & Demons\",\"Judge, The\",\"Attorney, The\",\"Eyeless in Gaza\",\"Tales of Beedle the Bard\",\"Girl with the Dragon Tattoo\",\"Girl who kicked the Hornet's Nest\",\"Girl who played with Fire\",\"Animal Farm\",\"Idiot, The\",\"Christmas Carol, A\"],\"xaxis\":\"x\",\"y\":[198,198,180,198,176,176,176,179,177,177,174,172,205,196,196,174,196,178,179,180,178,197,175,176,221,198,177,196,179,175,175,179,217,171,180,160,178,215,197,196,178,176,180,205,204,196,190,200,211,211,178,235,196,170,170,170,180,184,179,179,179,180,197,196],\"yaxis\":\"y\",\"type\":\"bar\"},{\"alignmentgroup\":\"True\",\"hovertemplate\":\"Genre=computer_science\\u003cbr\\u003eTitle=%{x}\\u003cbr\\u003ePages=%{y}\\u003cextra\\u003e\\u003c\\u002fextra\\u003e\",\"legendgroup\":\"computer_science\",\"marker\":{\"color\":\"#FF97FF\",\"pattern\":{\"shape\":\"\"}},\"name\":\"computer_science\",\"offsetgroup\":\"computer_science\",\"orientation\":\"v\",\"showlegend\":true,\"textposition\":\"auto\",\"x\":[\"Structure & Interpretation of Computer Programs\",\"Making Software\",\"Introduction to Algorithms\",\"Data Structures Using C & C++\",\"Principles of Communication Systems\",\"Let Us C\",\"Power Electronics - Rashid\",\"Power Electronics - Mohan\",\"Pointers in C\",\"Cathedral and the Bazaar, The\",\"Design with OpAmps\"],\"xaxis\":\"x\",\"y\":[240,232,234,235,240,213,235,237,213,217,240],\"yaxis\":\"y\",\"type\":\"bar\"},{\"alignmentgroup\":\"True\",\"hovertemplate\":\"Genre=nonfiction\\u003cbr\\u003eTitle=%{x}\\u003cbr\\u003ePages=%{y}\\u003cextra\\u003e\\u003c\\u002fextra\\u003e\",\"legendgroup\":\"nonfiction\",\"marker\":{\"color\":\"#FECB52\",\"pattern\":{\"shape\":\"\"}},\"name\":\"nonfiction\",\"offsetgroup\":\"nonfiction\",\"orientation\":\"v\",\"showlegend\":true,\"textposition\":\"auto\",\"x\":[\"Beautiful and the Damned, The\",\"Mein Kampf\",\"Last Lecture, The\",\"Russian Journal, A\",\"Once There Was a War\",\"Complete Mastermind, The\",\"Dylan on Dylan\",\"Argumentative Indian, The\",\"Idea of Justice, The\",\"Ahe Manohar Tari\",\"Radiowaril Bhashane & Shrutika\",\"Gun Gayin Awadi\",\"Aghal Paghal\",\"Beyond Degrees\",\"Manasa\",\"Bookless in Baghdad\",\"Down and Out in Paris & London\",\"Talking Straight\",\"Uncommon Wisdom\",\"One\",\"Karl Marx Biography\",\"Apulki\",\"Char Shabda\",\"Life in Letters, A\",\"Vyakti ani Valli\",\"Jim Corbett Omnibus\",\"Courtroom Genius, The\",\"Dongri to Dubai\",\"India's Legal System\",\"Murphy's Law\"],\"xaxis\":\"x\",\"y\":[198,212,197,196,196,178,197,209,212,213,213,212,212,222,213,206,179,175,197,172,162,211,214,196,211,223,217,216,177,178],\"yaxis\":\"y\",\"type\":\"bar\"},{\"alignmentgroup\":\"True\",\"hovertemplate\":\"Genre=philosophy\\u003cbr\\u003eTitle=%{x}\\u003cbr\\u003ePages=%{y}\\u003cextra\\u003e\\u003c\\u002fextra\\u003e\",\"legendgroup\":\"philosophy\",\"marker\":{\"color\":\"#636efa\",\"pattern\":{\"shape\":\"\"}},\"name\":\"philosophy\",\"offsetgroup\":\"philosophy\",\"orientation\":\"v\",\"showlegend\":true,\"textposition\":\"auto\",\"x\":[\"Return of the Primitive\",\"Story of Philosophy, The\",\"On Education\",\"Free Will\",\"Identity & Violence\",\"Zen & The Art of Motorcycle Maintenance\",\"History of Western Philosophy\",\"Unpopular Essays\",\"Political Philosophers\",\"Ayn Rand Answers\",\"Philosophy: Who Needs It\",\"World's Great Thinkers, The\",\"Justice, Judiciary and Democracy\",\"Arthashastra, The\",\"We the People\",\"We the Nation\",\"Prince, The\"],\"xaxis\":\"x\",\"y\":[202,170,203,203,219,172,213,198,162,203,171,189,224,214,216,216,173],\"yaxis\":\"y\",\"type\":\"bar\"},{\"alignmentgroup\":\"True\",\"hovertemplate\":\"Genre=comic\\u003cbr\\u003eTitle=%{x}\\u003cbr\\u003ePages=%{y}\\u003cextra\\u003e\\u003c\\u002fextra\\u003e\",\"legendgroup\":\"comic\",\"marker\":{\"color\":\"#EF553B\",\"pattern\":{\"shape\":\"\"}},\"name\":\"comic\",\"offsetgroup\":\"comic\",\"orientation\":\"v\",\"showlegend\":true,\"textposition\":\"auto\",\"x\":[\"Final Crisis\",\"Killing Joke, The\",\"Flashpoint\",\"Batman Earth One\",\"Crisis on Infinite Earths\",\"Superman Earth One - 1\",\"Superman Earth One - 2\",\"Justice League: Throne of Atlantis\",\"Justice League: The Villain's Journey\",\"Death of Superman, The\",\"History of the DC Universe\",\"Batman: The Long Halloween\",\"Batman Handbook\"],\"xaxis\":\"x\",\"y\":[257,283,265,265,258,259,258,258,258,258,258,258,270],\"yaxis\":\"y\",\"type\":\"bar\"}],                        {\"template\":{\"data\":{\"histogram2dcontour\":[{\"type\":\"histogram2dcontour\",\"colorbar\":{\"outlinewidth\":0,\"ticks\":\"\"},\"colorscale\":[[0.0,\"#0d0887\"],[0.1111111111111111,\"#46039f\"],[0.2222222222222222,\"#7201a8\"],[0.3333333333333333,\"#9c179e\"],[0.4444444444444444,\"#bd3786\"],[0.5555555555555556,\"#d8576b\"],[0.6666666666666666,\"#ed7953\"],[0.7777777777777778,\"#fb9f3a\"],[0.8888888888888888,\"#fdca26\"],[1.0,\"#f0f921\"]]}],\"choropleth\":[{\"type\":\"choropleth\",\"colorbar\":{\"outlinewidth\":0,\"ticks\":\"\"}}],\"histogram2d\":[{\"type\":\"histogram2d\",\"colorbar\":{\"outlinewidth\":0,\"ticks\":\"\"},\"colorscale\":[[0.0,\"#0d0887\"],[0.1111111111111111,\"#46039f\"],[0.2222222222222222,\"#7201a8\"],[0.3333333333333333,\"#9c179e\"],[0.4444444444444444,\"#bd3786\"],[0.5555555555555556,\"#d8576b\"],[0.6666666666666666,\"#ed7953\"],[0.7777777777777778,\"#fb9f3a\"],[0.8888888888888888,\"#fdca26\"],[1.0,\"#f0f921\"]]}],\"heatmap\":[{\"type\":\"heatmap\",\"colorbar\":{\"outlinewidth\":0,\"ticks\":\"\"},\"colorscale\":[[0.0,\"#0d0887\"],[0.1111111111111111,\"#46039f\"],[0.2222222222222222,\"#7201a8\"],[0.3333333333333333,\"#9c179e\"],[0.4444444444444444,\"#bd3786\"],[0.5555555555555556,\"#d8576b\"],[0.6666666666666666,\"#ed7953\"],[0.7777777777777778,\"#fb9f3a\"],[0.8888888888888888,\"#fdca26\"],[1.0,\"#f0f921\"]]}],\"heatmapgl\":[{\"type\":\"heatmapgl\",\"colorbar\":{\"outlinewidth\":0,\"ticks\":\"\"},\"colorscale\":[[0.0,\"#0d0887\"],[0.1111111111111111,\"#46039f\"],[0.2222222222222222,\"#7201a8\"],[0.3333333333333333,\"#9c179e\"],[0.4444444444444444,\"#bd3786\"],[0.5555555555555556,\"#d8576b\"],[0.6666666666666666,\"#ed7953\"],[0.7777777777777778,\"#fb9f3a\"],[0.8888888888888888,\"#fdca26\"],[1.0,\"#f0f921\"]]}],\"contourcarpet\":[{\"type\":\"contourcarpet\",\"colorbar\":{\"outlinewidth\":0,\"ticks\":\"\"}}],\"contour\":[{\"type\":\"contour\",\"colorbar\":{\"outlinewidth\":0,\"ticks\":\"\"},\"colorscale\":[[0.0,\"#0d0887\"],[0.1111111111111111,\"#46039f\"],[0.2222222222222222,\"#7201a8\"],[0.3333333333333333,\"#9c179e\"],[0.4444444444444444,\"#bd3786\"],[0.5555555555555556,\"#d8576b\"],[0.6666666666666666,\"#ed7953\"],[0.7777777777777778,\"#fb9f3a\"],[0.8888888888888888,\"#fdca26\"],[1.0,\"#f0f921\"]]}],\"surface\":[{\"type\":\"surface\",\"colorbar\":{\"outlinewidth\":0,\"ticks\":\"\"},\"colorscale\":[[0.0,\"#0d0887\"],[0.1111111111111111,\"#46039f\"],[0.2222222222222222,\"#7201a8\"],[0.3333333333333333,\"#9c179e\"],[0.4444444444444444,\"#bd3786\"],[0.5555555555555556,\"#d8576b\"],[0.6666666666666666,\"#ed7953\"],[0.7777777777777778,\"#fb9f3a\"],[0.8888888888888888,\"#fdca26\"],[1.0,\"#f0f921\"]]}],\"mesh3d\":[{\"type\":\"mesh3d\",\"colorbar\":{\"outlinewidth\":0,\"ticks\":\"\"}}],\"scatter\":[{\"fillpattern\":{\"fillmode\":\"overlay\",\"size\":10,\"solidity\":0.2},\"type\":\"scatter\"}],\"parcoords\":[{\"type\":\"parcoords\",\"line\":{\"colorbar\":{\"outlinewidth\":0,\"ticks\":\"\"}}}],\"scatterpolargl\":[{\"type\":\"scatterpolargl\",\"marker\":{\"colorbar\":{\"outlinewidth\":0,\"ticks\":\"\"}}}],\"bar\":[{\"error_x\":{\"color\":\"#2a3f5f\"},\"error_y\":{\"color\":\"#2a3f5f\"},\"marker\":{\"line\":{\"color\":\"#E5ECF6\",\"width\":0.5},\"pattern\":{\"fillmode\":\"overlay\",\"size\":10,\"solidity\":0.2}},\"type\":\"bar\"}],\"scattergeo\":[{\"type\":\"scattergeo\",\"marker\":{\"colorbar\":{\"outlinewidth\":0,\"ticks\":\"\"}}}],\"scatterpolar\":[{\"type\":\"scatterpolar\",\"marker\":{\"colorbar\":{\"outlinewidth\":0,\"ticks\":\"\"}}}],\"histogram\":[{\"marker\":{\"pattern\":{\"fillmode\":\"overlay\",\"size\":10,\"solidity\":0.2}},\"type\":\"histogram\"}],\"scattergl\":[{\"type\":\"scattergl\",\"marker\":{\"colorbar\":{\"outlinewidth\":0,\"ticks\":\"\"}}}],\"scatter3d\":[{\"type\":\"scatter3d\",\"line\":{\"colorbar\":{\"outlinewidth\":0,\"ticks\":\"\"}},\"marker\":{\"colorbar\":{\"outlinewidth\":0,\"ticks\":\"\"}}}],\"scattermapbox\":[{\"type\":\"scattermapbox\",\"marker\":{\"colorbar\":{\"outlinewidth\":0,\"ticks\":\"\"}}}],\"scatterternary\":[{\"type\":\"scatterternary\",\"marker\":{\"colorbar\":{\"outlinewidth\":0,\"ticks\":\"\"}}}],\"scattercarpet\":[{\"type\":\"scattercarpet\",\"marker\":{\"colorbar\":{\"outlinewidth\":0,\"ticks\":\"\"}}}],\"carpet\":[{\"aaxis\":{\"endlinecolor\":\"#2a3f5f\",\"gridcolor\":\"white\",\"linecolor\":\"white\",\"minorgridcolor\":\"white\",\"startlinecolor\":\"#2a3f5f\"},\"baxis\":{\"endlinecolor\":\"#2a3f5f\",\"gridcolor\":\"white\",\"linecolor\":\"white\",\"minorgridcolor\":\"white\",\"startlinecolor\":\"#2a3f5f\"},\"type\":\"carpet\"}],\"table\":[{\"cells\":{\"fill\":{\"color\":\"#EBF0F8\"},\"line\":{\"color\":\"white\"}},\"header\":{\"fill\":{\"color\":\"#C8D4E3\"},\"line\":{\"color\":\"white\"}},\"type\":\"table\"}],\"barpolar\":[{\"marker\":{\"line\":{\"color\":\"#E5ECF6\",\"width\":0.5},\"pattern\":{\"fillmode\":\"overlay\",\"size\":10,\"solidity\":0.2}},\"type\":\"barpolar\"}],\"pie\":[{\"automargin\":true,\"type\":\"pie\"}]},\"layout\":{\"autotypenumbers\":\"strict\",\"colorway\":[\"#636efa\",\"#EF553B\",\"#00cc96\",\"#ab63fa\",\"#FFA15A\",\"#19d3f3\",\"#FF6692\",\"#B6E880\",\"#FF97FF\",\"#FECB52\"],\"font\":{\"color\":\"#2a3f5f\"},\"hovermode\":\"closest\",\"hoverlabel\":{\"align\":\"left\"},\"paper_bgcolor\":\"white\",\"plot_bgcolor\":\"#E5ECF6\",\"polar\":{\"bgcolor\":\"#E5ECF6\",\"angularaxis\":{\"gridcolor\":\"white\",\"linecolor\":\"white\",\"ticks\":\"\"},\"radialaxis\":{\"gridcolor\":\"white\",\"linecolor\":\"white\",\"ticks\":\"\"}},\"ternary\":{\"bgcolor\":\"#E5ECF6\",\"aaxis\":{\"gridcolor\":\"white\",\"linecolor\":\"white\",\"ticks\":\"\"},\"baxis\":{\"gridcolor\":\"white\",\"linecolor\":\"white\",\"ticks\":\"\"},\"caxis\":{\"gridcolor\":\"white\",\"linecolor\":\"white\",\"ticks\":\"\"}},\"coloraxis\":{\"colorbar\":{\"outlinewidth\":0,\"ticks\":\"\"}},\"colorscale\":{\"sequential\":[[0.0,\"#0d0887\"],[0.1111111111111111,\"#46039f\"],[0.2222222222222222,\"#7201a8\"],[0.3333333333333333,\"#9c179e\"],[0.4444444444444444,\"#bd3786\"],[0.5555555555555556,\"#d8576b\"],[0.6666666666666666,\"#ed7953\"],[0.7777777777777778,\"#fb9f3a\"],[0.8888888888888888,\"#fdca26\"],[1.0,\"#f0f921\"]],\"sequentialminus\":[[0.0,\"#0d0887\"],[0.1111111111111111,\"#46039f\"],[0.2222222222222222,\"#7201a8\"],[0.3333333333333333,\"#9c179e\"],[0.4444444444444444,\"#bd3786\"],[0.5555555555555556,\"#d8576b\"],[0.6666666666666666,\"#ed7953\"],[0.7777777777777778,\"#fb9f3a\"],[0.8888888888888888,\"#fdca26\"],[1.0,\"#f0f921\"]],\"diverging\":[[0,\"#8e0152\"],[0.1,\"#c51b7d\"],[0.2,\"#de77ae\"],[0.3,\"#f1b6da\"],[0.4,\"#fde0ef\"],[0.5,\"#f7f7f7\"],[0.6,\"#e6f5d0\"],[0.7,\"#b8e186\"],[0.8,\"#7fbc41\"],[0.9,\"#4d9221\"],[1,\"#276419\"]]},\"xaxis\":{\"gridcolor\":\"white\",\"linecolor\":\"white\",\"ticks\":\"\",\"title\":{\"standoff\":15},\"zerolinecolor\":\"white\",\"automargin\":true,\"zerolinewidth\":2},\"yaxis\":{\"gridcolor\":\"white\",\"linecolor\":\"white\",\"ticks\":\"\",\"title\":{\"standoff\":15},\"zerolinecolor\":\"white\",\"automargin\":true,\"zerolinewidth\":2},\"scene\":{\"xaxis\":{\"backgroundcolor\":\"#E5ECF6\",\"gridcolor\":\"white\",\"linecolor\":\"white\",\"showbackground\":true,\"ticks\":\"\",\"zerolinecolor\":\"white\",\"gridwidth\":2},\"yaxis\":{\"backgroundcolor\":\"#E5ECF6\",\"gridcolor\":\"white\",\"linecolor\":\"white\",\"showbackground\":true,\"ticks\":\"\",\"zerolinecolor\":\"white\",\"gridwidth\":2},\"zaxis\":{\"backgroundcolor\":\"#E5ECF6\",\"gridcolor\":\"white\",\"linecolor\":\"white\",\"showbackground\":true,\"ticks\":\"\",\"zerolinecolor\":\"white\",\"gridwidth\":2}},\"shapedefaults\":{\"line\":{\"color\":\"#2a3f5f\"}},\"annotationdefaults\":{\"arrowcolor\":\"#2a3f5f\",\"arrowhead\":0,\"arrowwidth\":1},\"geo\":{\"bgcolor\":\"white\",\"landcolor\":\"#E5ECF6\",\"subunitcolor\":\"white\",\"showland\":true,\"showlakes\":true,\"lakecolor\":\"white\"},\"title\":{\"x\":0.05},\"mapbox\":{\"style\":\"light\"}}},\"xaxis\":{\"anchor\":\"y\",\"domain\":[0.0,1.0],\"title\":{\"text\":\"Title\"}},\"yaxis\":{\"anchor\":\"x\",\"domain\":[0.0,1.0],\"title\":{\"text\":\"Pages\"}},\"legend\":{\"title\":{\"text\":\"Genre\"},\"tracegroupgap\":0},\"title\":{\"text\":\"Pages by Book\"},\"barmode\":\"relative\"},                        {\"responsive\": true}                    ).then(function(){\n",
       "                            \n",
       "var gd = document.getElementById('d3d8e521-1168-4bf0-80cb-3f43de39b7f4');\n",
       "var x = new MutationObserver(function (mutations, observer) {{\n",
       "        var display = window.getComputedStyle(gd).display;\n",
       "        if (!display || display === 'none') {{\n",
       "            console.log([gd, 'removed!']);\n",
       "            Plotly.purge(gd);\n",
       "            observer.disconnect();\n",
       "        }}\n",
       "}});\n",
       "\n",
       "// Listen for the removal of the full notebook cells\n",
       "var notebookContainer = gd.closest('#notebook-container');\n",
       "if (notebookContainer) {{\n",
       "    x.observe(notebookContainer, {childList: true});\n",
       "}}\n",
       "\n",
       "// Listen for the clearing of the current output cell\n",
       "var outputEl = gd.closest('.output');\n",
       "if (outputEl) {{\n",
       "    x.observe(outputEl, {childList: true});\n",
       "}}\n",
       "\n",
       "                        })                };                });            </script>        </div>"
      ]
     },
     "metadata": {},
     "output_type": "display_data"
    }
   ],
   "source": [
    "import plotly.express as px\n",
    "fig = px.bar(books_df, x='Title', y='Pages', color='Genre', title='Pages by Book')\n",
    "fig.show()"
   ]
  },
  {
   "cell_type": "markdown",
   "id": "be4093af-8643-405f-9dfd-3e7f779d5e25",
   "metadata": {},
   "source": [
    "#### Pie Chart\n",
    "Show the proportion of books by genre:"
   ]
  },
  {
   "cell_type": "code",
   "execution_count": 54,
   "id": "5c3667af-c319-4d50-88ed-9a6fbe349f79",
   "metadata": {},
   "outputs": [
    {
     "data": {
      "application/vnd.plotly.v1+json": {
       "config": {
        "plotlyServerURL": "https://plot.ly"
       },
       "data": [
        {
         "domain": {
          "x": [
           0,
           1
          ],
          "y": [
           0,
           1
          ]
         },
         "hovertemplate": "Genre=%{label}<extra></extra>",
         "labels": [
          "signal_processing",
          "data_science",
          "mathematics",
          "economics",
          "history",
          "data_science",
          "history",
          "science",
          "signal_processing",
          "psychology",
          "data_science",
          "fiction",
          "mathematics",
          "computer_science",
          "history",
          "fiction",
          "data_science",
          "data_science",
          "fiction",
          "science",
          "computer_science",
          "mathematics",
          "data_science",
          "data_science",
          "data_science",
          "computer_science",
          "nonfiction",
          "fiction",
          "fiction",
          "fiction",
          "economics",
          "fiction",
          "nonfiction",
          "science",
          "science",
          "fiction",
          "fiction",
          "fiction",
          "nonfiction",
          "philosophy",
          "fiction",
          "nonfiction",
          "fiction",
          "economics",
          "science",
          "philosophy",
          "fiction",
          "fiction",
          "nonfiction",
          "fiction",
          "fiction",
          "fiction",
          "fiction",
          "nonfiction",
          "nonfiction",
          "data_science",
          "economics",
          "economics",
          "data_science",
          "computer_science",
          "data_science",
          "computer_science",
          "computer_science",
          "fiction",
          "fiction",
          "fiction",
          "nonfiction",
          "fiction",
          "nonfiction",
          "fiction",
          "history",
          "fiction",
          "history",
          "nonfiction",
          "history",
          "economics",
          "nonfiction",
          "nonfiction",
          "nonfiction",
          "fiction",
          "nonfiction",
          "nonfiction",
          "history",
          "history",
          "fiction",
          "history",
          "fiction",
          "history",
          "fiction",
          "philosophy",
          "philosophy",
          "nonfiction",
          "fiction",
          "science",
          "economics",
          "science",
          "fiction",
          "fiction",
          "economics",
          "fiction",
          "nonfiction",
          "philosophy",
          "history",
          "fiction",
          "nonfiction",
          "fiction",
          "fiction",
          "fiction",
          "philosophy",
          "history",
          "fiction",
          "science",
          "philosophy",
          "fiction",
          "economics",
          "history",
          "nonfiction",
          "nonfiction",
          "nonfiction",
          "fiction",
          "fiction",
          "history",
          "nonfiction",
          "philosophy",
          "fiction",
          "history",
          "nonfiction",
          "fiction",
          "fiction",
          "philosophy",
          "history",
          "fiction",
          "fiction",
          "science",
          "data_science",
          "history",
          "science",
          "history",
          "comic",
          "comic",
          "comic",
          "comic",
          "comic",
          "science",
          "comic",
          "comic",
          "comic",
          "comic",
          "comic",
          "comic",
          "comic",
          "nonfiction",
          "science",
          "economics",
          "data_science",
          "computer_science",
          "computer_science",
          "data_science",
          "fiction",
          "nonfiction",
          "data_science",
          "history",
          "history",
          "history",
          "history",
          "history",
          "history",
          "nonfiction",
          "fiction",
          "fiction",
          "fiction",
          "fiction",
          "computer_science",
          "computer_science",
          "computer_science",
          "data_science",
          "fiction",
          "philosophy",
          "philosophy",
          "philosophy",
          "data_science",
          "science",
          "mathematics",
          "science",
          "philosophy",
          "philosophy",
          "philosophy",
          "philosophy",
          "nonfiction",
          "nonfiction",
          "history",
          "history",
          "nonfiction",
          "fiction",
          "fiction",
          "fiction",
          "fiction",
          "fiction",
          "philosophy",
          "fiction",
          "fiction",
          "fiction",
          "fiction",
          "fiction",
          "comic",
          "nonfiction",
          "mathematics",
          "signal_processing",
          "fiction",
          "fiction",
          "fiction"
         ],
         "legendgroup": "",
         "name": "",
         "showlegend": true,
         "type": "pie"
        }
       ],
       "layout": {
        "autosize": true,
        "legend": {
         "tracegroupgap": 0
        },
        "template": {
         "data": {
          "bar": [
           {
            "error_x": {
             "color": "#2a3f5f"
            },
            "error_y": {
             "color": "#2a3f5f"
            },
            "marker": {
             "line": {
              "color": "#E5ECF6",
              "width": 0.5
             },
             "pattern": {
              "fillmode": "overlay",
              "size": 10,
              "solidity": 0.2
             }
            },
            "type": "bar"
           }
          ],
          "barpolar": [
           {
            "marker": {
             "line": {
              "color": "#E5ECF6",
              "width": 0.5
             },
             "pattern": {
              "fillmode": "overlay",
              "size": 10,
              "solidity": 0.2
             }
            },
            "type": "barpolar"
           }
          ],
          "carpet": [
           {
            "aaxis": {
             "endlinecolor": "#2a3f5f",
             "gridcolor": "white",
             "linecolor": "white",
             "minorgridcolor": "white",
             "startlinecolor": "#2a3f5f"
            },
            "baxis": {
             "endlinecolor": "#2a3f5f",
             "gridcolor": "white",
             "linecolor": "white",
             "minorgridcolor": "white",
             "startlinecolor": "#2a3f5f"
            },
            "type": "carpet"
           }
          ],
          "choropleth": [
           {
            "colorbar": {
             "outlinewidth": 0,
             "ticks": ""
            },
            "type": "choropleth"
           }
          ],
          "contour": [
           {
            "colorbar": {
             "outlinewidth": 0,
             "ticks": ""
            },
            "colorscale": [
             [
              0,
              "#0d0887"
             ],
             [
              0.1111111111111111,
              "#46039f"
             ],
             [
              0.2222222222222222,
              "#7201a8"
             ],
             [
              0.3333333333333333,
              "#9c179e"
             ],
             [
              0.4444444444444444,
              "#bd3786"
             ],
             [
              0.5555555555555556,
              "#d8576b"
             ],
             [
              0.6666666666666666,
              "#ed7953"
             ],
             [
              0.7777777777777778,
              "#fb9f3a"
             ],
             [
              0.8888888888888888,
              "#fdca26"
             ],
             [
              1,
              "#f0f921"
             ]
            ],
            "type": "contour"
           }
          ],
          "contourcarpet": [
           {
            "colorbar": {
             "outlinewidth": 0,
             "ticks": ""
            },
            "type": "contourcarpet"
           }
          ],
          "heatmap": [
           {
            "colorbar": {
             "outlinewidth": 0,
             "ticks": ""
            },
            "colorscale": [
             [
              0,
              "#0d0887"
             ],
             [
              0.1111111111111111,
              "#46039f"
             ],
             [
              0.2222222222222222,
              "#7201a8"
             ],
             [
              0.3333333333333333,
              "#9c179e"
             ],
             [
              0.4444444444444444,
              "#bd3786"
             ],
             [
              0.5555555555555556,
              "#d8576b"
             ],
             [
              0.6666666666666666,
              "#ed7953"
             ],
             [
              0.7777777777777778,
              "#fb9f3a"
             ],
             [
              0.8888888888888888,
              "#fdca26"
             ],
             [
              1,
              "#f0f921"
             ]
            ],
            "type": "heatmap"
           }
          ],
          "heatmapgl": [
           {
            "colorbar": {
             "outlinewidth": 0,
             "ticks": ""
            },
            "colorscale": [
             [
              0,
              "#0d0887"
             ],
             [
              0.1111111111111111,
              "#46039f"
             ],
             [
              0.2222222222222222,
              "#7201a8"
             ],
             [
              0.3333333333333333,
              "#9c179e"
             ],
             [
              0.4444444444444444,
              "#bd3786"
             ],
             [
              0.5555555555555556,
              "#d8576b"
             ],
             [
              0.6666666666666666,
              "#ed7953"
             ],
             [
              0.7777777777777778,
              "#fb9f3a"
             ],
             [
              0.8888888888888888,
              "#fdca26"
             ],
             [
              1,
              "#f0f921"
             ]
            ],
            "type": "heatmapgl"
           }
          ],
          "histogram": [
           {
            "marker": {
             "pattern": {
              "fillmode": "overlay",
              "size": 10,
              "solidity": 0.2
             }
            },
            "type": "histogram"
           }
          ],
          "histogram2d": [
           {
            "colorbar": {
             "outlinewidth": 0,
             "ticks": ""
            },
            "colorscale": [
             [
              0,
              "#0d0887"
             ],
             [
              0.1111111111111111,
              "#46039f"
             ],
             [
              0.2222222222222222,
              "#7201a8"
             ],
             [
              0.3333333333333333,
              "#9c179e"
             ],
             [
              0.4444444444444444,
              "#bd3786"
             ],
             [
              0.5555555555555556,
              "#d8576b"
             ],
             [
              0.6666666666666666,
              "#ed7953"
             ],
             [
              0.7777777777777778,
              "#fb9f3a"
             ],
             [
              0.8888888888888888,
              "#fdca26"
             ],
             [
              1,
              "#f0f921"
             ]
            ],
            "type": "histogram2d"
           }
          ],
          "histogram2dcontour": [
           {
            "colorbar": {
             "outlinewidth": 0,
             "ticks": ""
            },
            "colorscale": [
             [
              0,
              "#0d0887"
             ],
             [
              0.1111111111111111,
              "#46039f"
             ],
             [
              0.2222222222222222,
              "#7201a8"
             ],
             [
              0.3333333333333333,
              "#9c179e"
             ],
             [
              0.4444444444444444,
              "#bd3786"
             ],
             [
              0.5555555555555556,
              "#d8576b"
             ],
             [
              0.6666666666666666,
              "#ed7953"
             ],
             [
              0.7777777777777778,
              "#fb9f3a"
             ],
             [
              0.8888888888888888,
              "#fdca26"
             ],
             [
              1,
              "#f0f921"
             ]
            ],
            "type": "histogram2dcontour"
           }
          ],
          "mesh3d": [
           {
            "colorbar": {
             "outlinewidth": 0,
             "ticks": ""
            },
            "type": "mesh3d"
           }
          ],
          "parcoords": [
           {
            "line": {
             "colorbar": {
              "outlinewidth": 0,
              "ticks": ""
             }
            },
            "type": "parcoords"
           }
          ],
          "pie": [
           {
            "automargin": true,
            "type": "pie"
           }
          ],
          "scatter": [
           {
            "fillpattern": {
             "fillmode": "overlay",
             "size": 10,
             "solidity": 0.2
            },
            "type": "scatter"
           }
          ],
          "scatter3d": [
           {
            "line": {
             "colorbar": {
              "outlinewidth": 0,
              "ticks": ""
             }
            },
            "marker": {
             "colorbar": {
              "outlinewidth": 0,
              "ticks": ""
             }
            },
            "type": "scatter3d"
           }
          ],
          "scattercarpet": [
           {
            "marker": {
             "colorbar": {
              "outlinewidth": 0,
              "ticks": ""
             }
            },
            "type": "scattercarpet"
           }
          ],
          "scattergeo": [
           {
            "marker": {
             "colorbar": {
              "outlinewidth": 0,
              "ticks": ""
             }
            },
            "type": "scattergeo"
           }
          ],
          "scattergl": [
           {
            "marker": {
             "colorbar": {
              "outlinewidth": 0,
              "ticks": ""
             }
            },
            "type": "scattergl"
           }
          ],
          "scattermapbox": [
           {
            "marker": {
             "colorbar": {
              "outlinewidth": 0,
              "ticks": ""
             }
            },
            "type": "scattermapbox"
           }
          ],
          "scatterpolar": [
           {
            "marker": {
             "colorbar": {
              "outlinewidth": 0,
              "ticks": ""
             }
            },
            "type": "scatterpolar"
           }
          ],
          "scatterpolargl": [
           {
            "marker": {
             "colorbar": {
              "outlinewidth": 0,
              "ticks": ""
             }
            },
            "type": "scatterpolargl"
           }
          ],
          "scatterternary": [
           {
            "marker": {
             "colorbar": {
              "outlinewidth": 0,
              "ticks": ""
             }
            },
            "type": "scatterternary"
           }
          ],
          "surface": [
           {
            "colorbar": {
             "outlinewidth": 0,
             "ticks": ""
            },
            "colorscale": [
             [
              0,
              "#0d0887"
             ],
             [
              0.1111111111111111,
              "#46039f"
             ],
             [
              0.2222222222222222,
              "#7201a8"
             ],
             [
              0.3333333333333333,
              "#9c179e"
             ],
             [
              0.4444444444444444,
              "#bd3786"
             ],
             [
              0.5555555555555556,
              "#d8576b"
             ],
             [
              0.6666666666666666,
              "#ed7953"
             ],
             [
              0.7777777777777778,
              "#fb9f3a"
             ],
             [
              0.8888888888888888,
              "#fdca26"
             ],
             [
              1,
              "#f0f921"
             ]
            ],
            "type": "surface"
           }
          ],
          "table": [
           {
            "cells": {
             "fill": {
              "color": "#EBF0F8"
             },
             "line": {
              "color": "white"
             }
            },
            "header": {
             "fill": {
              "color": "#C8D4E3"
             },
             "line": {
              "color": "white"
             }
            },
            "type": "table"
           }
          ]
         },
         "layout": {
          "annotationdefaults": {
           "arrowcolor": "#2a3f5f",
           "arrowhead": 0,
           "arrowwidth": 1
          },
          "autotypenumbers": "strict",
          "coloraxis": {
           "colorbar": {
            "outlinewidth": 0,
            "ticks": ""
           }
          },
          "colorscale": {
           "diverging": [
            [
             0,
             "#8e0152"
            ],
            [
             0.1,
             "#c51b7d"
            ],
            [
             0.2,
             "#de77ae"
            ],
            [
             0.3,
             "#f1b6da"
            ],
            [
             0.4,
             "#fde0ef"
            ],
            [
             0.5,
             "#f7f7f7"
            ],
            [
             0.6,
             "#e6f5d0"
            ],
            [
             0.7,
             "#b8e186"
            ],
            [
             0.8,
             "#7fbc41"
            ],
            [
             0.9,
             "#4d9221"
            ],
            [
             1,
             "#276419"
            ]
           ],
           "sequential": [
            [
             0,
             "#0d0887"
            ],
            [
             0.1111111111111111,
             "#46039f"
            ],
            [
             0.2222222222222222,
             "#7201a8"
            ],
            [
             0.3333333333333333,
             "#9c179e"
            ],
            [
             0.4444444444444444,
             "#bd3786"
            ],
            [
             0.5555555555555556,
             "#d8576b"
            ],
            [
             0.6666666666666666,
             "#ed7953"
            ],
            [
             0.7777777777777778,
             "#fb9f3a"
            ],
            [
             0.8888888888888888,
             "#fdca26"
            ],
            [
             1,
             "#f0f921"
            ]
           ],
           "sequentialminus": [
            [
             0,
             "#0d0887"
            ],
            [
             0.1111111111111111,
             "#46039f"
            ],
            [
             0.2222222222222222,
             "#7201a8"
            ],
            [
             0.3333333333333333,
             "#9c179e"
            ],
            [
             0.4444444444444444,
             "#bd3786"
            ],
            [
             0.5555555555555556,
             "#d8576b"
            ],
            [
             0.6666666666666666,
             "#ed7953"
            ],
            [
             0.7777777777777778,
             "#fb9f3a"
            ],
            [
             0.8888888888888888,
             "#fdca26"
            ],
            [
             1,
             "#f0f921"
            ]
           ]
          },
          "colorway": [
           "#636efa",
           "#EF553B",
           "#00cc96",
           "#ab63fa",
           "#FFA15A",
           "#19d3f3",
           "#FF6692",
           "#B6E880",
           "#FF97FF",
           "#FECB52"
          ],
          "font": {
           "color": "#2a3f5f"
          },
          "geo": {
           "bgcolor": "white",
           "lakecolor": "white",
           "landcolor": "#E5ECF6",
           "showlakes": true,
           "showland": true,
           "subunitcolor": "white"
          },
          "hoverlabel": {
           "align": "left"
          },
          "hovermode": "closest",
          "mapbox": {
           "style": "light"
          },
          "paper_bgcolor": "white",
          "plot_bgcolor": "#E5ECF6",
          "polar": {
           "angularaxis": {
            "gridcolor": "white",
            "linecolor": "white",
            "ticks": ""
           },
           "bgcolor": "#E5ECF6",
           "radialaxis": {
            "gridcolor": "white",
            "linecolor": "white",
            "ticks": ""
           }
          },
          "scene": {
           "xaxis": {
            "backgroundcolor": "#E5ECF6",
            "gridcolor": "white",
            "gridwidth": 2,
            "linecolor": "white",
            "showbackground": true,
            "ticks": "",
            "zerolinecolor": "white"
           },
           "yaxis": {
            "backgroundcolor": "#E5ECF6",
            "gridcolor": "white",
            "gridwidth": 2,
            "linecolor": "white",
            "showbackground": true,
            "ticks": "",
            "zerolinecolor": "white"
           },
           "zaxis": {
            "backgroundcolor": "#E5ECF6",
            "gridcolor": "white",
            "gridwidth": 2,
            "linecolor": "white",
            "showbackground": true,
            "ticks": "",
            "zerolinecolor": "white"
           }
          },
          "shapedefaults": {
           "line": {
            "color": "#2a3f5f"
           }
          },
          "ternary": {
           "aaxis": {
            "gridcolor": "white",
            "linecolor": "white",
            "ticks": ""
           },
           "baxis": {
            "gridcolor": "white",
            "linecolor": "white",
            "ticks": ""
           },
           "bgcolor": "#E5ECF6",
           "caxis": {
            "gridcolor": "white",
            "linecolor": "white",
            "ticks": ""
           }
          },
          "title": {
           "x": 0.05
          },
          "xaxis": {
           "automargin": true,
           "gridcolor": "white",
           "linecolor": "white",
           "ticks": "",
           "title": {
            "standoff": 15
           },
           "zerolinecolor": "white",
           "zerolinewidth": 2
          },
          "yaxis": {
           "automargin": true,
           "gridcolor": "white",
           "linecolor": "white",
           "ticks": "",
           "title": {
            "standoff": 15
           },
           "zerolinecolor": "white",
           "zerolinewidth": 2
          }
         }
        },
        "title": {
         "text": "Books by Genre"
        }
       }
      },
      "image/png": "[encoded data removed]",
      "text/html": [
       "<div>                            <div id=\"20fab7fd-154a-4a1e-9f2f-2925b8a4674a\" class=\"plotly-graph-div\" style=\"height:525px; width:100%;\"></div>            <script type=\"text/javascript\">                require([\"plotly\"], function(Plotly) {                    window.PLOTLYENV=window.PLOTLYENV || {};                                    if (document.getElementById(\"20fab7fd-154a-4a1e-9f2f-2925b8a4674a\")) {                    Plotly.newPlot(                        \"20fab7fd-154a-4a1e-9f2f-2925b8a4674a\",                        [{\"domain\":{\"x\":[0.0,1.0],\"y\":[0.0,1.0]},\"hovertemplate\":\"Genre=%{label}\\u003cextra\\u003e\\u003c\\u002fextra\\u003e\",\"labels\":[\"signal_processing\",\"data_science\",\"mathematics\",\"economics\",\"history\",\"data_science\",\"history\",\"science\",\"signal_processing\",\"psychology\",\"data_science\",\"fiction\",\"mathematics\",\"computer_science\",\"history\",\"fiction\",\"data_science\",\"data_science\",\"fiction\",\"science\",\"computer_science\",\"mathematics\",\"data_science\",\"data_science\",\"data_science\",\"computer_science\",\"nonfiction\",\"fiction\",\"fiction\",\"fiction\",\"economics\",\"fiction\",\"nonfiction\",\"science\",\"science\",\"fiction\",\"fiction\",\"fiction\",\"nonfiction\",\"philosophy\",\"fiction\",\"nonfiction\",\"fiction\",\"economics\",\"science\",\"philosophy\",\"fiction\",\"fiction\",\"nonfiction\",\"fiction\",\"fiction\",\"fiction\",\"fiction\",\"nonfiction\",\"nonfiction\",\"data_science\",\"economics\",\"economics\",\"data_science\",\"computer_science\",\"data_science\",\"computer_science\",\"computer_science\",\"fiction\",\"fiction\",\"fiction\",\"nonfiction\",\"fiction\",\"nonfiction\",\"fiction\",\"history\",\"fiction\",\"history\",\"nonfiction\",\"history\",\"economics\",\"nonfiction\",\"nonfiction\",\"nonfiction\",\"fiction\",\"nonfiction\",\"nonfiction\",\"history\",\"history\",\"fiction\",\"history\",\"fiction\",\"history\",\"fiction\",\"philosophy\",\"philosophy\",\"nonfiction\",\"fiction\",\"science\",\"economics\",\"science\",\"fiction\",\"fiction\",\"economics\",\"fiction\",\"nonfiction\",\"philosophy\",\"history\",\"fiction\",\"nonfiction\",\"fiction\",\"fiction\",\"fiction\",\"philosophy\",\"history\",\"fiction\",\"science\",\"philosophy\",\"fiction\",\"economics\",\"history\",\"nonfiction\",\"nonfiction\",\"nonfiction\",\"fiction\",\"fiction\",\"history\",\"nonfiction\",\"philosophy\",\"fiction\",\"history\",\"nonfiction\",\"fiction\",\"fiction\",\"philosophy\",\"history\",\"fiction\",\"fiction\",\"science\",\"data_science\",\"history\",\"science\",\"history\",\"comic\",\"comic\",\"comic\",\"comic\",\"comic\",\"science\",\"comic\",\"comic\",\"comic\",\"comic\",\"comic\",\"comic\",\"comic\",\"nonfiction\",\"science\",\"economics\",\"data_science\",\"computer_science\",\"computer_science\",\"data_science\",\"fiction\",\"nonfiction\",\"data_science\",\"history\",\"history\",\"history\",\"history\",\"history\",\"history\",\"nonfiction\",\"fiction\",\"fiction\",\"fiction\",\"fiction\",\"computer_science\",\"computer_science\",\"computer_science\",\"data_science\",\"fiction\",\"philosophy\",\"philosophy\",\"philosophy\",\"data_science\",\"science\",\"mathematics\",\"science\",\"philosophy\",\"philosophy\",\"philosophy\",\"philosophy\",\"nonfiction\",\"nonfiction\",\"history\",\"history\",\"nonfiction\",\"fiction\",\"fiction\",\"fiction\",\"fiction\",\"fiction\",\"philosophy\",\"fiction\",\"fiction\",\"fiction\",\"fiction\",\"fiction\",\"comic\",\"nonfiction\",\"mathematics\",\"signal_processing\",\"fiction\",\"fiction\",\"fiction\"],\"legendgroup\":\"\",\"name\":\"\",\"showlegend\":true,\"type\":\"pie\"}],                        {\"template\":{\"data\":{\"histogram2dcontour\":[{\"type\":\"histogram2dcontour\",\"colorbar\":{\"outlinewidth\":0,\"ticks\":\"\"},\"colorscale\":[[0.0,\"#0d0887\"],[0.1111111111111111,\"#46039f\"],[0.2222222222222222,\"#7201a8\"],[0.3333333333333333,\"#9c179e\"],[0.4444444444444444,\"#bd3786\"],[0.5555555555555556,\"#d8576b\"],[0.6666666666666666,\"#ed7953\"],[0.7777777777777778,\"#fb9f3a\"],[0.8888888888888888,\"#fdca26\"],[1.0,\"#f0f921\"]]}],\"choropleth\":[{\"type\":\"choropleth\",\"colorbar\":{\"outlinewidth\":0,\"ticks\":\"\"}}],\"histogram2d\":[{\"type\":\"histogram2d\",\"colorbar\":{\"outlinewidth\":0,\"ticks\":\"\"},\"colorscale\":[[0.0,\"#0d0887\"],[0.1111111111111111,\"#46039f\"],[0.2222222222222222,\"#7201a8\"],[0.3333333333333333,\"#9c179e\"],[0.4444444444444444,\"#bd3786\"],[0.5555555555555556,\"#d8576b\"],[0.6666666666666666,\"#ed7953\"],[0.7777777777777778,\"#fb9f3a\"],[0.8888888888888888,\"#fdca26\"],[1.0,\"#f0f921\"]]}],\"heatmap\":[{\"type\":\"heatmap\",\"colorbar\":{\"outlinewidth\":0,\"ticks\":\"\"},\"colorscale\":[[0.0,\"#0d0887\"],[0.1111111111111111,\"#46039f\"],[0.2222222222222222,\"#7201a8\"],[0.3333333333333333,\"#9c179e\"],[0.4444444444444444,\"#bd3786\"],[0.5555555555555556,\"#d8576b\"],[0.6666666666666666,\"#ed7953\"],[0.7777777777777778,\"#fb9f3a\"],[0.8888888888888888,\"#fdca26\"],[1.0,\"#f0f921\"]]}],\"heatmapgl\":[{\"type\":\"heatmapgl\",\"colorbar\":{\"outlinewidth\":0,\"ticks\":\"\"},\"colorscale\":[[0.0,\"#0d0887\"],[0.1111111111111111,\"#46039f\"],[0.2222222222222222,\"#7201a8\"],[0.3333333333333333,\"#9c179e\"],[0.4444444444444444,\"#bd3786\"],[0.5555555555555556,\"#d8576b\"],[0.6666666666666666,\"#ed7953\"],[0.7777777777777778,\"#fb9f3a\"],[0.8888888888888888,\"#fdca26\"],[1.0,\"#f0f921\"]]}],\"contourcarpet\":[{\"type\":\"contourcarpet\",\"colorbar\":{\"outlinewidth\":0,\"ticks\":\"\"}}],\"contour\":[{\"type\":\"contour\",\"colorbar\":{\"outlinewidth\":0,\"ticks\":\"\"},\"colorscale\":[[0.0,\"#0d0887\"],[0.1111111111111111,\"#46039f\"],[0.2222222222222222,\"#7201a8\"],[0.3333333333333333,\"#9c179e\"],[0.4444444444444444,\"#bd3786\"],[0.5555555555555556,\"#d8576b\"],[0.6666666666666666,\"#ed7953\"],[0.7777777777777778,\"#fb9f3a\"],[0.8888888888888888,\"#fdca26\"],[1.0,\"#f0f921\"]]}],\"surface\":[{\"type\":\"surface\",\"colorbar\":{\"outlinewidth\":0,\"ticks\":\"\"},\"colorscale\":[[0.0,\"#0d0887\"],[0.1111111111111111,\"#46039f\"],[0.2222222222222222,\"#7201a8\"],[0.3333333333333333,\"#9c179e\"],[0.4444444444444444,\"#bd3786\"],[0.5555555555555556,\"#d8576b\"],[0.6666666666666666,\"#ed7953\"],[0.7777777777777778,\"#fb9f3a\"],[0.8888888888888888,\"#fdca26\"],[1.0,\"#f0f921\"]]}],\"mesh3d\":[{\"type\":\"mesh3d\",\"colorbar\":{\"outlinewidth\":0,\"ticks\":\"\"}}],\"scatter\":[{\"fillpattern\":{\"fillmode\":\"overlay\",\"size\":10,\"solidity\":0.2},\"type\":\"scatter\"}],\"parcoords\":[{\"type\":\"parcoords\",\"line\":{\"colorbar\":{\"outlinewidth\":0,\"ticks\":\"\"}}}],\"scatterpolargl\":[{\"type\":\"scatterpolargl\",\"marker\":{\"colorbar\":{\"outlinewidth\":0,\"ticks\":\"\"}}}],\"bar\":[{\"error_x\":{\"color\":\"#2a3f5f\"},\"error_y\":{\"color\":\"#2a3f5f\"},\"marker\":{\"line\":{\"color\":\"#E5ECF6\",\"width\":0.5},\"pattern\":{\"fillmode\":\"overlay\",\"size\":10,\"solidity\":0.2}},\"type\":\"bar\"}],\"scattergeo\":[{\"type\":\"scattergeo\",\"marker\":{\"colorbar\":{\"outlinewidth\":0,\"ticks\":\"\"}}}],\"scatterpolar\":[{\"type\":\"scatterpolar\",\"marker\":{\"colorbar\":{\"outlinewidth\":0,\"ticks\":\"\"}}}],\"histogram\":[{\"marker\":{\"pattern\":{\"fillmode\":\"overlay\",\"size\":10,\"solidity\":0.2}},\"type\":\"histogram\"}],\"scattergl\":[{\"type\":\"scattergl\",\"marker\":{\"colorbar\":{\"outlinewidth\":0,\"ticks\":\"\"}}}],\"scatter3d\":[{\"type\":\"scatter3d\",\"line\":{\"colorbar\":{\"outlinewidth\":0,\"ticks\":\"\"}},\"marker\":{\"colorbar\":{\"outlinewidth\":0,\"ticks\":\"\"}}}],\"scattermapbox\":[{\"type\":\"scattermapbox\",\"marker\":{\"colorbar\":{\"outlinewidth\":0,\"ticks\":\"\"}}}],\"scatterternary\":[{\"type\":\"scatterternary\",\"marker\":{\"colorbar\":{\"outlinewidth\":0,\"ticks\":\"\"}}}],\"scattercarpet\":[{\"type\":\"scattercarpet\",\"marker\":{\"colorbar\":{\"outlinewidth\":0,\"ticks\":\"\"}}}],\"carpet\":[{\"aaxis\":{\"endlinecolor\":\"#2a3f5f\",\"gridcolor\":\"white\",\"linecolor\":\"white\",\"minorgridcolor\":\"white\",\"startlinecolor\":\"#2a3f5f\"},\"baxis\":{\"endlinecolor\":\"#2a3f5f\",\"gridcolor\":\"white\",\"linecolor\":\"white\",\"minorgridcolor\":\"white\",\"startlinecolor\":\"#2a3f5f\"},\"type\":\"carpet\"}],\"table\":[{\"cells\":{\"fill\":{\"color\":\"#EBF0F8\"},\"line\":{\"color\":\"white\"}},\"header\":{\"fill\":{\"color\":\"#C8D4E3\"},\"line\":{\"color\":\"white\"}},\"type\":\"table\"}],\"barpolar\":[{\"marker\":{\"line\":{\"color\":\"#E5ECF6\",\"width\":0.5},\"pattern\":{\"fillmode\":\"overlay\",\"size\":10,\"solidity\":0.2}},\"type\":\"barpolar\"}],\"pie\":[{\"automargin\":true,\"type\":\"pie\"}]},\"layout\":{\"autotypenumbers\":\"strict\",\"colorway\":[\"#636efa\",\"#EF553B\",\"#00cc96\",\"#ab63fa\",\"#FFA15A\",\"#19d3f3\",\"#FF6692\",\"#B6E880\",\"#FF97FF\",\"#FECB52\"],\"font\":{\"color\":\"#2a3f5f\"},\"hovermode\":\"closest\",\"hoverlabel\":{\"align\":\"left\"},\"paper_bgcolor\":\"white\",\"plot_bgcolor\":\"#E5ECF6\",\"polar\":{\"bgcolor\":\"#E5ECF6\",\"angularaxis\":{\"gridcolor\":\"white\",\"linecolor\":\"white\",\"ticks\":\"\"},\"radialaxis\":{\"gridcolor\":\"white\",\"linecolor\":\"white\",\"ticks\":\"\"}},\"ternary\":{\"bgcolor\":\"#E5ECF6\",\"aaxis\":{\"gridcolor\":\"white\",\"linecolor\":\"white\",\"ticks\":\"\"},\"baxis\":{\"gridcolor\":\"white\",\"linecolor\":\"white\",\"ticks\":\"\"},\"caxis\":{\"gridcolor\":\"white\",\"linecolor\":\"white\",\"ticks\":\"\"}},\"coloraxis\":{\"colorbar\":{\"outlinewidth\":0,\"ticks\":\"\"}},\"colorscale\":{\"sequential\":[[0.0,\"#0d0887\"],[0.1111111111111111,\"#46039f\"],[0.2222222222222222,\"#7201a8\"],[0.3333333333333333,\"#9c179e\"],[0.4444444444444444,\"#bd3786\"],[0.5555555555555556,\"#d8576b\"],[0.6666666666666666,\"#ed7953\"],[0.7777777777777778,\"#fb9f3a\"],[0.8888888888888888,\"#fdca26\"],[1.0,\"#f0f921\"]],\"sequentialminus\":[[0.0,\"#0d0887\"],[0.1111111111111111,\"#46039f\"],[0.2222222222222222,\"#7201a8\"],[0.3333333333333333,\"#9c179e\"],[0.4444444444444444,\"#bd3786\"],[0.5555555555555556,\"#d8576b\"],[0.6666666666666666,\"#ed7953\"],[0.7777777777777778,\"#fb9f3a\"],[0.8888888888888888,\"#fdca26\"],[1.0,\"#f0f921\"]],\"diverging\":[[0,\"#8e0152\"],[0.1,\"#c51b7d\"],[0.2,\"#de77ae\"],[0.3,\"#f1b6da\"],[0.4,\"#fde0ef\"],[0.5,\"#f7f7f7\"],[0.6,\"#e6f5d0\"],[0.7,\"#b8e186\"],[0.8,\"#7fbc41\"],[0.9,\"#4d9221\"],[1,\"#276419\"]]},\"xaxis\":{\"gridcolor\":\"white\",\"linecolor\":\"white\",\"ticks\":\"\",\"title\":{\"standoff\":15},\"zerolinecolor\":\"white\",\"automargin\":true,\"zerolinewidth\":2},\"yaxis\":{\"gridcolor\":\"white\",\"linecolor\":\"white\",\"ticks\":\"\",\"title\":{\"standoff\":15},\"zerolinecolor\":\"white\",\"automargin\":true,\"zerolinewidth\":2},\"scene\":{\"xaxis\":{\"backgroundcolor\":\"#E5ECF6\",\"gridcolor\":\"white\",\"linecolor\":\"white\",\"showbackground\":true,\"ticks\":\"\",\"zerolinecolor\":\"white\",\"gridwidth\":2},\"yaxis\":{\"backgroundcolor\":\"#E5ECF6\",\"gridcolor\":\"white\",\"linecolor\":\"white\",\"showbackground\":true,\"ticks\":\"\",\"zerolinecolor\":\"white\",\"gridwidth\":2},\"zaxis\":{\"backgroundcolor\":\"#E5ECF6\",\"gridcolor\":\"white\",\"linecolor\":\"white\",\"showbackground\":true,\"ticks\":\"\",\"zerolinecolor\":\"white\",\"gridwidth\":2}},\"shapedefaults\":{\"line\":{\"color\":\"#2a3f5f\"}},\"annotationdefaults\":{\"arrowcolor\":\"#2a3f5f\",\"arrowhead\":0,\"arrowwidth\":1},\"geo\":{\"bgcolor\":\"white\",\"landcolor\":\"#E5ECF6\",\"subunitcolor\":\"white\",\"showland\":true,\"showlakes\":true,\"lakecolor\":\"white\"},\"title\":{\"x\":0.05},\"mapbox\":{\"style\":\"light\"}}},\"legend\":{\"tracegroupgap\":0},\"title\":{\"text\":\"Books by Genre\"}},                        {\"responsive\": true}                    ).then(function(){\n",
       "                            \n",
       "var gd = document.getElementById('20fab7fd-154a-4a1e-9f2f-2925b8a4674a');\n",
       "var x = new MutationObserver(function (mutations, observer) {{\n",
       "        var display = window.getComputedStyle(gd).display;\n",
       "        if (!display || display === 'none') {{\n",
       "            console.log([gd, 'removed!']);\n",
       "            Plotly.purge(gd);\n",
       "            observer.disconnect();\n",
       "        }}\n",
       "}});\n",
       "\n",
       "// Listen for the removal of the full notebook cells\n",
       "var notebookContainer = gd.closest('#notebook-container');\n",
       "if (notebookContainer) {{\n",
       "    x.observe(notebookContainer, {childList: true});\n",
       "}}\n",
       "\n",
       "// Listen for the clearing of the current output cell\n",
       "var outputEl = gd.closest('.output');\n",
       "if (outputEl) {{\n",
       "    x.observe(outputEl, {childList: true});\n",
       "}}\n",
       "\n",
       "                        })                };                });            </script>        </div>"
      ]
     },
     "metadata": {},
     "output_type": "display_data"
    }
   ],
   "source": [
    "fig = px.pie(books_df, names='Genre', title='Books by Genre')\n",
    "fig.show()"
   ]
  },
  {
   "cell_type": "markdown",
   "id": "a8504545-801a-4828-99b0-f92fe6f5b171",
   "metadata": {},
   "source": [
    "#### Scatter Plot\n",
    "Explore relationships between numeric data (e.g., Pages vs. Publisher):"
   ]
  },
  {
   "cell_type": "code",
   "execution_count": 56,
   "id": "b02c8914-7c65-40ac-9529-557adda24d1e",
   "metadata": {},
   "outputs": [
    {
     "data": {
      "application/vnd.plotly.v1+json": {
       "config": {
        "plotlyServerURL": "https://plot.ly"
       },
       "data": [
        {
         "hovertemplate": "Genre=signal_processing<br>Publisher=%{x}<br>Pages=%{marker.size}<extra></extra>",
         "legendgroup": "signal_processing",
         "marker": {
          "color": "#636efa",
          "size": [
           228,
           241,
           241
          ],
          "sizemode": "area",
          "sizeref": 0.7075,
          "symbol": "circle"
         },
         "mode": "markers",
         "name": "signal_processing",
         "orientation": "v",
         "showlegend": true,
         "type": "scatter",
         "x": [
          "Wiley",
          "CRC",
          null
         ],
         "xaxis": "x",
         "y": [
          228,
          241,
          241
         ],
         "yaxis": "y"
        },
        {
         "hovertemplate": "Genre=data_science<br>Publisher=%{x}<br>Pages=%{marker.size}<extra></extra>",
         "legendgroup": "data_science",
         "marker": {
          "color": "#EF553B",
          "size": [
           235,
           230,
           230,
           236,
           242,
           233,
           233,
           233,
           242,
           232,
           255,
           241,
           229,
           240,
           228,
           230,
           230
          ],
          "sizemode": "area",
          "sizeref": 0.7075,
          "symbol": "circle"
         },
         "mode": "markers",
         "name": "data_science",
         "orientation": "v",
         "showlegend": true,
         "type": "scatter",
         "x": [
          "Wiley",
          "Springer",
          "Apress",
          "MIT Press",
          "Apress",
          "O'Reilly",
          "Penguin",
          "O'Reilly",
          "Elsevier",
          "O'Reilly",
          "Pearson",
          null,
          null,
          null,
          null,
          null,
          null
         ],
         "xaxis": "x",
         "y": [
          235,
          230,
          230,
          236,
          242,
          233,
          233,
          233,
          242,
          232,
          255,
          241,
          229,
          240,
          228,
          230,
          230
         ],
         "yaxis": "y"
        },
        {
         "hovertemplate": "Genre=mathematics<br>Publisher=%{x}<br>Pages=%{marker.size}<extra></extra>",
         "legendgroup": "mathematics",
         "marker": {
          "color": "#00cc96",
          "size": [
           197,
           234,
           248,
           217,
           252
          ],
          "sizemode": "area",
          "sizeref": 0.7075,
          "symbol": "circle"
         },
         "mode": "markers",
         "name": "mathematics",
         "orientation": "v",
         "showlegend": true,
         "type": "scatter",
         "x": [
          "Penguin",
          "Bodley Head",
          "HBA",
          null,
          null
         ],
         "xaxis": "x",
         "y": [
          197,
          234,
          248,
          217,
          252
         ],
         "yaxis": "y"
        },
        {
         "hovertemplate": "Genre=economics<br>Publisher=%{x}<br>Pages=%{marker.size}<extra></extra>",
         "legendgroup": "economics",
         "marker": {
          "color": "#ab63fa",
          "size": [
           179,
           175,
           197,
           242,
           242,
           235,
           176,
           178,
           213,
           235
          ],
          "sizemode": "area",
          "sizeref": 0.7075,
          "symbol": "circle"
         },
         "mode": "markers",
         "name": "economics",
         "orientation": "v",
         "showlegend": true,
         "type": "scatter",
         "x": [
          "HarperCollins",
          "Random House",
          "Penguin",
          "Pearson",
          "Pearson",
          "Springer",
          "Penguin",
          "Random House",
          "Springer",
          null
         ],
         "xaxis": "x",
         "y": [
          179,
          175,
          197,
          242,
          242,
          235,
          176,
          178,
          213,
          235
         ],
         "yaxis": "y"
        },
        {
         "hovertemplate": "Genre=history<br>Publisher=%{x}<br>Pages=%{marker.size}<extra></extra>",
         "legendgroup": "history",
         "marker": {
          "color": "#FFA15A",
          "size": [
           197,
           217,
           238,
           177,
           216,
           199,
           198,
           210,
           217,
           167,
           197,
           197,
           228,
           230,
           171,
           197,
           202,
           197,
           180,
           180,
           180,
           180,
           180,
           236,
           197,
           198
          ],
          "sizemode": "area",
          "sizeref": 0.7075,
          "symbol": "circle"
         },
         "mode": "markers",
         "name": "history",
         "orientation": "v",
         "showlegend": true,
         "type": "scatter",
         "x": [
          "Penguin",
          "Orient Blackswan",
          "Penguin",
          "Random House",
          "HarperCollins",
          "Penguin",
          "Penguin",
          null,
          "vikas",
          "vikas",
          "Random House",
          "HarperCollins",
          "Simon&Schuster",
          null,
          null,
          null,
          null,
          null,
          null,
          null,
          null,
          null,
          null,
          null,
          null,
          null
         ],
         "xaxis": "x",
         "y": [
          197,
          217,
          238,
          177,
          216,
          199,
          198,
          210,
          217,
          167,
          197,
          197,
          228,
          230,
          171,
          197,
          202,
          197,
          180,
          180,
          180,
          180,
          180,
          236,
          197,
          198
         ],
         "yaxis": "y"
        },
        {
         "hovertemplate": "Genre=science<br>Publisher=%{x}<br>Pages=%{marker.size}<extra></extra>",
         "legendgroup": "science",
         "marker": {
          "color": "#19d3f3",
          "size": [
           197,
           197,
           179,
           198,
           197,
           217,
           201,
           186,
           233,
           197,
           202,
           233,
           174,
           240
          ],
          "sizemode": "area",
          "sizeref": 0.7075,
          "symbol": "circle"
         },
         "mode": "markers",
         "name": "science",
         "orientation": "v",
         "showlegend": true,
         "type": "scatter",
         "x": [
          "Penguin",
          "Penguin",
          "Penguin",
          "Random House",
          "HarperCollins",
          "Jaico",
          "Penguin",
          "HighStakes",
          null,
          null,
          null,
          null,
          null,
          null
         ],
         "xaxis": "x",
         "y": [
          197,
          197,
          179,
          198,
          197,
          217,
          201,
          186,
          233,
          197,
          202,
          233,
          174,
          240
         ],
         "yaxis": "y"
        },
        {
         "hovertemplate": "Genre=psychology<br>Publisher=%{x}<br>Pages=%{marker.size}<extra></extra>",
         "legendgroup": "psychology",
         "marker": {
          "color": "#FF6692",
          "size": [
           240
          ],
          "sizemode": "area",
          "sizeref": 0.7075,
          "symbol": "circle"
         },
         "mode": "markers",
         "name": "psychology",
         "orientation": "v",
         "showlegend": true,
         "type": "scatter",
         "x": [
          "Penguin"
         ],
         "xaxis": "x",
         "y": [
          240
         ],
         "yaxis": "y"
        },
        {
         "hovertemplate": "Genre=fiction<br>Publisher=%{x}<br>Pages=%{marker.size}<extra></extra>",
         "legendgroup": "fiction",
         "marker": {
          "color": "#B6E880",
          "size": [
           198,
           198,
           180,
           198,
           176,
           176,
           176,
           179,
           177,
           177,
           174,
           172,
           205,
           196,
           196,
           174,
           196,
           178,
           179,
           180,
           178,
           197,
           175,
           176,
           221,
           198,
           177,
           196,
           179,
           175,
           175,
           179,
           217,
           171,
           180,
           160,
           178,
           215,
           197,
           196,
           178,
           176,
           180,
           205,
           204,
           196,
           190,
           200,
           211,
           211,
           178,
           235,
           196,
           170,
           170,
           170,
           180,
           184,
           179,
           179,
           179,
           180,
           197,
           196
          ],
          "sizemode": "area",
          "sizeref": 0.7075,
          "symbol": "circle"
         },
         "mode": "markers",
         "name": "fiction",
         "orientation": "v",
         "showlegend": true,
         "type": "scatter",
         "x": [
          "Random House",
          "Random House",
          "Penguin",
          "Penguin",
          "Random House",
          "Random House",
          "Random House",
          "Rupa",
          "Transworld",
          "Pan",
          "Random House",
          "HarperCollins",
          "Mauj",
          "Penguin",
          "Penguin",
          "Random House",
          "Rupa",
          "Random House",
          "Random House",
          "Penguin",
          "Random House",
          "Penguin",
          "Penguin",
          "Pan",
          "Mauj",
          "Penguin",
          "vikas",
          "Penguin",
          null,
          "Random House",
          "Penguin",
          "Penguin",
          "Jaico",
          "Vintage",
          null,
          "Vintage",
          "Penguin",
          "Jaico",
          "Penguin",
          null,
          null,
          null,
          null,
          null,
          null,
          null,
          null,
          null,
          null,
          null,
          null,
          null,
          null,
          null,
          null,
          null,
          null,
          null,
          null,
          null,
          null,
          null,
          null,
          null
         ],
         "xaxis": "x",
         "y": [
          198,
          198,
          180,
          198,
          176,
          176,
          176,
          179,
          177,
          177,
          174,
          172,
          205,
          196,
          196,
          174,
          196,
          178,
          179,
          180,
          178,
          197,
          175,
          176,
          221,
          198,
          177,
          196,
          179,
          175,
          175,
          179,
          217,
          171,
          180,
          160,
          178,
          215,
          197,
          196,
          178,
          176,
          180,
          205,
          204,
          196,
          190,
          200,
          211,
          211,
          178,
          235,
          196,
          170,
          170,
          170,
          180,
          184,
          179,
          179,
          179,
          180,
          197,
          196
         ],
         "yaxis": "y"
        },
        {
         "hovertemplate": "Genre=computer_science<br>Publisher=%{x}<br>Pages=%{marker.size}<extra></extra>",
         "legendgroup": "computer_science",
         "marker": {
          "color": "#FF97FF",
          "size": [
           240,
           232,
           234,
           235,
           240,
           213,
           235,
           237,
           213,
           217,
           240
          ],
          "sizemode": "area",
          "sizeref": 0.7075,
          "symbol": "circle"
         },
         "mode": "markers",
         "name": "computer_science",
         "orientation": "v",
         "showlegend": true,
         "type": "scatter",
         "x": [
          "MIT Press",
          "O'Reilly",
          "MIT Press",
          "Prentice Hall",
          "TMH",
          "Prentice Hall",
          null,
          null,
          null,
          null,
          null
         ],
         "xaxis": "x",
         "y": [
          240,
          232,
          234,
          235,
          240,
          213,
          235,
          237,
          213,
          217,
          240
         ],
         "yaxis": "y"
        },
        {
         "hovertemplate": "Genre=nonfiction<br>Publisher=%{x}<br>Pages=%{marker.size}<extra></extra>",
         "legendgroup": "nonfiction",
         "marker": {
          "color": "#FECB52",
          "size": [
           198,
           212,
           197,
           196,
           196,
           178,
           197,
           209,
           212,
           213,
           213,
           212,
           212,
           222,
           213,
           206,
           179,
           175,
           197,
           172,
           162,
           211,
           214,
           196,
           211,
           223,
           217,
           216,
           177,
           178
          ],
          "sizemode": "area",
          "sizeref": 0.7075,
          "symbol": "circle"
         },
         "mode": "markers",
         "name": "nonfiction",
         "orientation": "v",
         "showlegend": true,
         "type": "scatter",
         "x": [
          "Penguin",
          "Rupa",
          "Hyperion",
          "Penguin",
          "Penguin",
          "BBC",
          "Random House",
          "Picador",
          "Penguin",
          "Mauj",
          "Mauj",
          "Mauj",
          "Mauj",
          "HarperCollins",
          "Mauj",
          "Penguin",
          "Penguin",
          null,
          "Fontana",
          "Dell",
          null,
          null,
          null,
          null,
          null,
          null,
          null,
          null,
          null,
          null
         ],
         "xaxis": "x",
         "y": [
          198,
          212,
          197,
          196,
          196,
          178,
          197,
          209,
          212,
          213,
          213,
          212,
          212,
          222,
          213,
          206,
          179,
          175,
          197,
          172,
          162,
          211,
          214,
          196,
          211,
          223,
          217,
          216,
          177,
          178
         ],
         "yaxis": "y"
        },
        {
         "hovertemplate": "Genre=philosophy<br>Publisher=%{x}<br>Pages=%{marker.size}<extra></extra>",
         "legendgroup": "philosophy",
         "marker": {
          "color": "#636efa",
          "size": [
           202,
           170,
           203,
           203,
           219,
           172,
           213,
           198,
           162,
           203,
           171,
           189,
           224,
           214,
           216,
           216,
           173
          ],
          "sizemode": "area",
          "sizeref": 0.7075,
          "symbol": "circle"
         },
         "mode": "markers",
         "name": "philosophy",
         "orientation": "v",
         "showlegend": true,
         "type": "scatter",
         "x": [
          "Penguin",
          "Pocket",
          "Routledge",
          "FreePress",
          "Penguin",
          "Vintage",
          "Routledge",
          null,
          null,
          null,
          null,
          null,
          null,
          null,
          null,
          null,
          null
         ],
         "xaxis": "x",
         "y": [
          202,
          170,
          203,
          203,
          219,
          172,
          213,
          198,
          162,
          203,
          171,
          189,
          224,
          214,
          216,
          216,
          173
         ],
         "yaxis": "y"
        },
        {
         "hovertemplate": "Genre=comic<br>Publisher=%{x}<br>Pages=%{marker.size}<extra></extra>",
         "legendgroup": "comic",
         "marker": {
          "color": "#EF553B",
          "size": [
           257,
           283,
           265,
           265,
           258,
           259,
           258,
           258,
           258,
           258,
           258,
           258,
           270
          ],
          "sizemode": "area",
          "sizeref": 0.7075,
          "symbol": "circle"
         },
         "mode": "markers",
         "name": "comic",
         "orientation": "v",
         "showlegend": true,
         "type": "scatter",
         "x": [
          null,
          null,
          null,
          null,
          null,
          null,
          null,
          null,
          null,
          null,
          null,
          null,
          null
         ],
         "xaxis": "x",
         "y": [
          257,
          283,
          265,
          265,
          258,
          259,
          258,
          258,
          258,
          258,
          258,
          258,
          270
         ],
         "yaxis": "y"
        }
       ],
       "layout": {
        "autosize": true,
        "legend": {
         "itemsizing": "constant",
         "title": {
          "text": "Genre"
         },
         "tracegroupgap": 0
        },
        "template": {
         "data": {
          "bar": [
           {
            "error_x": {
             "color": "#2a3f5f"
            },
            "error_y": {
             "color": "#2a3f5f"
            },
            "marker": {
             "line": {
              "color": "#E5ECF6",
              "width": 0.5
             },
             "pattern": {
              "fillmode": "overlay",
              "size": 10,
              "solidity": 0.2
             }
            },
            "type": "bar"
           }
          ],
          "barpolar": [
           {
            "marker": {
             "line": {
              "color": "#E5ECF6",
              "width": 0.5
             },
             "pattern": {
              "fillmode": "overlay",
              "size": 10,
              "solidity": 0.2
             }
            },
            "type": "barpolar"
           }
          ],
          "carpet": [
           {
            "aaxis": {
             "endlinecolor": "#2a3f5f",
             "gridcolor": "white",
             "linecolor": "white",
             "minorgridcolor": "white",
             "startlinecolor": "#2a3f5f"
            },
            "baxis": {
             "endlinecolor": "#2a3f5f",
             "gridcolor": "white",
             "linecolor": "white",
             "minorgridcolor": "white",
             "startlinecolor": "#2a3f5f"
            },
            "type": "carpet"
           }
          ],
          "choropleth": [
           {
            "colorbar": {
             "outlinewidth": 0,
             "ticks": ""
            },
            "type": "choropleth"
           }
          ],
          "contour": [
           {
            "colorbar": {
             "outlinewidth": 0,
             "ticks": ""
            },
            "colorscale": [
             [
              0,
              "#0d0887"
             ],
             [
              0.1111111111111111,
              "#46039f"
             ],
             [
              0.2222222222222222,
              "#7201a8"
             ],
             [
              0.3333333333333333,
              "#9c179e"
             ],
             [
              0.4444444444444444,
              "#bd3786"
             ],
             [
              0.5555555555555556,
              "#d8576b"
             ],
             [
              0.6666666666666666,
              "#ed7953"
             ],
             [
              0.7777777777777778,
              "#fb9f3a"
             ],
             [
              0.8888888888888888,
              "#fdca26"
             ],
             [
              1,
              "#f0f921"
             ]
            ],
            "type": "contour"
           }
          ],
          "contourcarpet": [
           {
            "colorbar": {
             "outlinewidth": 0,
             "ticks": ""
            },
            "type": "contourcarpet"
           }
          ],
          "heatmap": [
           {
            "colorbar": {
             "outlinewidth": 0,
             "ticks": ""
            },
            "colorscale": [
             [
              0,
              "#0d0887"
             ],
             [
              0.1111111111111111,
              "#46039f"
             ],
             [
              0.2222222222222222,
              "#7201a8"
             ],
             [
              0.3333333333333333,
              "#9c179e"
             ],
             [
              0.4444444444444444,
              "#bd3786"
             ],
             [
              0.5555555555555556,
              "#d8576b"
             ],
             [
              0.6666666666666666,
              "#ed7953"
             ],
             [
              0.7777777777777778,
              "#fb9f3a"
             ],
             [
              0.8888888888888888,
              "#fdca26"
             ],
             [
              1,
              "#f0f921"
             ]
            ],
            "type": "heatmap"
           }
          ],
          "heatmapgl": [
           {
            "colorbar": {
             "outlinewidth": 0,
             "ticks": ""
            },
            "colorscale": [
             [
              0,
              "#0d0887"
             ],
             [
              0.1111111111111111,
              "#46039f"
             ],
             [
              0.2222222222222222,
              "#7201a8"
             ],
             [
              0.3333333333333333,
              "#9c179e"
             ],
             [
              0.4444444444444444,
              "#bd3786"
             ],
             [
              0.5555555555555556,
              "#d8576b"
             ],
             [
              0.6666666666666666,
              "#ed7953"
             ],
             [
              0.7777777777777778,
              "#fb9f3a"
             ],
             [
              0.8888888888888888,
              "#fdca26"
             ],
             [
              1,
              "#f0f921"
             ]
            ],
            "type": "heatmapgl"
           }
          ],
          "histogram": [
           {
            "marker": {
             "pattern": {
              "fillmode": "overlay",
              "size": 10,
              "solidity": 0.2
             }
            },
            "type": "histogram"
           }
          ],
          "histogram2d": [
           {
            "colorbar": {
             "outlinewidth": 0,
             "ticks": ""
            },
            "colorscale": [
             [
              0,
              "#0d0887"
             ],
             [
              0.1111111111111111,
              "#46039f"
             ],
             [
              0.2222222222222222,
              "#7201a8"
             ],
             [
              0.3333333333333333,
              "#9c179e"
             ],
             [
              0.4444444444444444,
              "#bd3786"
             ],
             [
              0.5555555555555556,
              "#d8576b"
             ],
             [
              0.6666666666666666,
              "#ed7953"
             ],
             [
              0.7777777777777778,
              "#fb9f3a"
             ],
             [
              0.8888888888888888,
              "#fdca26"
             ],
             [
              1,
              "#f0f921"
             ]
            ],
            "type": "histogram2d"
           }
          ],
          "histogram2dcontour": [
           {
            "colorbar": {
             "outlinewidth": 0,
             "ticks": ""
            },
            "colorscale": [
             [
              0,
              "#0d0887"
             ],
             [
              0.1111111111111111,
              "#46039f"
             ],
             [
              0.2222222222222222,
              "#7201a8"
             ],
             [
              0.3333333333333333,
              "#9c179e"
             ],
             [
              0.4444444444444444,
              "#bd3786"
             ],
             [
              0.5555555555555556,
              "#d8576b"
             ],
             [
              0.6666666666666666,
              "#ed7953"
             ],
             [
              0.7777777777777778,
              "#fb9f3a"
             ],
             [
              0.8888888888888888,
              "#fdca26"
             ],
             [
              1,
              "#f0f921"
             ]
            ],
            "type": "histogram2dcontour"
           }
          ],
          "mesh3d": [
           {
            "colorbar": {
             "outlinewidth": 0,
             "ticks": ""
            },
            "type": "mesh3d"
           }
          ],
          "parcoords": [
           {
            "line": {
             "colorbar": {
              "outlinewidth": 0,
              "ticks": ""
             }
            },
            "type": "parcoords"
           }
          ],
          "pie": [
           {
            "automargin": true,
            "type": "pie"
           }
          ],
          "scatter": [
           {
            "fillpattern": {
             "fillmode": "overlay",
             "size": 10,
             "solidity": 0.2
            },
            "type": "scatter"
           }
          ],
          "scatter3d": [
           {
            "line": {
             "colorbar": {
              "outlinewidth": 0,
              "ticks": ""
             }
            },
            "marker": {
             "colorbar": {
              "outlinewidth": 0,
              "ticks": ""
             }
            },
            "type": "scatter3d"
           }
          ],
          "scattercarpet": [
           {
            "marker": {
             "colorbar": {
              "outlinewidth": 0,
              "ticks": ""
             }
            },
            "type": "scattercarpet"
           }
          ],
          "scattergeo": [
           {
            "marker": {
             "colorbar": {
              "outlinewidth": 0,
              "ticks": ""
             }
            },
            "type": "scattergeo"
           }
          ],
          "scattergl": [
           {
            "marker": {
             "colorbar": {
              "outlinewidth": 0,
              "ticks": ""
             }
            },
            "type": "scattergl"
           }
          ],
          "scattermapbox": [
           {
            "marker": {
             "colorbar": {
              "outlinewidth": 0,
              "ticks": ""
             }
            },
            "type": "scattermapbox"
           }
          ],
          "scatterpolar": [
           {
            "marker": {
             "colorbar": {
              "outlinewidth": 0,
              "ticks": ""
             }
            },
            "type": "scatterpolar"
           }
          ],
          "scatterpolargl": [
           {
            "marker": {
             "colorbar": {
              "outlinewidth": 0,
              "ticks": ""
             }
            },
            "type": "scatterpolargl"
           }
          ],
          "scatterternary": [
           {
            "marker": {
             "colorbar": {
              "outlinewidth": 0,
              "ticks": ""
             }
            },
            "type": "scatterternary"
           }
          ],
          "surface": [
           {
            "colorbar": {
             "outlinewidth": 0,
             "ticks": ""
            },
            "colorscale": [
             [
              0,
              "#0d0887"
             ],
             [
              0.1111111111111111,
              "#46039f"
             ],
             [
              0.2222222222222222,
              "#7201a8"
             ],
             [
              0.3333333333333333,
              "#9c179e"
             ],
             [
              0.4444444444444444,
              "#bd3786"
             ],
             [
              0.5555555555555556,
              "#d8576b"
             ],
             [
              0.6666666666666666,
              "#ed7953"
             ],
             [
              0.7777777777777778,
              "#fb9f3a"
             ],
             [
              0.8888888888888888,
              "#fdca26"
             ],
             [
              1,
              "#f0f921"
             ]
            ],
            "type": "surface"
           }
          ],
          "table": [
           {
            "cells": {
             "fill": {
              "color": "#EBF0F8"
             },
             "line": {
              "color": "white"
             }
            },
            "header": {
             "fill": {
              "color": "#C8D4E3"
             },
             "line": {
              "color": "white"
             }
            },
            "type": "table"
           }
          ]
         },
         "layout": {
          "annotationdefaults": {
           "arrowcolor": "#2a3f5f",
           "arrowhead": 0,
           "arrowwidth": 1
          },
          "autotypenumbers": "strict",
          "coloraxis": {
           "colorbar": {
            "outlinewidth": 0,
            "ticks": ""
           }
          },
          "colorscale": {
           "diverging": [
            [
             0,
             "#8e0152"
            ],
            [
             0.1,
             "#c51b7d"
            ],
            [
             0.2,
             "#de77ae"
            ],
            [
             0.3,
             "#f1b6da"
            ],
            [
             0.4,
             "#fde0ef"
            ],
            [
             0.5,
             "#f7f7f7"
            ],
            [
             0.6,
             "#e6f5d0"
            ],
            [
             0.7,
             "#b8e186"
            ],
            [
             0.8,
             "#7fbc41"
            ],
            [
             0.9,
             "#4d9221"
            ],
            [
             1,
             "#276419"
            ]
           ],
           "sequential": [
            [
             0,
             "#0d0887"
            ],
            [
             0.1111111111111111,
             "#46039f"
            ],
            [
             0.2222222222222222,
             "#7201a8"
            ],
            [
             0.3333333333333333,
             "#9c179e"
            ],
            [
             0.4444444444444444,
             "#bd3786"
            ],
            [
             0.5555555555555556,
             "#d8576b"
            ],
            [
             0.6666666666666666,
             "#ed7953"
            ],
            [
             0.7777777777777778,
             "#fb9f3a"
            ],
            [
             0.8888888888888888,
             "#fdca26"
            ],
            [
             1,
             "#f0f921"
            ]
           ],
           "sequentialminus": [
            [
             0,
             "#0d0887"
            ],
            [
             0.1111111111111111,
             "#46039f"
            ],
            [
             0.2222222222222222,
             "#7201a8"
            ],
            [
             0.3333333333333333,
             "#9c179e"
            ],
            [
             0.4444444444444444,
             "#bd3786"
            ],
            [
             0.5555555555555556,
             "#d8576b"
            ],
            [
             0.6666666666666666,
             "#ed7953"
            ],
            [
             0.7777777777777778,
             "#fb9f3a"
            ],
            [
             0.8888888888888888,
             "#fdca26"
            ],
            [
             1,
             "#f0f921"
            ]
           ]
          },
          "colorway": [
           "#636efa",
           "#EF553B",
           "#00cc96",
           "#ab63fa",
           "#FFA15A",
           "#19d3f3",
           "#FF6692",
           "#B6E880",
           "#FF97FF",
           "#FECB52"
          ],
          "font": {
           "color": "#2a3f5f"
          },
          "geo": {
           "bgcolor": "white",
           "lakecolor": "white",
           "landcolor": "#E5ECF6",
           "showlakes": true,
           "showland": true,
           "subunitcolor": "white"
          },
          "hoverlabel": {
           "align": "left"
          },
          "hovermode": "closest",
          "mapbox": {
           "style": "light"
          },
          "paper_bgcolor": "white",
          "plot_bgcolor": "#E5ECF6",
          "polar": {
           "angularaxis": {
            "gridcolor": "white",
            "linecolor": "white",
            "ticks": ""
           },
           "bgcolor": "#E5ECF6",
           "radialaxis": {
            "gridcolor": "white",
            "linecolor": "white",
            "ticks": ""
           }
          },
          "scene": {
           "xaxis": {
            "backgroundcolor": "#E5ECF6",
            "gridcolor": "white",
            "gridwidth": 2,
            "linecolor": "white",
            "showbackground": true,
            "ticks": "",
            "zerolinecolor": "white"
           },
           "yaxis": {
            "backgroundcolor": "#E5ECF6",
            "gridcolor": "white",
            "gridwidth": 2,
            "linecolor": "white",
            "showbackground": true,
            "ticks": "",
            "zerolinecolor": "white"
           },
           "zaxis": {
            "backgroundcolor": "#E5ECF6",
            "gridcolor": "white",
            "gridwidth": 2,
            "linecolor": "white",
            "showbackground": true,
            "ticks": "",
            "zerolinecolor": "white"
           }
          },
          "shapedefaults": {
           "line": {
            "color": "#2a3f5f"
           }
          },
          "ternary": {
           "aaxis": {
            "gridcolor": "white",
            "linecolor": "white",
            "ticks": ""
           },
           "baxis": {
            "gridcolor": "white",
            "linecolor": "white",
            "ticks": ""
           },
           "bgcolor": "#E5ECF6",
           "caxis": {
            "gridcolor": "white",
            "linecolor": "white",
            "ticks": ""
           }
          },
          "title": {
           "x": 0.05
          },
          "xaxis": {
           "automargin": true,
           "gridcolor": "white",
           "linecolor": "white",
           "ticks": "",
           "title": {
            "standoff": 15
           },
           "zerolinecolor": "white",
           "zerolinewidth": 2
          },
          "yaxis": {
           "automargin": true,
           "gridcolor": "white",
           "linecolor": "white",
           "ticks": "",
           "title": {
            "standoff": 15
           },
           "zerolinecolor": "white",
           "zerolinewidth": 2
          }
         }
        },
        "title": {
         "text": "Pages by Publisher and Genre"
        },
        "xaxis": {
         "anchor": "y",
         "autorange": true,
         "domain": [
          0,
          1
         ],
         "range": [
          -2.4660407920125254,
          34.4221688840834
         ],
         "title": {
          "text": "Publisher"
         },
         "type": "category"
        },
        "yaxis": {
         "anchor": "x",
         "autorange": true,
         "domain": [
          0,
          1
         ],
         "range": [
          130.57287615075685,
          319.02744622199566
         ],
         "title": {
          "text": "Pages"
         },
         "type": "linear"
        }
       }
      },
      "image/png": "[encoded data removed]",
      "text/html": [
       "<div>                            <div id=\"a98b1a3a-9ed0-44f2-9c1c-54a4317c0ab0\" class=\"plotly-graph-div\" style=\"height:525px; width:100%;\"></div>            <script type=\"text/javascript\">                require([\"plotly\"], function(Plotly) {                    window.PLOTLYENV=window.PLOTLYENV || {};                                    if (document.getElementById(\"a98b1a3a-9ed0-44f2-9c1c-54a4317c0ab0\")) {                    Plotly.newPlot(                        \"a98b1a3a-9ed0-44f2-9c1c-54a4317c0ab0\",                        [{\"hovertemplate\":\"Genre=signal_processing\\u003cbr\\u003ePublisher=%{x}\\u003cbr\\u003ePages=%{marker.size}\\u003cextra\\u003e\\u003c\\u002fextra\\u003e\",\"legendgroup\":\"signal_processing\",\"marker\":{\"color\":\"#636efa\",\"size\":[228,241,241],\"sizemode\":\"area\",\"sizeref\":0.7075,\"symbol\":\"circle\"},\"mode\":\"markers\",\"name\":\"signal_processing\",\"orientation\":\"v\",\"showlegend\":true,\"x\":[\"Wiley\",\"CRC\",null],\"xaxis\":\"x\",\"y\":[228,241,241],\"yaxis\":\"y\",\"type\":\"scatter\"},{\"hovertemplate\":\"Genre=data_science\\u003cbr\\u003ePublisher=%{x}\\u003cbr\\u003ePages=%{marker.size}\\u003cextra\\u003e\\u003c\\u002fextra\\u003e\",\"legendgroup\":\"data_science\",\"marker\":{\"color\":\"#EF553B\",\"size\":[235,230,230,236,242,233,233,233,242,232,255,241,229,240,228,230,230],\"sizemode\":\"area\",\"sizeref\":0.7075,\"symbol\":\"circle\"},\"mode\":\"markers\",\"name\":\"data_science\",\"orientation\":\"v\",\"showlegend\":true,\"x\":[\"Wiley\",\"Springer\",\"Apress\",\"MIT Press\",\"Apress\",\"O'Reilly\",\"Penguin\",\"O'Reilly\",\"Elsevier\",\"O'Reilly\",\"Pearson\",null,null,null,null,null,null],\"xaxis\":\"x\",\"y\":[235,230,230,236,242,233,233,233,242,232,255,241,229,240,228,230,230],\"yaxis\":\"y\",\"type\":\"scatter\"},{\"hovertemplate\":\"Genre=mathematics\\u003cbr\\u003ePublisher=%{x}\\u003cbr\\u003ePages=%{marker.size}\\u003cextra\\u003e\\u003c\\u002fextra\\u003e\",\"legendgroup\":\"mathematics\",\"marker\":{\"color\":\"#00cc96\",\"size\":[197,234,248,217,252],\"sizemode\":\"area\",\"sizeref\":0.7075,\"symbol\":\"circle\"},\"mode\":\"markers\",\"name\":\"mathematics\",\"orientation\":\"v\",\"showlegend\":true,\"x\":[\"Penguin\",\"Bodley Head\",\"HBA\",null,null],\"xaxis\":\"x\",\"y\":[197,234,248,217,252],\"yaxis\":\"y\",\"type\":\"scatter\"},{\"hovertemplate\":\"Genre=economics\\u003cbr\\u003ePublisher=%{x}\\u003cbr\\u003ePages=%{marker.size}\\u003cextra\\u003e\\u003c\\u002fextra\\u003e\",\"legendgroup\":\"economics\",\"marker\":{\"color\":\"#ab63fa\",\"size\":[179,175,197,242,242,235,176,178,213,235],\"sizemode\":\"area\",\"sizeref\":0.7075,\"symbol\":\"circle\"},\"mode\":\"markers\",\"name\":\"economics\",\"orientation\":\"v\",\"showlegend\":true,\"x\":[\"HarperCollins\",\"Random House\",\"Penguin\",\"Pearson\",\"Pearson\",\"Springer\",\"Penguin\",\"Random House\",\"Springer\",null],\"xaxis\":\"x\",\"y\":[179,175,197,242,242,235,176,178,213,235],\"yaxis\":\"y\",\"type\":\"scatter\"},{\"hovertemplate\":\"Genre=history\\u003cbr\\u003ePublisher=%{x}\\u003cbr\\u003ePages=%{marker.size}\\u003cextra\\u003e\\u003c\\u002fextra\\u003e\",\"legendgroup\":\"history\",\"marker\":{\"color\":\"#FFA15A\",\"size\":[197,217,238,177,216,199,198,210,217,167,197,197,228,230,171,197,202,197,180,180,180,180,180,236,197,198],\"sizemode\":\"area\",\"sizeref\":0.7075,\"symbol\":\"circle\"},\"mode\":\"markers\",\"name\":\"history\",\"orientation\":\"v\",\"showlegend\":true,\"x\":[\"Penguin\",\"Orient Blackswan\",\"Penguin\",\"Random House\",\"HarperCollins\",\"Penguin\",\"Penguin\",null,\"vikas\",\"vikas\",\"Random House\",\"HarperCollins\",\"Simon&Schuster\",null,null,null,null,null,null,null,null,null,null,null,null,null],\"xaxis\":\"x\",\"y\":[197,217,238,177,216,199,198,210,217,167,197,197,228,230,171,197,202,197,180,180,180,180,180,236,197,198],\"yaxis\":\"y\",\"type\":\"scatter\"},{\"hovertemplate\":\"Genre=science\\u003cbr\\u003ePublisher=%{x}\\u003cbr\\u003ePages=%{marker.size}\\u003cextra\\u003e\\u003c\\u002fextra\\u003e\",\"legendgroup\":\"science\",\"marker\":{\"color\":\"#19d3f3\",\"size\":[197,197,179,198,197,217,201,186,233,197,202,233,174,240],\"sizemode\":\"area\",\"sizeref\":0.7075,\"symbol\":\"circle\"},\"mode\":\"markers\",\"name\":\"science\",\"orientation\":\"v\",\"showlegend\":true,\"x\":[\"Penguin\",\"Penguin\",\"Penguin\",\"Random House\",\"HarperCollins\",\"Jaico\",\"Penguin\",\"HighStakes\",null,null,null,null,null,null],\"xaxis\":\"x\",\"y\":[197,197,179,198,197,217,201,186,233,197,202,233,174,240],\"yaxis\":\"y\",\"type\":\"scatter\"},{\"hovertemplate\":\"Genre=psychology\\u003cbr\\u003ePublisher=%{x}\\u003cbr\\u003ePages=%{marker.size}\\u003cextra\\u003e\\u003c\\u002fextra\\u003e\",\"legendgroup\":\"psychology\",\"marker\":{\"color\":\"#FF6692\",\"size\":[240],\"sizemode\":\"area\",\"sizeref\":0.7075,\"symbol\":\"circle\"},\"mode\":\"markers\",\"name\":\"psychology\",\"orientation\":\"v\",\"showlegend\":true,\"x\":[\"Penguin\"],\"xaxis\":\"x\",\"y\":[240],\"yaxis\":\"y\",\"type\":\"scatter\"},{\"hovertemplate\":\"Genre=fiction\\u003cbr\\u003ePublisher=%{x}\\u003cbr\\u003ePages=%{marker.size}\\u003cextra\\u003e\\u003c\\u002fextra\\u003e\",\"legendgroup\":\"fiction\",\"marker\":{\"color\":\"#B6E880\",\"size\":[198,198,180,198,176,176,176,179,177,177,174,172,205,196,196,174,196,178,179,180,178,197,175,176,221,198,177,196,179,175,175,179,217,171,180,160,178,215,197,196,178,176,180,205,204,196,190,200,211,211,178,235,196,170,170,170,180,184,179,179,179,180,197,196],\"sizemode\":\"area\",\"sizeref\":0.7075,\"symbol\":\"circle\"},\"mode\":\"markers\",\"name\":\"fiction\",\"orientation\":\"v\",\"showlegend\":true,\"x\":[\"Random House\",\"Random House\",\"Penguin\",\"Penguin\",\"Random House\",\"Random House\",\"Random House\",\"Rupa\",\"Transworld\",\"Pan\",\"Random House\",\"HarperCollins\",\"Mauj\",\"Penguin\",\"Penguin\",\"Random House\",\"Rupa\",\"Random House\",\"Random House\",\"Penguin\",\"Random House\",\"Penguin\",\"Penguin\",\"Pan\",\"Mauj\",\"Penguin\",\"vikas\",\"Penguin\",null,\"Random House\",\"Penguin\",\"Penguin\",\"Jaico\",\"Vintage\",null,\"Vintage\",\"Penguin\",\"Jaico\",\"Penguin\",null,null,null,null,null,null,null,null,null,null,null,null,null,null,null,null,null,null,null,null,null,null,null,null,null],\"xaxis\":\"x\",\"y\":[198,198,180,198,176,176,176,179,177,177,174,172,205,196,196,174,196,178,179,180,178,197,175,176,221,198,177,196,179,175,175,179,217,171,180,160,178,215,197,196,178,176,180,205,204,196,190,200,211,211,178,235,196,170,170,170,180,184,179,179,179,180,197,196],\"yaxis\":\"y\",\"type\":\"scatter\"},{\"hovertemplate\":\"Genre=computer_science\\u003cbr\\u003ePublisher=%{x}\\u003cbr\\u003ePages=%{marker.size}\\u003cextra\\u003e\\u003c\\u002fextra\\u003e\",\"legendgroup\":\"computer_science\",\"marker\":{\"color\":\"#FF97FF\",\"size\":[240,232,234,235,240,213,235,237,213,217,240],\"sizemode\":\"area\",\"sizeref\":0.7075,\"symbol\":\"circle\"},\"mode\":\"markers\",\"name\":\"computer_science\",\"orientation\":\"v\",\"showlegend\":true,\"x\":[\"MIT Press\",\"O'Reilly\",\"MIT Press\",\"Prentice Hall\",\"TMH\",\"Prentice Hall\",null,null,null,null,null],\"xaxis\":\"x\",\"y\":[240,232,234,235,240,213,235,237,213,217,240],\"yaxis\":\"y\",\"type\":\"scatter\"},{\"hovertemplate\":\"Genre=nonfiction\\u003cbr\\u003ePublisher=%{x}\\u003cbr\\u003ePages=%{marker.size}\\u003cextra\\u003e\\u003c\\u002fextra\\u003e\",\"legendgroup\":\"nonfiction\",\"marker\":{\"color\":\"#FECB52\",\"size\":[198,212,197,196,196,178,197,209,212,213,213,212,212,222,213,206,179,175,197,172,162,211,214,196,211,223,217,216,177,178],\"sizemode\":\"area\",\"sizeref\":0.7075,\"symbol\":\"circle\"},\"mode\":\"markers\",\"name\":\"nonfiction\",\"orientation\":\"v\",\"showlegend\":true,\"x\":[\"Penguin\",\"Rupa\",\"Hyperion\",\"Penguin\",\"Penguin\",\"BBC\",\"Random House\",\"Picador\",\"Penguin\",\"Mauj\",\"Mauj\",\"Mauj\",\"Mauj\",\"HarperCollins\",\"Mauj\",\"Penguin\",\"Penguin\",null,\"Fontana\",\"Dell\",null,null,null,null,null,null,null,null,null,null],\"xaxis\":\"x\",\"y\":[198,212,197,196,196,178,197,209,212,213,213,212,212,222,213,206,179,175,197,172,162,211,214,196,211,223,217,216,177,178],\"yaxis\":\"y\",\"type\":\"scatter\"},{\"hovertemplate\":\"Genre=philosophy\\u003cbr\\u003ePublisher=%{x}\\u003cbr\\u003ePages=%{marker.size}\\u003cextra\\u003e\\u003c\\u002fextra\\u003e\",\"legendgroup\":\"philosophy\",\"marker\":{\"color\":\"#636efa\",\"size\":[202,170,203,203,219,172,213,198,162,203,171,189,224,214,216,216,173],\"sizemode\":\"area\",\"sizeref\":0.7075,\"symbol\":\"circle\"},\"mode\":\"markers\",\"name\":\"philosophy\",\"orientation\":\"v\",\"showlegend\":true,\"x\":[\"Penguin\",\"Pocket\",\"Routledge\",\"FreePress\",\"Penguin\",\"Vintage\",\"Routledge\",null,null,null,null,null,null,null,null,null,null],\"xaxis\":\"x\",\"y\":[202,170,203,203,219,172,213,198,162,203,171,189,224,214,216,216,173],\"yaxis\":\"y\",\"type\":\"scatter\"},{\"hovertemplate\":\"Genre=comic\\u003cbr\\u003ePublisher=%{x}\\u003cbr\\u003ePages=%{marker.size}\\u003cextra\\u003e\\u003c\\u002fextra\\u003e\",\"legendgroup\":\"comic\",\"marker\":{\"color\":\"#EF553B\",\"size\":[257,283,265,265,258,259,258,258,258,258,258,258,270],\"sizemode\":\"area\",\"sizeref\":0.7075,\"symbol\":\"circle\"},\"mode\":\"markers\",\"name\":\"comic\",\"orientation\":\"v\",\"showlegend\":true,\"x\":[null,null,null,null,null,null,null,null,null,null,null,null,null],\"xaxis\":\"x\",\"y\":[257,283,265,265,258,259,258,258,258,258,258,258,270],\"yaxis\":\"y\",\"type\":\"scatter\"}],                        {\"template\":{\"data\":{\"histogram2dcontour\":[{\"type\":\"histogram2dcontour\",\"colorbar\":{\"outlinewidth\":0,\"ticks\":\"\"},\"colorscale\":[[0.0,\"#0d0887\"],[0.1111111111111111,\"#46039f\"],[0.2222222222222222,\"#7201a8\"],[0.3333333333333333,\"#9c179e\"],[0.4444444444444444,\"#bd3786\"],[0.5555555555555556,\"#d8576b\"],[0.6666666666666666,\"#ed7953\"],[0.7777777777777778,\"#fb9f3a\"],[0.8888888888888888,\"#fdca26\"],[1.0,\"#f0f921\"]]}],\"choropleth\":[{\"type\":\"choropleth\",\"colorbar\":{\"outlinewidth\":0,\"ticks\":\"\"}}],\"histogram2d\":[{\"type\":\"histogram2d\",\"colorbar\":{\"outlinewidth\":0,\"ticks\":\"\"},\"colorscale\":[[0.0,\"#0d0887\"],[0.1111111111111111,\"#46039f\"],[0.2222222222222222,\"#7201a8\"],[0.3333333333333333,\"#9c179e\"],[0.4444444444444444,\"#bd3786\"],[0.5555555555555556,\"#d8576b\"],[0.6666666666666666,\"#ed7953\"],[0.7777777777777778,\"#fb9f3a\"],[0.8888888888888888,\"#fdca26\"],[1.0,\"#f0f921\"]]}],\"heatmap\":[{\"type\":\"heatmap\",\"colorbar\":{\"outlinewidth\":0,\"ticks\":\"\"},\"colorscale\":[[0.0,\"#0d0887\"],[0.1111111111111111,\"#46039f\"],[0.2222222222222222,\"#7201a8\"],[0.3333333333333333,\"#9c179e\"],[0.4444444444444444,\"#bd3786\"],[0.5555555555555556,\"#d8576b\"],[0.6666666666666666,\"#ed7953\"],[0.7777777777777778,\"#fb9f3a\"],[0.8888888888888888,\"#fdca26\"],[1.0,\"#f0f921\"]]}],\"heatmapgl\":[{\"type\":\"heatmapgl\",\"colorbar\":{\"outlinewidth\":0,\"ticks\":\"\"},\"colorscale\":[[0.0,\"#0d0887\"],[0.1111111111111111,\"#46039f\"],[0.2222222222222222,\"#7201a8\"],[0.3333333333333333,\"#9c179e\"],[0.4444444444444444,\"#bd3786\"],[0.5555555555555556,\"#d8576b\"],[0.6666666666666666,\"#ed7953\"],[0.7777777777777778,\"#fb9f3a\"],[0.8888888888888888,\"#fdca26\"],[1.0,\"#f0f921\"]]}],\"contourcarpet\":[{\"type\":\"contourcarpet\",\"colorbar\":{\"outlinewidth\":0,\"ticks\":\"\"}}],\"contour\":[{\"type\":\"contour\",\"colorbar\":{\"outlinewidth\":0,\"ticks\":\"\"},\"colorscale\":[[0.0,\"#0d0887\"],[0.1111111111111111,\"#46039f\"],[0.2222222222222222,\"#7201a8\"],[0.3333333333333333,\"#9c179e\"],[0.4444444444444444,\"#bd3786\"],[0.5555555555555556,\"#d8576b\"],[0.6666666666666666,\"#ed7953\"],[0.7777777777777778,\"#fb9f3a\"],[0.8888888888888888,\"#fdca26\"],[1.0,\"#f0f921\"]]}],\"surface\":[{\"type\":\"surface\",\"colorbar\":{\"outlinewidth\":0,\"ticks\":\"\"},\"colorscale\":[[0.0,\"#0d0887\"],[0.1111111111111111,\"#46039f\"],[0.2222222222222222,\"#7201a8\"],[0.3333333333333333,\"#9c179e\"],[0.4444444444444444,\"#bd3786\"],[0.5555555555555556,\"#d8576b\"],[0.6666666666666666,\"#ed7953\"],[0.7777777777777778,\"#fb9f3a\"],[0.8888888888888888,\"#fdca26\"],[1.0,\"#f0f921\"]]}],\"mesh3d\":[{\"type\":\"mesh3d\",\"colorbar\":{\"outlinewidth\":0,\"ticks\":\"\"}}],\"scatter\":[{\"fillpattern\":{\"fillmode\":\"overlay\",\"size\":10,\"solidity\":0.2},\"type\":\"scatter\"}],\"parcoords\":[{\"type\":\"parcoords\",\"line\":{\"colorbar\":{\"outlinewidth\":0,\"ticks\":\"\"}}}],\"scatterpolargl\":[{\"type\":\"scatterpolargl\",\"marker\":{\"colorbar\":{\"outlinewidth\":0,\"ticks\":\"\"}}}],\"bar\":[{\"error_x\":{\"color\":\"#2a3f5f\"},\"error_y\":{\"color\":\"#2a3f5f\"},\"marker\":{\"line\":{\"color\":\"#E5ECF6\",\"width\":0.5},\"pattern\":{\"fillmode\":\"overlay\",\"size\":10,\"solidity\":0.2}},\"type\":\"bar\"}],\"scattergeo\":[{\"type\":\"scattergeo\",\"marker\":{\"colorbar\":{\"outlinewidth\":0,\"ticks\":\"\"}}}],\"scatterpolar\":[{\"type\":\"scatterpolar\",\"marker\":{\"colorbar\":{\"outlinewidth\":0,\"ticks\":\"\"}}}],\"histogram\":[{\"marker\":{\"pattern\":{\"fillmode\":\"overlay\",\"size\":10,\"solidity\":0.2}},\"type\":\"histogram\"}],\"scattergl\":[{\"type\":\"scattergl\",\"marker\":{\"colorbar\":{\"outlinewidth\":0,\"ticks\":\"\"}}}],\"scatter3d\":[{\"type\":\"scatter3d\",\"line\":{\"colorbar\":{\"outlinewidth\":0,\"ticks\":\"\"}},\"marker\":{\"colorbar\":{\"outlinewidth\":0,\"ticks\":\"\"}}}],\"scattermapbox\":[{\"type\":\"scattermapbox\",\"marker\":{\"colorbar\":{\"outlinewidth\":0,\"ticks\":\"\"}}}],\"scatterternary\":[{\"type\":\"scatterternary\",\"marker\":{\"colorbar\":{\"outlinewidth\":0,\"ticks\":\"\"}}}],\"scattercarpet\":[{\"type\":\"scattercarpet\",\"marker\":{\"colorbar\":{\"outlinewidth\":0,\"ticks\":\"\"}}}],\"carpet\":[{\"aaxis\":{\"endlinecolor\":\"#2a3f5f\",\"gridcolor\":\"white\",\"linecolor\":\"white\",\"minorgridcolor\":\"white\",\"startlinecolor\":\"#2a3f5f\"},\"baxis\":{\"endlinecolor\":\"#2a3f5f\",\"gridcolor\":\"white\",\"linecolor\":\"white\",\"minorgridcolor\":\"white\",\"startlinecolor\":\"#2a3f5f\"},\"type\":\"carpet\"}],\"table\":[{\"cells\":{\"fill\":{\"color\":\"#EBF0F8\"},\"line\":{\"color\":\"white\"}},\"header\":{\"fill\":{\"color\":\"#C8D4E3\"},\"line\":{\"color\":\"white\"}},\"type\":\"table\"}],\"barpolar\":[{\"marker\":{\"line\":{\"color\":\"#E5ECF6\",\"width\":0.5},\"pattern\":{\"fillmode\":\"overlay\",\"size\":10,\"solidity\":0.2}},\"type\":\"barpolar\"}],\"pie\":[{\"automargin\":true,\"type\":\"pie\"}]},\"layout\":{\"autotypenumbers\":\"strict\",\"colorway\":[\"#636efa\",\"#EF553B\",\"#00cc96\",\"#ab63fa\",\"#FFA15A\",\"#19d3f3\",\"#FF6692\",\"#B6E880\",\"#FF97FF\",\"#FECB52\"],\"font\":{\"color\":\"#2a3f5f\"},\"hovermode\":\"closest\",\"hoverlabel\":{\"align\":\"left\"},\"paper_bgcolor\":\"white\",\"plot_bgcolor\":\"#E5ECF6\",\"polar\":{\"bgcolor\":\"#E5ECF6\",\"angularaxis\":{\"gridcolor\":\"white\",\"linecolor\":\"white\",\"ticks\":\"\"},\"radialaxis\":{\"gridcolor\":\"white\",\"linecolor\":\"white\",\"ticks\":\"\"}},\"ternary\":{\"bgcolor\":\"#E5ECF6\",\"aaxis\":{\"gridcolor\":\"white\",\"linecolor\":\"white\",\"ticks\":\"\"},\"baxis\":{\"gridcolor\":\"white\",\"linecolor\":\"white\",\"ticks\":\"\"},\"caxis\":{\"gridcolor\":\"white\",\"linecolor\":\"white\",\"ticks\":\"\"}},\"coloraxis\":{\"colorbar\":{\"outlinewidth\":0,\"ticks\":\"\"}},\"colorscale\":{\"sequential\":[[0.0,\"#0d0887\"],[0.1111111111111111,\"#46039f\"],[0.2222222222222222,\"#7201a8\"],[0.3333333333333333,\"#9c179e\"],[0.4444444444444444,\"#bd3786\"],[0.5555555555555556,\"#d8576b\"],[0.6666666666666666,\"#ed7953\"],[0.7777777777777778,\"#fb9f3a\"],[0.8888888888888888,\"#fdca26\"],[1.0,\"#f0f921\"]],\"sequentialminus\":[[0.0,\"#0d0887\"],[0.1111111111111111,\"#46039f\"],[0.2222222222222222,\"#7201a8\"],[0.3333333333333333,\"#9c179e\"],[0.4444444444444444,\"#bd3786\"],[0.5555555555555556,\"#d8576b\"],[0.6666666666666666,\"#ed7953\"],[0.7777777777777778,\"#fb9f3a\"],[0.8888888888888888,\"#fdca26\"],[1.0,\"#f0f921\"]],\"diverging\":[[0,\"#8e0152\"],[0.1,\"#c51b7d\"],[0.2,\"#de77ae\"],[0.3,\"#f1b6da\"],[0.4,\"#fde0ef\"],[0.5,\"#f7f7f7\"],[0.6,\"#e6f5d0\"],[0.7,\"#b8e186\"],[0.8,\"#7fbc41\"],[0.9,\"#4d9221\"],[1,\"#276419\"]]},\"xaxis\":{\"gridcolor\":\"white\",\"linecolor\":\"white\",\"ticks\":\"\",\"title\":{\"standoff\":15},\"zerolinecolor\":\"white\",\"automargin\":true,\"zerolinewidth\":2},\"yaxis\":{\"gridcolor\":\"white\",\"linecolor\":\"white\",\"ticks\":\"\",\"title\":{\"standoff\":15},\"zerolinecolor\":\"white\",\"automargin\":true,\"zerolinewidth\":2},\"scene\":{\"xaxis\":{\"backgroundcolor\":\"#E5ECF6\",\"gridcolor\":\"white\",\"linecolor\":\"white\",\"showbackground\":true,\"ticks\":\"\",\"zerolinecolor\":\"white\",\"gridwidth\":2},\"yaxis\":{\"backgroundcolor\":\"#E5ECF6\",\"gridcolor\":\"white\",\"linecolor\":\"white\",\"showbackground\":true,\"ticks\":\"\",\"zerolinecolor\":\"white\",\"gridwidth\":2},\"zaxis\":{\"backgroundcolor\":\"#E5ECF6\",\"gridcolor\":\"white\",\"linecolor\":\"white\",\"showbackground\":true,\"ticks\":\"\",\"zerolinecolor\":\"white\",\"gridwidth\":2}},\"shapedefaults\":{\"line\":{\"color\":\"#2a3f5f\"}},\"annotationdefaults\":{\"arrowcolor\":\"#2a3f5f\",\"arrowhead\":0,\"arrowwidth\":1},\"geo\":{\"bgcolor\":\"white\",\"landcolor\":\"#E5ECF6\",\"subunitcolor\":\"white\",\"showland\":true,\"showlakes\":true,\"lakecolor\":\"white\"},\"title\":{\"x\":0.05},\"mapbox\":{\"style\":\"light\"}}},\"xaxis\":{\"anchor\":\"y\",\"domain\":[0.0,1.0],\"title\":{\"text\":\"Publisher\"}},\"yaxis\":{\"anchor\":\"x\",\"domain\":[0.0,1.0],\"title\":{\"text\":\"Pages\"}},\"legend\":{\"title\":{\"text\":\"Genre\"},\"tracegroupgap\":0,\"itemsizing\":\"constant\"},\"title\":{\"text\":\"Pages by Publisher and Genre\"}},                        {\"responsive\": true}                    ).then(function(){\n",
       "                            \n",
       "var gd = document.getElementById('a98b1a3a-9ed0-44f2-9c1c-54a4317c0ab0');\n",
       "var x = new MutationObserver(function (mutations, observer) {{\n",
       "        var display = window.getComputedStyle(gd).display;\n",
       "        if (!display || display === 'none') {{\n",
       "            console.log([gd, 'removed!']);\n",
       "            Plotly.purge(gd);\n",
       "            observer.disconnect();\n",
       "        }}\n",
       "}});\n",
       "\n",
       "// Listen for the removal of the full notebook cells\n",
       "var notebookContainer = gd.closest('#notebook-container');\n",
       "if (notebookContainer) {{\n",
       "    x.observe(notebookContainer, {childList: true});\n",
       "}}\n",
       "\n",
       "// Listen for the clearing of the current output cell\n",
       "var outputEl = gd.closest('.output');\n",
       "if (outputEl) {{\n",
       "    x.observe(outputEl, {childList: true});\n",
       "}}\n",
       "\n",
       "                        })                };                });            </script>        </div>"
      ]
     },
     "metadata": {},
     "output_type": "display_data"
    }
   ],
   "source": [
    "fig = px.scatter(books_df, x='Publisher', y='Pages', color='Genre', size='Pages',\n",
    "                 title='Pages by Publisher and Genre')\n",
    "fig.show()"
   ]
  },
  {
   "cell_type": "markdown",
   "id": "143eec21-db57-4fd7-9eea-ed10d425282d",
   "metadata": {},
   "source": [
    "## Exercises 1\n",
    "\n",
    "1. Create a few visualizations for `Financial sample.xlsx`.\n",
    "\n",
    "## Dash\n",
    "\n",
    "Plotly Dash is a Python framework for building interactive web applications and data visualizations without needing extensive web development skills. It integrates seamlessly with Plotly’s powerful charting library and allows users to create dashboards that can display complex data insights. Dash applications are built using pure Python, making it accessible for data scientists and analysts to design, style, and deploy responsive apps. \n",
    "\n",
    "Dash simplifies the development process with prebuilt components for layouts, interactivity, and callbacks, which link UI actions to Python functions. Its flexibility makes it suitable for various industries, from finance to healthcare. See [official Dash documentation](https://dash.plotly.com)."
   ]
  }
 ],
 "metadata": {
  "kernelspec": {
   "display_name": "Python 3 (ipykernel)",
   "language": "python",
   "name": "python3"
  },
  "language_info": {
   "codemirror_mode": {
    "name": "ipython",
    "version": 3
   },
   "file_extension": ".py",
   "mimetype": "text/x-python",
   "name": "python",
   "nbconvert_exporter": "python",
   "pygments_lexer": "ipython3",
   "version": "3.13.0"
  }
 },
 "nbformat": 4,
 "nbformat_minor": 5
}
